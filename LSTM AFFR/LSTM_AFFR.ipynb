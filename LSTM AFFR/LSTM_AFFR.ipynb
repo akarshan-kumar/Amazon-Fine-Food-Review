{
  "nbformat": 4,
  "nbformat_minor": 0,
  "metadata": {
    "colab": {
      "name": "LSTM_AFFR.ipynb",
      "provenance": [],
      "collapsed_sections": []
    },
    "kernelspec": {
      "display_name": "Python 3",
      "language": "python",
      "name": "python3"
    },
    "widgets": {
      "application/vnd.jupyter.widget-state+json": {
        "3dfaac9d89a34c7b92cfbfb44011765a": {
          "model_module": "@jupyter-widgets/controls",
          "model_name": "HBoxModel",
          "state": {
            "_view_name": "HBoxView",
            "_dom_classes": [],
            "_model_name": "HBoxModel",
            "_view_module": "@jupyter-widgets/controls",
            "_model_module_version": "1.5.0",
            "_view_count": null,
            "_view_module_version": "1.5.0",
            "box_style": "",
            "layout": "IPY_MODEL_b41742df4ba34cf9885a4b50945c9cbc",
            "_model_module": "@jupyter-widgets/controls",
            "children": [
              "IPY_MODEL_69fa9e92855f48378a58d4c80c9de833",
              "IPY_MODEL_bf938b1bf8654797a1873ea47d1ddfd4"
            ]
          }
        },
        "b41742df4ba34cf9885a4b50945c9cbc": {
          "model_module": "@jupyter-widgets/base",
          "model_name": "LayoutModel",
          "state": {
            "_view_name": "LayoutView",
            "grid_template_rows": null,
            "right": null,
            "justify_content": null,
            "_view_module": "@jupyter-widgets/base",
            "overflow": null,
            "_model_module_version": "1.2.0",
            "_view_count": null,
            "flex_flow": null,
            "width": null,
            "min_width": null,
            "border": null,
            "align_items": null,
            "bottom": null,
            "_model_module": "@jupyter-widgets/base",
            "top": null,
            "grid_column": null,
            "overflow_y": null,
            "overflow_x": null,
            "grid_auto_flow": null,
            "grid_area": null,
            "grid_template_columns": null,
            "flex": null,
            "_model_name": "LayoutModel",
            "justify_items": null,
            "grid_row": null,
            "max_height": null,
            "align_content": null,
            "visibility": null,
            "align_self": null,
            "height": null,
            "min_height": null,
            "padding": null,
            "grid_auto_rows": null,
            "grid_gap": null,
            "max_width": null,
            "order": null,
            "_view_module_version": "1.2.0",
            "grid_template_areas": null,
            "object_position": null,
            "object_fit": null,
            "grid_auto_columns": null,
            "margin": null,
            "display": null,
            "left": null
          }
        },
        "69fa9e92855f48378a58d4c80c9de833": {
          "model_module": "@jupyter-widgets/controls",
          "model_name": "FloatProgressModel",
          "state": {
            "_view_name": "ProgressView",
            "style": "IPY_MODEL_1f7ea95a219f425d971d917c581f9864",
            "_dom_classes": [],
            "description": "100%",
            "_model_name": "FloatProgressModel",
            "bar_style": "success",
            "max": 40000,
            "_view_module": "@jupyter-widgets/controls",
            "_model_module_version": "1.5.0",
            "value": 40000,
            "_view_count": null,
            "_view_module_version": "1.5.0",
            "orientation": "horizontal",
            "min": 0,
            "description_tooltip": null,
            "_model_module": "@jupyter-widgets/controls",
            "layout": "IPY_MODEL_d4e1be00f4e44542b6fcbb453133dc86"
          }
        },
        "bf938b1bf8654797a1873ea47d1ddfd4": {
          "model_module": "@jupyter-widgets/controls",
          "model_name": "HTMLModel",
          "state": {
            "_view_name": "HTMLView",
            "style": "IPY_MODEL_daa93b4f6526441ca00210732e144795",
            "_dom_classes": [],
            "description": "",
            "_model_name": "HTMLModel",
            "placeholder": "​",
            "_view_module": "@jupyter-widgets/controls",
            "_model_module_version": "1.5.0",
            "value": " 40000/40000 [03:32&lt;00:00, 188.43it/s]",
            "_view_count": null,
            "_view_module_version": "1.5.0",
            "description_tooltip": null,
            "_model_module": "@jupyter-widgets/controls",
            "layout": "IPY_MODEL_b777b35897ac42d592862561a87bfcea"
          }
        },
        "1f7ea95a219f425d971d917c581f9864": {
          "model_module": "@jupyter-widgets/controls",
          "model_name": "ProgressStyleModel",
          "state": {
            "_view_name": "StyleView",
            "_model_name": "ProgressStyleModel",
            "description_width": "initial",
            "_view_module": "@jupyter-widgets/base",
            "_model_module_version": "1.5.0",
            "_view_count": null,
            "_view_module_version": "1.2.0",
            "bar_color": null,
            "_model_module": "@jupyter-widgets/controls"
          }
        },
        "d4e1be00f4e44542b6fcbb453133dc86": {
          "model_module": "@jupyter-widgets/base",
          "model_name": "LayoutModel",
          "state": {
            "_view_name": "LayoutView",
            "grid_template_rows": null,
            "right": null,
            "justify_content": null,
            "_view_module": "@jupyter-widgets/base",
            "overflow": null,
            "_model_module_version": "1.2.0",
            "_view_count": null,
            "flex_flow": null,
            "width": null,
            "min_width": null,
            "border": null,
            "align_items": null,
            "bottom": null,
            "_model_module": "@jupyter-widgets/base",
            "top": null,
            "grid_column": null,
            "overflow_y": null,
            "overflow_x": null,
            "grid_auto_flow": null,
            "grid_area": null,
            "grid_template_columns": null,
            "flex": null,
            "_model_name": "LayoutModel",
            "justify_items": null,
            "grid_row": null,
            "max_height": null,
            "align_content": null,
            "visibility": null,
            "align_self": null,
            "height": null,
            "min_height": null,
            "padding": null,
            "grid_auto_rows": null,
            "grid_gap": null,
            "max_width": null,
            "order": null,
            "_view_module_version": "1.2.0",
            "grid_template_areas": null,
            "object_position": null,
            "object_fit": null,
            "grid_auto_columns": null,
            "margin": null,
            "display": null,
            "left": null
          }
        },
        "daa93b4f6526441ca00210732e144795": {
          "model_module": "@jupyter-widgets/controls",
          "model_name": "DescriptionStyleModel",
          "state": {
            "_view_name": "StyleView",
            "_model_name": "DescriptionStyleModel",
            "description_width": "",
            "_view_module": "@jupyter-widgets/base",
            "_model_module_version": "1.5.0",
            "_view_count": null,
            "_view_module_version": "1.2.0",
            "_model_module": "@jupyter-widgets/controls"
          }
        },
        "b777b35897ac42d592862561a87bfcea": {
          "model_module": "@jupyter-widgets/base",
          "model_name": "LayoutModel",
          "state": {
            "_view_name": "LayoutView",
            "grid_template_rows": null,
            "right": null,
            "justify_content": null,
            "_view_module": "@jupyter-widgets/base",
            "overflow": null,
            "_model_module_version": "1.2.0",
            "_view_count": null,
            "flex_flow": null,
            "width": null,
            "min_width": null,
            "border": null,
            "align_items": null,
            "bottom": null,
            "_model_module": "@jupyter-widgets/base",
            "top": null,
            "grid_column": null,
            "overflow_y": null,
            "overflow_x": null,
            "grid_auto_flow": null,
            "grid_area": null,
            "grid_template_columns": null,
            "flex": null,
            "_model_name": "LayoutModel",
            "justify_items": null,
            "grid_row": null,
            "max_height": null,
            "align_content": null,
            "visibility": null,
            "align_self": null,
            "height": null,
            "min_height": null,
            "padding": null,
            "grid_auto_rows": null,
            "grid_gap": null,
            "max_width": null,
            "order": null,
            "_view_module_version": "1.2.0",
            "grid_template_areas": null,
            "object_position": null,
            "object_fit": null,
            "grid_auto_columns": null,
            "margin": null,
            "display": null,
            "left": null
          }
        },
        "644f3bec13e64bb2b03460b8b199abfe": {
          "model_module": "@jupyter-widgets/controls",
          "model_name": "HBoxModel",
          "state": {
            "_view_name": "HBoxView",
            "_dom_classes": [],
            "_model_name": "HBoxModel",
            "_view_module": "@jupyter-widgets/controls",
            "_model_module_version": "1.5.0",
            "_view_count": null,
            "_view_module_version": "1.5.0",
            "box_style": "",
            "layout": "IPY_MODEL_0f60debdc8004f618e9280b900de6cbf",
            "_model_module": "@jupyter-widgets/controls",
            "children": [
              "IPY_MODEL_81c49d3f2c6e4889bfd8078a406a317b",
              "IPY_MODEL_148717607748469499c8bbd34b29007e"
            ]
          }
        },
        "0f60debdc8004f618e9280b900de6cbf": {
          "model_module": "@jupyter-widgets/base",
          "model_name": "LayoutModel",
          "state": {
            "_view_name": "LayoutView",
            "grid_template_rows": null,
            "right": null,
            "justify_content": null,
            "_view_module": "@jupyter-widgets/base",
            "overflow": null,
            "_model_module_version": "1.2.0",
            "_view_count": null,
            "flex_flow": null,
            "width": null,
            "min_width": null,
            "border": null,
            "align_items": null,
            "bottom": null,
            "_model_module": "@jupyter-widgets/base",
            "top": null,
            "grid_column": null,
            "overflow_y": null,
            "overflow_x": null,
            "grid_auto_flow": null,
            "grid_area": null,
            "grid_template_columns": null,
            "flex": null,
            "_model_name": "LayoutModel",
            "justify_items": null,
            "grid_row": null,
            "max_height": null,
            "align_content": null,
            "visibility": null,
            "align_self": null,
            "height": null,
            "min_height": null,
            "padding": null,
            "grid_auto_rows": null,
            "grid_gap": null,
            "max_width": null,
            "order": null,
            "_view_module_version": "1.2.0",
            "grid_template_areas": null,
            "object_position": null,
            "object_fit": null,
            "grid_auto_columns": null,
            "margin": null,
            "display": null,
            "left": null
          }
        },
        "81c49d3f2c6e4889bfd8078a406a317b": {
          "model_module": "@jupyter-widgets/controls",
          "model_name": "FloatProgressModel",
          "state": {
            "_view_name": "ProgressView",
            "style": "IPY_MODEL_b6ff81dd309a4791afe2f36f5af07df2",
            "_dom_classes": [],
            "description": "100%",
            "_model_name": "FloatProgressModel",
            "bar_style": "success",
            "max": 3,
            "_view_module": "@jupyter-widgets/controls",
            "_model_module_version": "1.5.0",
            "value": 3,
            "_view_count": null,
            "_view_module_version": "1.5.0",
            "orientation": "horizontal",
            "min": 0,
            "description_tooltip": null,
            "_model_module": "@jupyter-widgets/controls",
            "layout": "IPY_MODEL_1715561430934a9aa33a923936b12344"
          }
        },
        "148717607748469499c8bbd34b29007e": {
          "model_module": "@jupyter-widgets/controls",
          "model_name": "HTMLModel",
          "state": {
            "_view_name": "HTMLView",
            "style": "IPY_MODEL_66b90b7e79314fb0b2e207548b4c035d",
            "_dom_classes": [],
            "description": "",
            "_model_name": "HTMLModel",
            "placeholder": "​",
            "_view_module": "@jupyter-widgets/controls",
            "_model_module_version": "1.5.0",
            "value": " 3/3 [00:03&lt;00:00,  1.07s/it]",
            "_view_count": null,
            "_view_module_version": "1.5.0",
            "description_tooltip": null,
            "_model_module": "@jupyter-widgets/controls",
            "layout": "IPY_MODEL_a9826c1e1e22499aa10c2087afd87c65"
          }
        },
        "b6ff81dd309a4791afe2f36f5af07df2": {
          "model_module": "@jupyter-widgets/controls",
          "model_name": "ProgressStyleModel",
          "state": {
            "_view_name": "StyleView",
            "_model_name": "ProgressStyleModel",
            "description_width": "initial",
            "_view_module": "@jupyter-widgets/base",
            "_model_module_version": "1.5.0",
            "_view_count": null,
            "_view_module_version": "1.2.0",
            "bar_color": null,
            "_model_module": "@jupyter-widgets/controls"
          }
        },
        "1715561430934a9aa33a923936b12344": {
          "model_module": "@jupyter-widgets/base",
          "model_name": "LayoutModel",
          "state": {
            "_view_name": "LayoutView",
            "grid_template_rows": null,
            "right": null,
            "justify_content": null,
            "_view_module": "@jupyter-widgets/base",
            "overflow": null,
            "_model_module_version": "1.2.0",
            "_view_count": null,
            "flex_flow": null,
            "width": null,
            "min_width": null,
            "border": null,
            "align_items": null,
            "bottom": null,
            "_model_module": "@jupyter-widgets/base",
            "top": null,
            "grid_column": null,
            "overflow_y": null,
            "overflow_x": null,
            "grid_auto_flow": null,
            "grid_area": null,
            "grid_template_columns": null,
            "flex": null,
            "_model_name": "LayoutModel",
            "justify_items": null,
            "grid_row": null,
            "max_height": null,
            "align_content": null,
            "visibility": null,
            "align_self": null,
            "height": null,
            "min_height": null,
            "padding": null,
            "grid_auto_rows": null,
            "grid_gap": null,
            "max_width": null,
            "order": null,
            "_view_module_version": "1.2.0",
            "grid_template_areas": null,
            "object_position": null,
            "object_fit": null,
            "grid_auto_columns": null,
            "margin": null,
            "display": null,
            "left": null
          }
        },
        "66b90b7e79314fb0b2e207548b4c035d": {
          "model_module": "@jupyter-widgets/controls",
          "model_name": "DescriptionStyleModel",
          "state": {
            "_view_name": "StyleView",
            "_model_name": "DescriptionStyleModel",
            "description_width": "",
            "_view_module": "@jupyter-widgets/base",
            "_model_module_version": "1.5.0",
            "_view_count": null,
            "_view_module_version": "1.2.0",
            "_model_module": "@jupyter-widgets/controls"
          }
        },
        "a9826c1e1e22499aa10c2087afd87c65": {
          "model_module": "@jupyter-widgets/base",
          "model_name": "LayoutModel",
          "state": {
            "_view_name": "LayoutView",
            "grid_template_rows": null,
            "right": null,
            "justify_content": null,
            "_view_module": "@jupyter-widgets/base",
            "overflow": null,
            "_model_module_version": "1.2.0",
            "_view_count": null,
            "flex_flow": null,
            "width": null,
            "min_width": null,
            "border": null,
            "align_items": null,
            "bottom": null,
            "_model_module": "@jupyter-widgets/base",
            "top": null,
            "grid_column": null,
            "overflow_y": null,
            "overflow_x": null,
            "grid_auto_flow": null,
            "grid_area": null,
            "grid_template_columns": null,
            "flex": null,
            "_model_name": "LayoutModel",
            "justify_items": null,
            "grid_row": null,
            "max_height": null,
            "align_content": null,
            "visibility": null,
            "align_self": null,
            "height": null,
            "min_height": null,
            "padding": null,
            "grid_auto_rows": null,
            "grid_gap": null,
            "max_width": null,
            "order": null,
            "_view_module_version": "1.2.0",
            "grid_template_areas": null,
            "object_position": null,
            "object_fit": null,
            "grid_auto_columns": null,
            "margin": null,
            "display": null,
            "left": null
          }
        },
        "06f8ad73b67f41318e890863268b03ef": {
          "model_module": "@jupyter-widgets/controls",
          "model_name": "HBoxModel",
          "state": {
            "_view_name": "HBoxView",
            "_dom_classes": [],
            "_model_name": "HBoxModel",
            "_view_module": "@jupyter-widgets/controls",
            "_model_module_version": "1.5.0",
            "_view_count": null,
            "_view_module_version": "1.5.0",
            "box_style": "",
            "layout": "IPY_MODEL_fca6343eaf024633989029be278bf4e9",
            "_model_module": "@jupyter-widgets/controls",
            "children": [
              "IPY_MODEL_db324610418f405fac9c4dad7725d345",
              "IPY_MODEL_960ac1de1b414a73a3eff051184bb824"
            ]
          }
        },
        "fca6343eaf024633989029be278bf4e9": {
          "model_module": "@jupyter-widgets/base",
          "model_name": "LayoutModel",
          "state": {
            "_view_name": "LayoutView",
            "grid_template_rows": null,
            "right": null,
            "justify_content": null,
            "_view_module": "@jupyter-widgets/base",
            "overflow": null,
            "_model_module_version": "1.2.0",
            "_view_count": null,
            "flex_flow": null,
            "width": null,
            "min_width": null,
            "border": null,
            "align_items": null,
            "bottom": null,
            "_model_module": "@jupyter-widgets/base",
            "top": null,
            "grid_column": null,
            "overflow_y": null,
            "overflow_x": null,
            "grid_auto_flow": null,
            "grid_area": null,
            "grid_template_columns": null,
            "flex": null,
            "_model_name": "LayoutModel",
            "justify_items": null,
            "grid_row": null,
            "max_height": null,
            "align_content": null,
            "visibility": null,
            "align_self": null,
            "height": null,
            "min_height": null,
            "padding": null,
            "grid_auto_rows": null,
            "grid_gap": null,
            "max_width": null,
            "order": null,
            "_view_module_version": "1.2.0",
            "grid_template_areas": null,
            "object_position": null,
            "object_fit": null,
            "grid_auto_columns": null,
            "margin": null,
            "display": null,
            "left": null
          }
        },
        "db324610418f405fac9c4dad7725d345": {
          "model_module": "@jupyter-widgets/controls",
          "model_name": "FloatProgressModel",
          "state": {
            "_view_name": "ProgressView",
            "style": "IPY_MODEL_bfc57eab7e5a40feaf5cf665789d5009",
            "_dom_classes": [],
            "description": "100%",
            "_model_name": "FloatProgressModel",
            "bar_style": "success",
            "max": 3,
            "_view_module": "@jupyter-widgets/controls",
            "_model_module_version": "1.5.0",
            "value": 3,
            "_view_count": null,
            "_view_module_version": "1.5.0",
            "orientation": "horizontal",
            "min": 0,
            "description_tooltip": null,
            "_model_module": "@jupyter-widgets/controls",
            "layout": "IPY_MODEL_2fed281e42d24dfa9bf09fefae45343d"
          }
        },
        "960ac1de1b414a73a3eff051184bb824": {
          "model_module": "@jupyter-widgets/controls",
          "model_name": "HTMLModel",
          "state": {
            "_view_name": "HTMLView",
            "style": "IPY_MODEL_faeddc2346534873a2ab5fc21e8207d0",
            "_dom_classes": [],
            "description": "",
            "_model_name": "HTMLModel",
            "placeholder": "​",
            "_view_module": "@jupyter-widgets/controls",
            "_model_module_version": "1.5.0",
            "value": " 3/3 [00:00&lt;00:00, 41.28it/s]",
            "_view_count": null,
            "_view_module_version": "1.5.0",
            "description_tooltip": null,
            "_model_module": "@jupyter-widgets/controls",
            "layout": "IPY_MODEL_9dc5065551d845d2af529ea4eb2bfffe"
          }
        },
        "bfc57eab7e5a40feaf5cf665789d5009": {
          "model_module": "@jupyter-widgets/controls",
          "model_name": "ProgressStyleModel",
          "state": {
            "_view_name": "StyleView",
            "_model_name": "ProgressStyleModel",
            "description_width": "initial",
            "_view_module": "@jupyter-widgets/base",
            "_model_module_version": "1.5.0",
            "_view_count": null,
            "_view_module_version": "1.2.0",
            "bar_color": null,
            "_model_module": "@jupyter-widgets/controls"
          }
        },
        "2fed281e42d24dfa9bf09fefae45343d": {
          "model_module": "@jupyter-widgets/base",
          "model_name": "LayoutModel",
          "state": {
            "_view_name": "LayoutView",
            "grid_template_rows": null,
            "right": null,
            "justify_content": null,
            "_view_module": "@jupyter-widgets/base",
            "overflow": null,
            "_model_module_version": "1.2.0",
            "_view_count": null,
            "flex_flow": null,
            "width": null,
            "min_width": null,
            "border": null,
            "align_items": null,
            "bottom": null,
            "_model_module": "@jupyter-widgets/base",
            "top": null,
            "grid_column": null,
            "overflow_y": null,
            "overflow_x": null,
            "grid_auto_flow": null,
            "grid_area": null,
            "grid_template_columns": null,
            "flex": null,
            "_model_name": "LayoutModel",
            "justify_items": null,
            "grid_row": null,
            "max_height": null,
            "align_content": null,
            "visibility": null,
            "align_self": null,
            "height": null,
            "min_height": null,
            "padding": null,
            "grid_auto_rows": null,
            "grid_gap": null,
            "max_width": null,
            "order": null,
            "_view_module_version": "1.2.0",
            "grid_template_areas": null,
            "object_position": null,
            "object_fit": null,
            "grid_auto_columns": null,
            "margin": null,
            "display": null,
            "left": null
          }
        },
        "faeddc2346534873a2ab5fc21e8207d0": {
          "model_module": "@jupyter-widgets/controls",
          "model_name": "DescriptionStyleModel",
          "state": {
            "_view_name": "StyleView",
            "_model_name": "DescriptionStyleModel",
            "description_width": "",
            "_view_module": "@jupyter-widgets/base",
            "_model_module_version": "1.5.0",
            "_view_count": null,
            "_view_module_version": "1.2.0",
            "_model_module": "@jupyter-widgets/controls"
          }
        },
        "9dc5065551d845d2af529ea4eb2bfffe": {
          "model_module": "@jupyter-widgets/base",
          "model_name": "LayoutModel",
          "state": {
            "_view_name": "LayoutView",
            "grid_template_rows": null,
            "right": null,
            "justify_content": null,
            "_view_module": "@jupyter-widgets/base",
            "overflow": null,
            "_model_module_version": "1.2.0",
            "_view_count": null,
            "flex_flow": null,
            "width": null,
            "min_width": null,
            "border": null,
            "align_items": null,
            "bottom": null,
            "_model_module": "@jupyter-widgets/base",
            "top": null,
            "grid_column": null,
            "overflow_y": null,
            "overflow_x": null,
            "grid_auto_flow": null,
            "grid_area": null,
            "grid_template_columns": null,
            "flex": null,
            "_model_name": "LayoutModel",
            "justify_items": null,
            "grid_row": null,
            "max_height": null,
            "align_content": null,
            "visibility": null,
            "align_self": null,
            "height": null,
            "min_height": null,
            "padding": null,
            "grid_auto_rows": null,
            "grid_gap": null,
            "max_width": null,
            "order": null,
            "_view_module_version": "1.2.0",
            "grid_template_areas": null,
            "object_position": null,
            "object_fit": null,
            "grid_auto_columns": null,
            "margin": null,
            "display": null,
            "left": null
          }
        },
        "4de8b662861d43f3abf55d9aca57393c": {
          "model_module": "@jupyter-widgets/controls",
          "model_name": "HBoxModel",
          "state": {
            "_view_name": "HBoxView",
            "_dom_classes": [],
            "_model_name": "HBoxModel",
            "_view_module": "@jupyter-widgets/controls",
            "_model_module_version": "1.5.0",
            "_view_count": null,
            "_view_module_version": "1.5.0",
            "box_style": "",
            "layout": "IPY_MODEL_120e7b0a1c0e4d85b756603fc3658b76",
            "_model_module": "@jupyter-widgets/controls",
            "children": [
              "IPY_MODEL_4c96c70b9d3d4569b48c3c7179b068b7",
              "IPY_MODEL_346b0061739d4d708fa3252519a9b438"
            ]
          }
        },
        "120e7b0a1c0e4d85b756603fc3658b76": {
          "model_module": "@jupyter-widgets/base",
          "model_name": "LayoutModel",
          "state": {
            "_view_name": "LayoutView",
            "grid_template_rows": null,
            "right": null,
            "justify_content": null,
            "_view_module": "@jupyter-widgets/base",
            "overflow": null,
            "_model_module_version": "1.2.0",
            "_view_count": null,
            "flex_flow": null,
            "width": null,
            "min_width": null,
            "border": null,
            "align_items": null,
            "bottom": null,
            "_model_module": "@jupyter-widgets/base",
            "top": null,
            "grid_column": null,
            "overflow_y": null,
            "overflow_x": null,
            "grid_auto_flow": null,
            "grid_area": null,
            "grid_template_columns": null,
            "flex": null,
            "_model_name": "LayoutModel",
            "justify_items": null,
            "grid_row": null,
            "max_height": null,
            "align_content": null,
            "visibility": null,
            "align_self": null,
            "height": null,
            "min_height": null,
            "padding": null,
            "grid_auto_rows": null,
            "grid_gap": null,
            "max_width": null,
            "order": null,
            "_view_module_version": "1.2.0",
            "grid_template_areas": null,
            "object_position": null,
            "object_fit": null,
            "grid_auto_columns": null,
            "margin": null,
            "display": null,
            "left": null
          }
        },
        "4c96c70b9d3d4569b48c3c7179b068b7": {
          "model_module": "@jupyter-widgets/controls",
          "model_name": "FloatProgressModel",
          "state": {
            "_view_name": "ProgressView",
            "style": "IPY_MODEL_b91a281b7c0e4798986186e057ff9683",
            "_dom_classes": [],
            "description": "100%",
            "_model_name": "FloatProgressModel",
            "bar_style": "success",
            "max": 104,
            "_view_module": "@jupyter-widgets/controls",
            "_model_module_version": "1.5.0",
            "value": 104,
            "_view_count": null,
            "_view_module_version": "1.5.0",
            "orientation": "horizontal",
            "min": 0,
            "description_tooltip": null,
            "_model_module": "@jupyter-widgets/controls",
            "layout": "IPY_MODEL_f8ea879c28df49918463b59ff2c4b094"
          }
        },
        "346b0061739d4d708fa3252519a9b438": {
          "model_module": "@jupyter-widgets/controls",
          "model_name": "HTMLModel",
          "state": {
            "_view_name": "HTMLView",
            "style": "IPY_MODEL_a3fbb06b6f3848849323c8cbc54ea6c7",
            "_dom_classes": [],
            "description": "",
            "_model_name": "HTMLModel",
            "placeholder": "​",
            "_view_module": "@jupyter-widgets/controls",
            "_model_module_version": "1.5.0",
            "value": " 104/104 [00:00&lt;00:00, 2586.05it/s]",
            "_view_count": null,
            "_view_module_version": "1.5.0",
            "description_tooltip": null,
            "_model_module": "@jupyter-widgets/controls",
            "layout": "IPY_MODEL_87e49a3f7a554d69abc74b3fcfc418c0"
          }
        },
        "b91a281b7c0e4798986186e057ff9683": {
          "model_module": "@jupyter-widgets/controls",
          "model_name": "ProgressStyleModel",
          "state": {
            "_view_name": "StyleView",
            "_model_name": "ProgressStyleModel",
            "description_width": "initial",
            "_view_module": "@jupyter-widgets/base",
            "_model_module_version": "1.5.0",
            "_view_count": null,
            "_view_module_version": "1.2.0",
            "bar_color": null,
            "_model_module": "@jupyter-widgets/controls"
          }
        },
        "f8ea879c28df49918463b59ff2c4b094": {
          "model_module": "@jupyter-widgets/base",
          "model_name": "LayoutModel",
          "state": {
            "_view_name": "LayoutView",
            "grid_template_rows": null,
            "right": null,
            "justify_content": null,
            "_view_module": "@jupyter-widgets/base",
            "overflow": null,
            "_model_module_version": "1.2.0",
            "_view_count": null,
            "flex_flow": null,
            "width": null,
            "min_width": null,
            "border": null,
            "align_items": null,
            "bottom": null,
            "_model_module": "@jupyter-widgets/base",
            "top": null,
            "grid_column": null,
            "overflow_y": null,
            "overflow_x": null,
            "grid_auto_flow": null,
            "grid_area": null,
            "grid_template_columns": null,
            "flex": null,
            "_model_name": "LayoutModel",
            "justify_items": null,
            "grid_row": null,
            "max_height": null,
            "align_content": null,
            "visibility": null,
            "align_self": null,
            "height": null,
            "min_height": null,
            "padding": null,
            "grid_auto_rows": null,
            "grid_gap": null,
            "max_width": null,
            "order": null,
            "_view_module_version": "1.2.0",
            "grid_template_areas": null,
            "object_position": null,
            "object_fit": null,
            "grid_auto_columns": null,
            "margin": null,
            "display": null,
            "left": null
          }
        },
        "a3fbb06b6f3848849323c8cbc54ea6c7": {
          "model_module": "@jupyter-widgets/controls",
          "model_name": "DescriptionStyleModel",
          "state": {
            "_view_name": "StyleView",
            "_model_name": "DescriptionStyleModel",
            "description_width": "",
            "_view_module": "@jupyter-widgets/base",
            "_model_module_version": "1.5.0",
            "_view_count": null,
            "_view_module_version": "1.2.0",
            "_model_module": "@jupyter-widgets/controls"
          }
        },
        "87e49a3f7a554d69abc74b3fcfc418c0": {
          "model_module": "@jupyter-widgets/base",
          "model_name": "LayoutModel",
          "state": {
            "_view_name": "LayoutView",
            "grid_template_rows": null,
            "right": null,
            "justify_content": null,
            "_view_module": "@jupyter-widgets/base",
            "overflow": null,
            "_model_module_version": "1.2.0",
            "_view_count": null,
            "flex_flow": null,
            "width": null,
            "min_width": null,
            "border": null,
            "align_items": null,
            "bottom": null,
            "_model_module": "@jupyter-widgets/base",
            "top": null,
            "grid_column": null,
            "overflow_y": null,
            "overflow_x": null,
            "grid_auto_flow": null,
            "grid_area": null,
            "grid_template_columns": null,
            "flex": null,
            "_model_name": "LayoutModel",
            "justify_items": null,
            "grid_row": null,
            "max_height": null,
            "align_content": null,
            "visibility": null,
            "align_self": null,
            "height": null,
            "min_height": null,
            "padding": null,
            "grid_auto_rows": null,
            "grid_gap": null,
            "max_width": null,
            "order": null,
            "_view_module_version": "1.2.0",
            "grid_template_areas": null,
            "object_position": null,
            "object_fit": null,
            "grid_auto_columns": null,
            "margin": null,
            "display": null,
            "left": null
          }
        },
        "b22ad095b75341368e21caed4bd710f6": {
          "model_module": "@jupyter-widgets/controls",
          "model_name": "HBoxModel",
          "state": {
            "_view_name": "HBoxView",
            "_dom_classes": [],
            "_model_name": "HBoxModel",
            "_view_module": "@jupyter-widgets/controls",
            "_model_module_version": "1.5.0",
            "_view_count": null,
            "_view_module_version": "1.5.0",
            "box_style": "",
            "layout": "IPY_MODEL_a2257726000748219f07c0acf33efecb",
            "_model_module": "@jupyter-widgets/controls",
            "children": [
              "IPY_MODEL_62f125f57ff1434b9db04c7d6c375cca",
              "IPY_MODEL_b4acb3903e91439aa9efe756f78bebcc"
            ]
          }
        },
        "a2257726000748219f07c0acf33efecb": {
          "model_module": "@jupyter-widgets/base",
          "model_name": "LayoutModel",
          "state": {
            "_view_name": "LayoutView",
            "grid_template_rows": null,
            "right": null,
            "justify_content": null,
            "_view_module": "@jupyter-widgets/base",
            "overflow": null,
            "_model_module_version": "1.2.0",
            "_view_count": null,
            "flex_flow": null,
            "width": null,
            "min_width": null,
            "border": null,
            "align_items": null,
            "bottom": null,
            "_model_module": "@jupyter-widgets/base",
            "top": null,
            "grid_column": null,
            "overflow_y": null,
            "overflow_x": null,
            "grid_auto_flow": null,
            "grid_area": null,
            "grid_template_columns": null,
            "flex": null,
            "_model_name": "LayoutModel",
            "justify_items": null,
            "grid_row": null,
            "max_height": null,
            "align_content": null,
            "visibility": null,
            "align_self": null,
            "height": null,
            "min_height": null,
            "padding": null,
            "grid_auto_rows": null,
            "grid_gap": null,
            "max_width": null,
            "order": null,
            "_view_module_version": "1.2.0",
            "grid_template_areas": null,
            "object_position": null,
            "object_fit": null,
            "grid_auto_columns": null,
            "margin": null,
            "display": null,
            "left": null
          }
        },
        "62f125f57ff1434b9db04c7d6c375cca": {
          "model_module": "@jupyter-widgets/controls",
          "model_name": "FloatProgressModel",
          "state": {
            "_view_name": "ProgressView",
            "style": "IPY_MODEL_407c944004a74af0be2db87d70a03d13",
            "_dom_classes": [],
            "description": "100%",
            "_model_name": "FloatProgressModel",
            "bar_style": "success",
            "max": 3,
            "_view_module": "@jupyter-widgets/controls",
            "_model_module_version": "1.5.0",
            "value": 3,
            "_view_count": null,
            "_view_module_version": "1.5.0",
            "orientation": "horizontal",
            "min": 0,
            "description_tooltip": null,
            "_model_module": "@jupyter-widgets/controls",
            "layout": "IPY_MODEL_1370c0a55a1d4e4aae794ac35c68bb03"
          }
        },
        "b4acb3903e91439aa9efe756f78bebcc": {
          "model_module": "@jupyter-widgets/controls",
          "model_name": "HTMLModel",
          "state": {
            "_view_name": "HTMLView",
            "style": "IPY_MODEL_22cd6a676d4148fc8544f82395a2b78d",
            "_dom_classes": [],
            "description": "",
            "_model_name": "HTMLModel",
            "placeholder": "​",
            "_view_module": "@jupyter-widgets/controls",
            "_model_module_version": "1.5.0",
            "value": " 3/3 [00:41&lt;00:00, 13.94s/it]",
            "_view_count": null,
            "_view_module_version": "1.5.0",
            "description_tooltip": null,
            "_model_module": "@jupyter-widgets/controls",
            "layout": "IPY_MODEL_15bc5ed04ee942a38ff35b3eb4ac88ba"
          }
        },
        "407c944004a74af0be2db87d70a03d13": {
          "model_module": "@jupyter-widgets/controls",
          "model_name": "ProgressStyleModel",
          "state": {
            "_view_name": "StyleView",
            "_model_name": "ProgressStyleModel",
            "description_width": "initial",
            "_view_module": "@jupyter-widgets/base",
            "_model_module_version": "1.5.0",
            "_view_count": null,
            "_view_module_version": "1.2.0",
            "bar_color": null,
            "_model_module": "@jupyter-widgets/controls"
          }
        },
        "1370c0a55a1d4e4aae794ac35c68bb03": {
          "model_module": "@jupyter-widgets/base",
          "model_name": "LayoutModel",
          "state": {
            "_view_name": "LayoutView",
            "grid_template_rows": null,
            "right": null,
            "justify_content": null,
            "_view_module": "@jupyter-widgets/base",
            "overflow": null,
            "_model_module_version": "1.2.0",
            "_view_count": null,
            "flex_flow": null,
            "width": null,
            "min_width": null,
            "border": null,
            "align_items": null,
            "bottom": null,
            "_model_module": "@jupyter-widgets/base",
            "top": null,
            "grid_column": null,
            "overflow_y": null,
            "overflow_x": null,
            "grid_auto_flow": null,
            "grid_area": null,
            "grid_template_columns": null,
            "flex": null,
            "_model_name": "LayoutModel",
            "justify_items": null,
            "grid_row": null,
            "max_height": null,
            "align_content": null,
            "visibility": null,
            "align_self": null,
            "height": null,
            "min_height": null,
            "padding": null,
            "grid_auto_rows": null,
            "grid_gap": null,
            "max_width": null,
            "order": null,
            "_view_module_version": "1.2.0",
            "grid_template_areas": null,
            "object_position": null,
            "object_fit": null,
            "grid_auto_columns": null,
            "margin": null,
            "display": null,
            "left": null
          }
        },
        "22cd6a676d4148fc8544f82395a2b78d": {
          "model_module": "@jupyter-widgets/controls",
          "model_name": "DescriptionStyleModel",
          "state": {
            "_view_name": "StyleView",
            "_model_name": "DescriptionStyleModel",
            "description_width": "",
            "_view_module": "@jupyter-widgets/base",
            "_model_module_version": "1.5.0",
            "_view_count": null,
            "_view_module_version": "1.2.0",
            "_model_module": "@jupyter-widgets/controls"
          }
        },
        "15bc5ed04ee942a38ff35b3eb4ac88ba": {
          "model_module": "@jupyter-widgets/base",
          "model_name": "LayoutModel",
          "state": {
            "_view_name": "LayoutView",
            "grid_template_rows": null,
            "right": null,
            "justify_content": null,
            "_view_module": "@jupyter-widgets/base",
            "overflow": null,
            "_model_module_version": "1.2.0",
            "_view_count": null,
            "flex_flow": null,
            "width": null,
            "min_width": null,
            "border": null,
            "align_items": null,
            "bottom": null,
            "_model_module": "@jupyter-widgets/base",
            "top": null,
            "grid_column": null,
            "overflow_y": null,
            "overflow_x": null,
            "grid_auto_flow": null,
            "grid_area": null,
            "grid_template_columns": null,
            "flex": null,
            "_model_name": "LayoutModel",
            "justify_items": null,
            "grid_row": null,
            "max_height": null,
            "align_content": null,
            "visibility": null,
            "align_self": null,
            "height": null,
            "min_height": null,
            "padding": null,
            "grid_auto_rows": null,
            "grid_gap": null,
            "max_width": null,
            "order": null,
            "_view_module_version": "1.2.0",
            "grid_template_areas": null,
            "object_position": null,
            "object_fit": null,
            "grid_auto_columns": null,
            "margin": null,
            "display": null,
            "left": null
          }
        },
        "e74567ee175243cfaf6d7d74a1740245": {
          "model_module": "@jupyter-widgets/controls",
          "model_name": "HBoxModel",
          "state": {
            "_view_name": "HBoxView",
            "_dom_classes": [],
            "_model_name": "HBoxModel",
            "_view_module": "@jupyter-widgets/controls",
            "_model_module_version": "1.5.0",
            "_view_count": null,
            "_view_module_version": "1.5.0",
            "box_style": "",
            "layout": "IPY_MODEL_569abc04d09c436cb834c4bb6b865b23",
            "_model_module": "@jupyter-widgets/controls",
            "children": [
              "IPY_MODEL_b77f5d1bcce5488f98fb9a01b9b9a93f",
              "IPY_MODEL_721ce333800f41cb95cd1189fe2fa6d9"
            ]
          }
        },
        "569abc04d09c436cb834c4bb6b865b23": {
          "model_module": "@jupyter-widgets/base",
          "model_name": "LayoutModel",
          "state": {
            "_view_name": "LayoutView",
            "grid_template_rows": null,
            "right": null,
            "justify_content": null,
            "_view_module": "@jupyter-widgets/base",
            "overflow": null,
            "_model_module_version": "1.2.0",
            "_view_count": null,
            "flex_flow": null,
            "width": null,
            "min_width": null,
            "border": null,
            "align_items": null,
            "bottom": null,
            "_model_module": "@jupyter-widgets/base",
            "top": null,
            "grid_column": null,
            "overflow_y": null,
            "overflow_x": null,
            "grid_auto_flow": null,
            "grid_area": null,
            "grid_template_columns": null,
            "flex": null,
            "_model_name": "LayoutModel",
            "justify_items": null,
            "grid_row": null,
            "max_height": null,
            "align_content": null,
            "visibility": null,
            "align_self": null,
            "height": null,
            "min_height": null,
            "padding": null,
            "grid_auto_rows": null,
            "grid_gap": null,
            "max_width": null,
            "order": null,
            "_view_module_version": "1.2.0",
            "grid_template_areas": null,
            "object_position": null,
            "object_fit": null,
            "grid_auto_columns": null,
            "margin": null,
            "display": null,
            "left": null
          }
        },
        "b77f5d1bcce5488f98fb9a01b9b9a93f": {
          "model_module": "@jupyter-widgets/controls",
          "model_name": "FloatProgressModel",
          "state": {
            "_view_name": "ProgressView",
            "style": "IPY_MODEL_18e599c66b06452f94ec337931c80f49",
            "_dom_classes": [],
            "description": "100%",
            "_model_name": "FloatProgressModel",
            "bar_style": "success",
            "max": 5,
            "_view_module": "@jupyter-widgets/controls",
            "_model_module_version": "1.5.0",
            "value": 5,
            "_view_count": null,
            "_view_module_version": "1.5.0",
            "orientation": "horizontal",
            "min": 0,
            "description_tooltip": null,
            "_model_module": "@jupyter-widgets/controls",
            "layout": "IPY_MODEL_ffa23256d17649b09853647b49c216c0"
          }
        },
        "721ce333800f41cb95cd1189fe2fa6d9": {
          "model_module": "@jupyter-widgets/controls",
          "model_name": "HTMLModel",
          "state": {
            "_view_name": "HTMLView",
            "style": "IPY_MODEL_d87cd745a9334303aad3376df399cbd0",
            "_dom_classes": [],
            "description": "",
            "_model_name": "HTMLModel",
            "placeholder": "​",
            "_view_module": "@jupyter-widgets/controls",
            "_model_module_version": "1.5.0",
            "value": " 5/5 [00:15&lt;00:00,  3.20s/it]",
            "_view_count": null,
            "_view_module_version": "1.5.0",
            "description_tooltip": null,
            "_model_module": "@jupyter-widgets/controls",
            "layout": "IPY_MODEL_d974b0bf8b264b89b540c478623a707e"
          }
        },
        "18e599c66b06452f94ec337931c80f49": {
          "model_module": "@jupyter-widgets/controls",
          "model_name": "ProgressStyleModel",
          "state": {
            "_view_name": "StyleView",
            "_model_name": "ProgressStyleModel",
            "description_width": "initial",
            "_view_module": "@jupyter-widgets/base",
            "_model_module_version": "1.5.0",
            "_view_count": null,
            "_view_module_version": "1.2.0",
            "bar_color": null,
            "_model_module": "@jupyter-widgets/controls"
          }
        },
        "ffa23256d17649b09853647b49c216c0": {
          "model_module": "@jupyter-widgets/base",
          "model_name": "LayoutModel",
          "state": {
            "_view_name": "LayoutView",
            "grid_template_rows": null,
            "right": null,
            "justify_content": null,
            "_view_module": "@jupyter-widgets/base",
            "overflow": null,
            "_model_module_version": "1.2.0",
            "_view_count": null,
            "flex_flow": null,
            "width": null,
            "min_width": null,
            "border": null,
            "align_items": null,
            "bottom": null,
            "_model_module": "@jupyter-widgets/base",
            "top": null,
            "grid_column": null,
            "overflow_y": null,
            "overflow_x": null,
            "grid_auto_flow": null,
            "grid_area": null,
            "grid_template_columns": null,
            "flex": null,
            "_model_name": "LayoutModel",
            "justify_items": null,
            "grid_row": null,
            "max_height": null,
            "align_content": null,
            "visibility": null,
            "align_self": null,
            "height": null,
            "min_height": null,
            "padding": null,
            "grid_auto_rows": null,
            "grid_gap": null,
            "max_width": null,
            "order": null,
            "_view_module_version": "1.2.0",
            "grid_template_areas": null,
            "object_position": null,
            "object_fit": null,
            "grid_auto_columns": null,
            "margin": null,
            "display": null,
            "left": null
          }
        },
        "d87cd745a9334303aad3376df399cbd0": {
          "model_module": "@jupyter-widgets/controls",
          "model_name": "DescriptionStyleModel",
          "state": {
            "_view_name": "StyleView",
            "_model_name": "DescriptionStyleModel",
            "description_width": "",
            "_view_module": "@jupyter-widgets/base",
            "_model_module_version": "1.5.0",
            "_view_count": null,
            "_view_module_version": "1.2.0",
            "_model_module": "@jupyter-widgets/controls"
          }
        },
        "d974b0bf8b264b89b540c478623a707e": {
          "model_module": "@jupyter-widgets/base",
          "model_name": "LayoutModel",
          "state": {
            "_view_name": "LayoutView",
            "grid_template_rows": null,
            "right": null,
            "justify_content": null,
            "_view_module": "@jupyter-widgets/base",
            "overflow": null,
            "_model_module_version": "1.2.0",
            "_view_count": null,
            "flex_flow": null,
            "width": null,
            "min_width": null,
            "border": null,
            "align_items": null,
            "bottom": null,
            "_model_module": "@jupyter-widgets/base",
            "top": null,
            "grid_column": null,
            "overflow_y": null,
            "overflow_x": null,
            "grid_auto_flow": null,
            "grid_area": null,
            "grid_template_columns": null,
            "flex": null,
            "_model_name": "LayoutModel",
            "justify_items": null,
            "grid_row": null,
            "max_height": null,
            "align_content": null,
            "visibility": null,
            "align_self": null,
            "height": null,
            "min_height": null,
            "padding": null,
            "grid_auto_rows": null,
            "grid_gap": null,
            "max_width": null,
            "order": null,
            "_view_module_version": "1.2.0",
            "grid_template_areas": null,
            "object_position": null,
            "object_fit": null,
            "grid_auto_columns": null,
            "margin": null,
            "display": null,
            "left": null
          }
        },
        "34c6342b6bef4fcb83d26df9b7f9785b": {
          "model_module": "@jupyter-widgets/controls",
          "model_name": "HBoxModel",
          "state": {
            "_view_name": "HBoxView",
            "_dom_classes": [],
            "_model_name": "HBoxModel",
            "_view_module": "@jupyter-widgets/controls",
            "_model_module_version": "1.5.0",
            "_view_count": null,
            "_view_module_version": "1.5.0",
            "box_style": "",
            "layout": "IPY_MODEL_8c7999f5ac524d349d5a2c45c2170d38",
            "_model_module": "@jupyter-widgets/controls",
            "children": [
              "IPY_MODEL_622f094e32004173bef664aeb12fa568",
              "IPY_MODEL_59f6ccec99f047bda06481e61f350354"
            ]
          }
        },
        "8c7999f5ac524d349d5a2c45c2170d38": {
          "model_module": "@jupyter-widgets/base",
          "model_name": "LayoutModel",
          "state": {
            "_view_name": "LayoutView",
            "grid_template_rows": null,
            "right": null,
            "justify_content": null,
            "_view_module": "@jupyter-widgets/base",
            "overflow": null,
            "_model_module_version": "1.2.0",
            "_view_count": null,
            "flex_flow": null,
            "width": null,
            "min_width": null,
            "border": null,
            "align_items": null,
            "bottom": null,
            "_model_module": "@jupyter-widgets/base",
            "top": null,
            "grid_column": null,
            "overflow_y": null,
            "overflow_x": null,
            "grid_auto_flow": null,
            "grid_area": null,
            "grid_template_columns": null,
            "flex": null,
            "_model_name": "LayoutModel",
            "justify_items": null,
            "grid_row": null,
            "max_height": null,
            "align_content": null,
            "visibility": null,
            "align_self": null,
            "height": null,
            "min_height": null,
            "padding": null,
            "grid_auto_rows": null,
            "grid_gap": null,
            "max_width": null,
            "order": null,
            "_view_module_version": "1.2.0",
            "grid_template_areas": null,
            "object_position": null,
            "object_fit": null,
            "grid_auto_columns": null,
            "margin": null,
            "display": null,
            "left": null
          }
        },
        "622f094e32004173bef664aeb12fa568": {
          "model_module": "@jupyter-widgets/controls",
          "model_name": "FloatProgressModel",
          "state": {
            "_view_name": "ProgressView",
            "style": "IPY_MODEL_f13191e095d1404aa87e37f4b2e43498",
            "_dom_classes": [],
            "description": "100%",
            "_model_name": "FloatProgressModel",
            "bar_style": "success",
            "max": 28000,
            "_view_module": "@jupyter-widgets/controls",
            "_model_module_version": "1.5.0",
            "value": 28000,
            "_view_count": null,
            "_view_module_version": "1.5.0",
            "orientation": "horizontal",
            "min": 0,
            "description_tooltip": null,
            "_model_module": "@jupyter-widgets/controls",
            "layout": "IPY_MODEL_c62c611c85d74457ac731268f9b9df4f"
          }
        },
        "59f6ccec99f047bda06481e61f350354": {
          "model_module": "@jupyter-widgets/controls",
          "model_name": "HTMLModel",
          "state": {
            "_view_name": "HTMLView",
            "style": "IPY_MODEL_6dcb173193bb429b94b58340f6210330",
            "_dom_classes": [],
            "description": "",
            "_model_name": "HTMLModel",
            "placeholder": "​",
            "_view_module": "@jupyter-widgets/controls",
            "_model_module_version": "1.5.0",
            "value": " 28000/28000 [03:14&lt;00:00, 143.78it/s]",
            "_view_count": null,
            "_view_module_version": "1.5.0",
            "description_tooltip": null,
            "_model_module": "@jupyter-widgets/controls",
            "layout": "IPY_MODEL_ca7a10cb61ae404bb0c003a13a58ca7b"
          }
        },
        "f13191e095d1404aa87e37f4b2e43498": {
          "model_module": "@jupyter-widgets/controls",
          "model_name": "ProgressStyleModel",
          "state": {
            "_view_name": "StyleView",
            "_model_name": "ProgressStyleModel",
            "description_width": "initial",
            "_view_module": "@jupyter-widgets/base",
            "_model_module_version": "1.5.0",
            "_view_count": null,
            "_view_module_version": "1.2.0",
            "bar_color": null,
            "_model_module": "@jupyter-widgets/controls"
          }
        },
        "c62c611c85d74457ac731268f9b9df4f": {
          "model_module": "@jupyter-widgets/base",
          "model_name": "LayoutModel",
          "state": {
            "_view_name": "LayoutView",
            "grid_template_rows": null,
            "right": null,
            "justify_content": null,
            "_view_module": "@jupyter-widgets/base",
            "overflow": null,
            "_model_module_version": "1.2.0",
            "_view_count": null,
            "flex_flow": null,
            "width": null,
            "min_width": null,
            "border": null,
            "align_items": null,
            "bottom": null,
            "_model_module": "@jupyter-widgets/base",
            "top": null,
            "grid_column": null,
            "overflow_y": null,
            "overflow_x": null,
            "grid_auto_flow": null,
            "grid_area": null,
            "grid_template_columns": null,
            "flex": null,
            "_model_name": "LayoutModel",
            "justify_items": null,
            "grid_row": null,
            "max_height": null,
            "align_content": null,
            "visibility": null,
            "align_self": null,
            "height": null,
            "min_height": null,
            "padding": null,
            "grid_auto_rows": null,
            "grid_gap": null,
            "max_width": null,
            "order": null,
            "_view_module_version": "1.2.0",
            "grid_template_areas": null,
            "object_position": null,
            "object_fit": null,
            "grid_auto_columns": null,
            "margin": null,
            "display": null,
            "left": null
          }
        },
        "6dcb173193bb429b94b58340f6210330": {
          "model_module": "@jupyter-widgets/controls",
          "model_name": "DescriptionStyleModel",
          "state": {
            "_view_name": "StyleView",
            "_model_name": "DescriptionStyleModel",
            "description_width": "",
            "_view_module": "@jupyter-widgets/base",
            "_model_module_version": "1.5.0",
            "_view_count": null,
            "_view_module_version": "1.2.0",
            "_model_module": "@jupyter-widgets/controls"
          }
        },
        "ca7a10cb61ae404bb0c003a13a58ca7b": {
          "model_module": "@jupyter-widgets/base",
          "model_name": "LayoutModel",
          "state": {
            "_view_name": "LayoutView",
            "grid_template_rows": null,
            "right": null,
            "justify_content": null,
            "_view_module": "@jupyter-widgets/base",
            "overflow": null,
            "_model_module_version": "1.2.0",
            "_view_count": null,
            "flex_flow": null,
            "width": null,
            "min_width": null,
            "border": null,
            "align_items": null,
            "bottom": null,
            "_model_module": "@jupyter-widgets/base",
            "top": null,
            "grid_column": null,
            "overflow_y": null,
            "overflow_x": null,
            "grid_auto_flow": null,
            "grid_area": null,
            "grid_template_columns": null,
            "flex": null,
            "_model_name": "LayoutModel",
            "justify_items": null,
            "grid_row": null,
            "max_height": null,
            "align_content": null,
            "visibility": null,
            "align_self": null,
            "height": null,
            "min_height": null,
            "padding": null,
            "grid_auto_rows": null,
            "grid_gap": null,
            "max_width": null,
            "order": null,
            "_view_module_version": "1.2.0",
            "grid_template_areas": null,
            "object_position": null,
            "object_fit": null,
            "grid_auto_columns": null,
            "margin": null,
            "display": null,
            "left": null
          }
        },
        "a62556b5d99842b09e046a7d37566249": {
          "model_module": "@jupyter-widgets/controls",
          "model_name": "HBoxModel",
          "state": {
            "_view_name": "HBoxView",
            "_dom_classes": [],
            "_model_name": "HBoxModel",
            "_view_module": "@jupyter-widgets/controls",
            "_model_module_version": "1.5.0",
            "_view_count": null,
            "_view_module_version": "1.5.0",
            "box_style": "",
            "layout": "IPY_MODEL_a00a823d06114bd198b0dcdd2df9f522",
            "_model_module": "@jupyter-widgets/controls",
            "children": [
              "IPY_MODEL_9fb56cd84fa9455781e98e111f5d8017",
              "IPY_MODEL_76ee2aeb7d3440b7b939e1d0502f0107"
            ]
          }
        },
        "a00a823d06114bd198b0dcdd2df9f522": {
          "model_module": "@jupyter-widgets/base",
          "model_name": "LayoutModel",
          "state": {
            "_view_name": "LayoutView",
            "grid_template_rows": null,
            "right": null,
            "justify_content": null,
            "_view_module": "@jupyter-widgets/base",
            "overflow": null,
            "_model_module_version": "1.2.0",
            "_view_count": null,
            "flex_flow": null,
            "width": null,
            "min_width": null,
            "border": null,
            "align_items": null,
            "bottom": null,
            "_model_module": "@jupyter-widgets/base",
            "top": null,
            "grid_column": null,
            "overflow_y": null,
            "overflow_x": null,
            "grid_auto_flow": null,
            "grid_area": null,
            "grid_template_columns": null,
            "flex": null,
            "_model_name": "LayoutModel",
            "justify_items": null,
            "grid_row": null,
            "max_height": null,
            "align_content": null,
            "visibility": null,
            "align_self": null,
            "height": null,
            "min_height": null,
            "padding": null,
            "grid_auto_rows": null,
            "grid_gap": null,
            "max_width": null,
            "order": null,
            "_view_module_version": "1.2.0",
            "grid_template_areas": null,
            "object_position": null,
            "object_fit": null,
            "grid_auto_columns": null,
            "margin": null,
            "display": null,
            "left": null
          }
        },
        "9fb56cd84fa9455781e98e111f5d8017": {
          "model_module": "@jupyter-widgets/controls",
          "model_name": "FloatProgressModel",
          "state": {
            "_view_name": "ProgressView",
            "style": "IPY_MODEL_17663ea66ba64d8e9d6d031e418fc0a6",
            "_dom_classes": [],
            "description": "100%",
            "_model_name": "FloatProgressModel",
            "bar_style": "success",
            "max": 12000,
            "_view_module": "@jupyter-widgets/controls",
            "_model_module_version": "1.5.0",
            "value": 12000,
            "_view_count": null,
            "_view_module_version": "1.5.0",
            "orientation": "horizontal",
            "min": 0,
            "description_tooltip": null,
            "_model_module": "@jupyter-widgets/controls",
            "layout": "IPY_MODEL_9b2df00b3837486db243df4b5d9c7f04"
          }
        },
        "76ee2aeb7d3440b7b939e1d0502f0107": {
          "model_module": "@jupyter-widgets/controls",
          "model_name": "HTMLModel",
          "state": {
            "_view_name": "HTMLView",
            "style": "IPY_MODEL_5c86810cee66479e935e0573d5455d9b",
            "_dom_classes": [],
            "description": "",
            "_model_name": "HTMLModel",
            "placeholder": "​",
            "_view_module": "@jupyter-widgets/controls",
            "_model_module_version": "1.5.0",
            "value": " 12000/12000 [01:01&lt;00:00, 195.47it/s]",
            "_view_count": null,
            "_view_module_version": "1.5.0",
            "description_tooltip": null,
            "_model_module": "@jupyter-widgets/controls",
            "layout": "IPY_MODEL_f657e836625e481497088a679108f3ab"
          }
        },
        "17663ea66ba64d8e9d6d031e418fc0a6": {
          "model_module": "@jupyter-widgets/controls",
          "model_name": "ProgressStyleModel",
          "state": {
            "_view_name": "StyleView",
            "_model_name": "ProgressStyleModel",
            "description_width": "initial",
            "_view_module": "@jupyter-widgets/base",
            "_model_module_version": "1.5.0",
            "_view_count": null,
            "_view_module_version": "1.2.0",
            "bar_color": null,
            "_model_module": "@jupyter-widgets/controls"
          }
        },
        "9b2df00b3837486db243df4b5d9c7f04": {
          "model_module": "@jupyter-widgets/base",
          "model_name": "LayoutModel",
          "state": {
            "_view_name": "LayoutView",
            "grid_template_rows": null,
            "right": null,
            "justify_content": null,
            "_view_module": "@jupyter-widgets/base",
            "overflow": null,
            "_model_module_version": "1.2.0",
            "_view_count": null,
            "flex_flow": null,
            "width": null,
            "min_width": null,
            "border": null,
            "align_items": null,
            "bottom": null,
            "_model_module": "@jupyter-widgets/base",
            "top": null,
            "grid_column": null,
            "overflow_y": null,
            "overflow_x": null,
            "grid_auto_flow": null,
            "grid_area": null,
            "grid_template_columns": null,
            "flex": null,
            "_model_name": "LayoutModel",
            "justify_items": null,
            "grid_row": null,
            "max_height": null,
            "align_content": null,
            "visibility": null,
            "align_self": null,
            "height": null,
            "min_height": null,
            "padding": null,
            "grid_auto_rows": null,
            "grid_gap": null,
            "max_width": null,
            "order": null,
            "_view_module_version": "1.2.0",
            "grid_template_areas": null,
            "object_position": null,
            "object_fit": null,
            "grid_auto_columns": null,
            "margin": null,
            "display": null,
            "left": null
          }
        },
        "5c86810cee66479e935e0573d5455d9b": {
          "model_module": "@jupyter-widgets/controls",
          "model_name": "DescriptionStyleModel",
          "state": {
            "_view_name": "StyleView",
            "_model_name": "DescriptionStyleModel",
            "description_width": "",
            "_view_module": "@jupyter-widgets/base",
            "_model_module_version": "1.5.0",
            "_view_count": null,
            "_view_module_version": "1.2.0",
            "_model_module": "@jupyter-widgets/controls"
          }
        },
        "f657e836625e481497088a679108f3ab": {
          "model_module": "@jupyter-widgets/base",
          "model_name": "LayoutModel",
          "state": {
            "_view_name": "LayoutView",
            "grid_template_rows": null,
            "right": null,
            "justify_content": null,
            "_view_module": "@jupyter-widgets/base",
            "overflow": null,
            "_model_module_version": "1.2.0",
            "_view_count": null,
            "flex_flow": null,
            "width": null,
            "min_width": null,
            "border": null,
            "align_items": null,
            "bottom": null,
            "_model_module": "@jupyter-widgets/base",
            "top": null,
            "grid_column": null,
            "overflow_y": null,
            "overflow_x": null,
            "grid_auto_flow": null,
            "grid_area": null,
            "grid_template_columns": null,
            "flex": null,
            "_model_name": "LayoutModel",
            "justify_items": null,
            "grid_row": null,
            "max_height": null,
            "align_content": null,
            "visibility": null,
            "align_self": null,
            "height": null,
            "min_height": null,
            "padding": null,
            "grid_auto_rows": null,
            "grid_gap": null,
            "max_width": null,
            "order": null,
            "_view_module_version": "1.2.0",
            "grid_template_areas": null,
            "object_position": null,
            "object_fit": null,
            "grid_auto_columns": null,
            "margin": null,
            "display": null,
            "left": null
          }
        }
      }
    },
    "accelerator": "GPU"
  },
  "cells": [
    {
      "cell_type": "markdown",
      "metadata": {
        "id": "AM7jsfwALPlp",
        "colab_type": "text"
      },
      "source": [
        "# Amazon Fine Food Reviews Analysis\n",
        "\n",
        "\n",
        "Data Source: https://www.kaggle.com/snap/amazon-fine-food-reviews <br>\n",
        "\n",
        "EDA: https://nycdatascience.com/blog/student-works/amazon-fine-foods-visualization/\n",
        "\n",
        "\n",
        "The Amazon Fine Food Reviews dataset consists of reviews of fine foods from Amazon.<br>\n",
        "\n",
        "Number of reviews: 568,454<br>\n",
        "Number of users: 256,059<br>\n",
        "Number of products: 74,258<br>\n",
        "Timespan: Oct 1999 - Oct 2012<br>\n",
        "Number of Attributes/Columns in data: 10 \n",
        "\n",
        "Attribute Information:\n",
        "\n",
        "1. Id\n",
        "2. ProductId - unique identifier for the product\n",
        "3. UserId - unqiue identifier for the user\n",
        "4. ProfileName\n",
        "5. HelpfulnessNumerator - number of users who found the review helpful\n",
        "6. HelpfulnessDenominator - number of users who indicated whether they found the review helpful or not\n",
        "7. Score - rating between 1 and 5\n",
        "8. Time - timestamp for the review\n",
        "9. Summary - brief summary of the review\n",
        "10. Text - text of the review\n",
        "\n",
        "\n",
        "#### Objective:\n",
        "Given a review, determine whether the review is positive (rating of 4 or 5) or negative (rating of 1 or 2).\n",
        "\n",
        "<br>\n",
        "[Q] How to determine if a review is positive or negative?<br>\n",
        "<br> \n",
        "[Ans] We could use Score/Rating. A rating of 4 or 5 can be cosnidered as a positive review. A rating of 1 or 2 can be considered as negative one. A review of rating 3 is considered nuetral and such reviews are ignored from our analysis. This is an approximate and proxy way of determining the polarity (positivity/negativity) of a review.\n",
        "\n",
        "\n"
      ]
    },
    {
      "cell_type": "markdown",
      "metadata": {
        "id": "CaQ7XJ4OLPls",
        "colab_type": "text"
      },
      "source": [
        "# [1]. Reading Data"
      ]
    },
    {
      "cell_type": "markdown",
      "metadata": {
        "id": "5VnEBjKRLPlu",
        "colab_type": "text"
      },
      "source": [
        "## [1.1] Loading the data\n",
        "\n",
        "The dataset is available in two forms\n",
        "1. .csv file\n",
        "2. SQLite Database\n",
        "\n",
        "In order to load the data, We have used the SQLITE dataset as it is easier to query the data and visualise the data efficiently.\n",
        "<br> \n",
        "\n",
        "Here as we only want to get the global sentiment of the recommendations (positive or negative), we will purposefully ignore all Scores equal to 3. If the score is above 3, then the recommendation wil be set to \"positive\". Otherwise, it will be set to \"negative\"."
      ]
    },
    {
      "cell_type": "code",
      "metadata": {
        "id": "x6YclOzXLPlv",
        "colab_type": "code",
        "colab": {}
      },
      "source": [
        "%matplotlib inline\n",
        "import warnings\n",
        "warnings.filterwarnings(\"ignore\")\n",
        "\n",
        "import sqlite3\n",
        "import pandas as pd\n",
        "import numpy as np\n",
        "import nltk\n",
        "import string\n",
        "import matplotlib.pyplot as plt\n",
        "import seaborn as sns\n",
        "from sklearn.feature_extraction.text import TfidfTransformer\n",
        "from sklearn.feature_extraction.text import TfidfVectorizer\n",
        "from numpy import random \n",
        "from sklearn.model_selection import train_test_split\n",
        "\n",
        "from sklearn.preprocessing import StandardScaler\n",
        "\n",
        "from sklearn.feature_extraction.text import CountVectorizer\n",
        "from sklearn.metrics import confusion_matrix\n",
        "from sklearn import metrics\n",
        "from sklearn.metrics import roc_curve, auc\n",
        "from nltk.stem.porter import PorterStemmer\n",
        "\n",
        "from bs4 import BeautifulSoup\n",
        "\n",
        "\n",
        "import re\n",
        "# Tutorial about Python regular expressions: https://pymotw.com/2/re/\n",
        "import string\n",
        "from nltk.corpus import stopwords\n",
        "from nltk.stem import PorterStemmer\n",
        "from nltk.stem.wordnet import WordNetLemmatizer\n",
        "\n",
        "from gensim.models import Word2Vec\n",
        "from gensim.models import KeyedVectors\n",
        "import pickle\n",
        "\n",
        "from tqdm import tqdm\n",
        "import os\n",
        "\n",
        "from sklearn.metrics import roc_curve,accuracy_score\n",
        "from sklearn.metrics import precision_score, recall_score\n",
        "from sklearn.metrics import f1_score, confusion_matrix"
      ],
      "execution_count": null,
      "outputs": []
    },
    {
      "cell_type": "code",
      "metadata": {
        "id": "9PKdLloYnl4e",
        "colab_type": "code",
        "colab": {
          "base_uri": "https://localhost:8080/",
          "height": 122
        },
        "outputId": "f0057069-2c51-4efb-cb79-7ee82f8a051a"
      },
      "source": [
        "from google.colab import drive\n",
        "drive.mount('/content/drive')"
      ],
      "execution_count": null,
      "outputs": [
        {
          "output_type": "stream",
          "text": [
            "Go to this URL in a browser: https://accounts.google.com/o/oauth2/auth?client_id=947318989803-6bn6qk8qdgf4n4g3pfee6491hc0brc4i.apps.googleusercontent.com&redirect_uri=urn%3aietf%3awg%3aoauth%3a2.0%3aoob&response_type=code&scope=email%20https%3a%2f%2fwww.googleapis.com%2fauth%2fdocs.test%20https%3a%2f%2fwww.googleapis.com%2fauth%2fdrive%20https%3a%2f%2fwww.googleapis.com%2fauth%2fdrive.photos.readonly%20https%3a%2f%2fwww.googleapis.com%2fauth%2fpeopleapi.readonly\n",
            "\n",
            "Enter your authorization code:\n",
            "··········\n",
            "Mounted at /content/drive\n"
          ],
          "name": "stdout"
        }
      ]
    },
    {
      "cell_type": "code",
      "metadata": {
        "id": "NZ4OSpSiLPl0",
        "colab_type": "code",
        "colab": {
          "base_uri": "https://localhost:8080/",
          "height": 227
        },
        "outputId": "cf3f4d2d-2840-4b0c-8e95-5c916a9477eb"
      },
      "source": [
        "# using SQLite Table to read data.\n",
        "\n",
        "con = sqlite3.connect('drive/My Drive/FFRDB/database.sqlite') \n",
        "\n",
        "# filtering only positive and negative reviews i.e. \n",
        "# not taking into consideration those reviews with Score=3\n",
        "# SELECT * FROM Reviews WHERE Score != 3 LIMIT 500000, will give top 500000 data points\n",
        "# you can change the number to any other number based on your computing power\n",
        "\n",
        "# filtered_data = pd.read_sql_query(\"\"\" SELECT * FROM Reviews WHERE Score != 3 LIMIT 500000\"\"\", con) \n",
        "# for tsne assignment you can take 5k data points\n",
        "\n",
        "filtered_data = pd.read_sql_query(\"\"\" SELECT * FROM Reviews WHERE Score != 3\"\"\", con) \n",
        "\n",
        "# Give reviews with Score>3 a positive rating(1), and reviews with a score<3 a negative rating(0).\n",
        "def partition(x):\n",
        "    if x < 3:\n",
        "        return 0\n",
        "    return 1\n",
        "\n",
        "#changing reviews with score less than 3 to be positive and vice-versa\n",
        "actualScore = filtered_data['Score']\n",
        "positiveNegative = actualScore.map(partition) \n",
        "filtered_data['Score'] = positiveNegative\n",
        "print(\"Number of data points in our data\", filtered_data.shape)\n",
        "filtered_data.head(3)"
      ],
      "execution_count": null,
      "outputs": [
        {
          "output_type": "stream",
          "text": [
            "Number of data points in our data (525814, 10)\n"
          ],
          "name": "stdout"
        },
        {
          "output_type": "execute_result",
          "data": {
            "text/html": [
              "<div>\n",
              "<style scoped>\n",
              "    .dataframe tbody tr th:only-of-type {\n",
              "        vertical-align: middle;\n",
              "    }\n",
              "\n",
              "    .dataframe tbody tr th {\n",
              "        vertical-align: top;\n",
              "    }\n",
              "\n",
              "    .dataframe thead th {\n",
              "        text-align: right;\n",
              "    }\n",
              "</style>\n",
              "<table border=\"1\" class=\"dataframe\">\n",
              "  <thead>\n",
              "    <tr style=\"text-align: right;\">\n",
              "      <th></th>\n",
              "      <th>Id</th>\n",
              "      <th>ProductId</th>\n",
              "      <th>UserId</th>\n",
              "      <th>ProfileName</th>\n",
              "      <th>HelpfulnessNumerator</th>\n",
              "      <th>HelpfulnessDenominator</th>\n",
              "      <th>Score</th>\n",
              "      <th>Time</th>\n",
              "      <th>Summary</th>\n",
              "      <th>Text</th>\n",
              "    </tr>\n",
              "  </thead>\n",
              "  <tbody>\n",
              "    <tr>\n",
              "      <th>0</th>\n",
              "      <td>1</td>\n",
              "      <td>B001E4KFG0</td>\n",
              "      <td>A3SGXH7AUHU8GW</td>\n",
              "      <td>delmartian</td>\n",
              "      <td>1</td>\n",
              "      <td>1</td>\n",
              "      <td>1</td>\n",
              "      <td>1303862400</td>\n",
              "      <td>Good Quality Dog Food</td>\n",
              "      <td>I have bought several of the Vitality canned d...</td>\n",
              "    </tr>\n",
              "    <tr>\n",
              "      <th>1</th>\n",
              "      <td>2</td>\n",
              "      <td>B00813GRG4</td>\n",
              "      <td>A1D87F6ZCVE5NK</td>\n",
              "      <td>dll pa</td>\n",
              "      <td>0</td>\n",
              "      <td>0</td>\n",
              "      <td>0</td>\n",
              "      <td>1346976000</td>\n",
              "      <td>Not as Advertised</td>\n",
              "      <td>Product arrived labeled as Jumbo Salted Peanut...</td>\n",
              "    </tr>\n",
              "    <tr>\n",
              "      <th>2</th>\n",
              "      <td>3</td>\n",
              "      <td>B000LQOCH0</td>\n",
              "      <td>ABXLMWJIXXAIN</td>\n",
              "      <td>Natalia Corres \"Natalia Corres\"</td>\n",
              "      <td>1</td>\n",
              "      <td>1</td>\n",
              "      <td>1</td>\n",
              "      <td>1219017600</td>\n",
              "      <td>\"Delight\" says it all</td>\n",
              "      <td>This is a confection that has been around a fe...</td>\n",
              "    </tr>\n",
              "  </tbody>\n",
              "</table>\n",
              "</div>"
            ],
            "text/plain": [
              "   Id  ...                                               Text\n",
              "0   1  ...  I have bought several of the Vitality canned d...\n",
              "1   2  ...  Product arrived labeled as Jumbo Salted Peanut...\n",
              "2   3  ...  This is a confection that has been around a fe...\n",
              "\n",
              "[3 rows x 10 columns]"
            ]
          },
          "metadata": {
            "tags": []
          },
          "execution_count": 3
        }
      ]
    },
    {
      "cell_type": "code",
      "metadata": {
        "id": "r44Y4VDjLPl7",
        "colab_type": "code",
        "colab": {}
      },
      "source": [
        "display = pd.read_sql_query(\"\"\"\n",
        "SELECT UserId, ProductId, ProfileName, Time, Score, Text, COUNT(*)\n",
        "FROM Reviews\n",
        "GROUP BY UserId\n",
        "HAVING COUNT(*)>1\n",
        "\"\"\", con)"
      ],
      "execution_count": null,
      "outputs": []
    },
    {
      "cell_type": "code",
      "metadata": {
        "scrolled": true,
        "id": "tTwINQv1LPl_",
        "colab_type": "code",
        "colab": {
          "base_uri": "https://localhost:8080/",
          "height": 221
        },
        "outputId": "cc1d7a7f-1077-42bf-c58b-d18ad0a66061"
      },
      "source": [
        "print(display.shape)\n",
        "display.head()"
      ],
      "execution_count": null,
      "outputs": [
        {
          "output_type": "stream",
          "text": [
            "(80668, 7)\n"
          ],
          "name": "stdout"
        },
        {
          "output_type": "execute_result",
          "data": {
            "text/html": [
              "<div>\n",
              "<style scoped>\n",
              "    .dataframe tbody tr th:only-of-type {\n",
              "        vertical-align: middle;\n",
              "    }\n",
              "\n",
              "    .dataframe tbody tr th {\n",
              "        vertical-align: top;\n",
              "    }\n",
              "\n",
              "    .dataframe thead th {\n",
              "        text-align: right;\n",
              "    }\n",
              "</style>\n",
              "<table border=\"1\" class=\"dataframe\">\n",
              "  <thead>\n",
              "    <tr style=\"text-align: right;\">\n",
              "      <th></th>\n",
              "      <th>UserId</th>\n",
              "      <th>ProductId</th>\n",
              "      <th>ProfileName</th>\n",
              "      <th>Time</th>\n",
              "      <th>Score</th>\n",
              "      <th>Text</th>\n",
              "      <th>COUNT(*)</th>\n",
              "    </tr>\n",
              "  </thead>\n",
              "  <tbody>\n",
              "    <tr>\n",
              "      <th>0</th>\n",
              "      <td>#oc-R115TNMSPFT9I7</td>\n",
              "      <td>B007Y59HVM</td>\n",
              "      <td>Breyton</td>\n",
              "      <td>1331510400</td>\n",
              "      <td>2</td>\n",
              "      <td>Overall its just OK when considering the price...</td>\n",
              "      <td>2</td>\n",
              "    </tr>\n",
              "    <tr>\n",
              "      <th>1</th>\n",
              "      <td>#oc-R11D9D7SHXIJB9</td>\n",
              "      <td>B005HG9ET0</td>\n",
              "      <td>Louis E. Emory \"hoppy\"</td>\n",
              "      <td>1342396800</td>\n",
              "      <td>5</td>\n",
              "      <td>My wife has recurring extreme muscle spasms, u...</td>\n",
              "      <td>3</td>\n",
              "    </tr>\n",
              "    <tr>\n",
              "      <th>2</th>\n",
              "      <td>#oc-R11DNU2NBKQ23Z</td>\n",
              "      <td>B007Y59HVM</td>\n",
              "      <td>Kim Cieszykowski</td>\n",
              "      <td>1348531200</td>\n",
              "      <td>1</td>\n",
              "      <td>This coffee is horrible and unfortunately not ...</td>\n",
              "      <td>2</td>\n",
              "    </tr>\n",
              "    <tr>\n",
              "      <th>3</th>\n",
              "      <td>#oc-R11O5J5ZVQE25C</td>\n",
              "      <td>B005HG9ET0</td>\n",
              "      <td>Penguin Chick</td>\n",
              "      <td>1346889600</td>\n",
              "      <td>5</td>\n",
              "      <td>This will be the bottle that you grab from the...</td>\n",
              "      <td>3</td>\n",
              "    </tr>\n",
              "    <tr>\n",
              "      <th>4</th>\n",
              "      <td>#oc-R12KPBODL2B5ZD</td>\n",
              "      <td>B007OSBE1U</td>\n",
              "      <td>Christopher P. Presta</td>\n",
              "      <td>1348617600</td>\n",
              "      <td>1</td>\n",
              "      <td>I didnt like this coffee. Instead of telling y...</td>\n",
              "      <td>2</td>\n",
              "    </tr>\n",
              "  </tbody>\n",
              "</table>\n",
              "</div>"
            ],
            "text/plain": [
              "               UserId  ... COUNT(*)\n",
              "0  #oc-R115TNMSPFT9I7  ...        2\n",
              "1  #oc-R11D9D7SHXIJB9  ...        3\n",
              "2  #oc-R11DNU2NBKQ23Z  ...        2\n",
              "3  #oc-R11O5J5ZVQE25C  ...        3\n",
              "4  #oc-R12KPBODL2B5ZD  ...        2\n",
              "\n",
              "[5 rows x 7 columns]"
            ]
          },
          "metadata": {
            "tags": []
          },
          "execution_count": 5
        }
      ]
    },
    {
      "cell_type": "code",
      "metadata": {
        "id": "pSwF4sdoLPmM",
        "colab_type": "code",
        "colab": {
          "base_uri": "https://localhost:8080/",
          "height": 34
        },
        "outputId": "72f08abf-4f39-4a11-d24b-e226d3c5369a"
      },
      "source": [
        "display['COUNT(*)'].sum()"
      ],
      "execution_count": null,
      "outputs": [
        {
          "output_type": "execute_result",
          "data": {
            "text/plain": [
              "393063"
            ]
          },
          "metadata": {
            "tags": []
          },
          "execution_count": 6
        }
      ]
    },
    {
      "cell_type": "markdown",
      "metadata": {
        "id": "PuNkhjz0LPmQ",
        "colab_type": "text"
      },
      "source": [
        "#  [2] Exploratory Data Analysis"
      ]
    },
    {
      "cell_type": "markdown",
      "metadata": {
        "id": "oCJaTWrTLPmS",
        "colab_type": "text"
      },
      "source": [
        "## [2.1] Data Cleaning: Deduplication\n",
        "\n",
        "It is observed (as shown in the table below) that the reviews data had many duplicate entries. Hence it was necessary to remove duplicates in order to get unbiased results for the analysis of the data.  Following is an example:"
      ]
    },
    {
      "cell_type": "code",
      "metadata": {
        "scrolled": false,
        "id": "3lvzRwWVLPmT",
        "colab_type": "code",
        "colab": {
          "base_uri": "https://localhost:8080/",
          "height": 374
        },
        "outputId": "f1bbb0cd-1a4f-42ee-eb5a-c3514359e01f"
      },
      "source": [
        "display= pd.read_sql_query(\"\"\"\n",
        "SELECT *\n",
        "FROM Reviews\n",
        "WHERE Score != 3 AND UserId=\"AR5J8UI46CURR\"\n",
        "ORDER BY ProductID\n",
        "\"\"\", con)\n",
        "display.head()"
      ],
      "execution_count": null,
      "outputs": [
        {
          "output_type": "execute_result",
          "data": {
            "text/html": [
              "<div>\n",
              "<style scoped>\n",
              "    .dataframe tbody tr th:only-of-type {\n",
              "        vertical-align: middle;\n",
              "    }\n",
              "\n",
              "    .dataframe tbody tr th {\n",
              "        vertical-align: top;\n",
              "    }\n",
              "\n",
              "    .dataframe thead th {\n",
              "        text-align: right;\n",
              "    }\n",
              "</style>\n",
              "<table border=\"1\" class=\"dataframe\">\n",
              "  <thead>\n",
              "    <tr style=\"text-align: right;\">\n",
              "      <th></th>\n",
              "      <th>Id</th>\n",
              "      <th>ProductId</th>\n",
              "      <th>UserId</th>\n",
              "      <th>ProfileName</th>\n",
              "      <th>HelpfulnessNumerator</th>\n",
              "      <th>HelpfulnessDenominator</th>\n",
              "      <th>Score</th>\n",
              "      <th>Time</th>\n",
              "      <th>Summary</th>\n",
              "      <th>Text</th>\n",
              "    </tr>\n",
              "  </thead>\n",
              "  <tbody>\n",
              "    <tr>\n",
              "      <th>0</th>\n",
              "      <td>78445</td>\n",
              "      <td>B000HDL1RQ</td>\n",
              "      <td>AR5J8UI46CURR</td>\n",
              "      <td>Geetha Krishnan</td>\n",
              "      <td>2</td>\n",
              "      <td>2</td>\n",
              "      <td>5</td>\n",
              "      <td>1199577600</td>\n",
              "      <td>LOACKER QUADRATINI VANILLA WAFERS</td>\n",
              "      <td>DELICIOUS WAFERS. I FIND THAT EUROPEAN WAFERS ...</td>\n",
              "    </tr>\n",
              "    <tr>\n",
              "      <th>1</th>\n",
              "      <td>138317</td>\n",
              "      <td>B000HDOPYC</td>\n",
              "      <td>AR5J8UI46CURR</td>\n",
              "      <td>Geetha Krishnan</td>\n",
              "      <td>2</td>\n",
              "      <td>2</td>\n",
              "      <td>5</td>\n",
              "      <td>1199577600</td>\n",
              "      <td>LOACKER QUADRATINI VANILLA WAFERS</td>\n",
              "      <td>DELICIOUS WAFERS. I FIND THAT EUROPEAN WAFERS ...</td>\n",
              "    </tr>\n",
              "    <tr>\n",
              "      <th>2</th>\n",
              "      <td>138277</td>\n",
              "      <td>B000HDOPYM</td>\n",
              "      <td>AR5J8UI46CURR</td>\n",
              "      <td>Geetha Krishnan</td>\n",
              "      <td>2</td>\n",
              "      <td>2</td>\n",
              "      <td>5</td>\n",
              "      <td>1199577600</td>\n",
              "      <td>LOACKER QUADRATINI VANILLA WAFERS</td>\n",
              "      <td>DELICIOUS WAFERS. I FIND THAT EUROPEAN WAFERS ...</td>\n",
              "    </tr>\n",
              "    <tr>\n",
              "      <th>3</th>\n",
              "      <td>73791</td>\n",
              "      <td>B000HDOPZG</td>\n",
              "      <td>AR5J8UI46CURR</td>\n",
              "      <td>Geetha Krishnan</td>\n",
              "      <td>2</td>\n",
              "      <td>2</td>\n",
              "      <td>5</td>\n",
              "      <td>1199577600</td>\n",
              "      <td>LOACKER QUADRATINI VANILLA WAFERS</td>\n",
              "      <td>DELICIOUS WAFERS. I FIND THAT EUROPEAN WAFERS ...</td>\n",
              "    </tr>\n",
              "    <tr>\n",
              "      <th>4</th>\n",
              "      <td>155049</td>\n",
              "      <td>B000PAQ75C</td>\n",
              "      <td>AR5J8UI46CURR</td>\n",
              "      <td>Geetha Krishnan</td>\n",
              "      <td>2</td>\n",
              "      <td>2</td>\n",
              "      <td>5</td>\n",
              "      <td>1199577600</td>\n",
              "      <td>LOACKER QUADRATINI VANILLA WAFERS</td>\n",
              "      <td>DELICIOUS WAFERS. I FIND THAT EUROPEAN WAFERS ...</td>\n",
              "    </tr>\n",
              "  </tbody>\n",
              "</table>\n",
              "</div>"
            ],
            "text/plain": [
              "       Id  ...                                               Text\n",
              "0   78445  ...  DELICIOUS WAFERS. I FIND THAT EUROPEAN WAFERS ...\n",
              "1  138317  ...  DELICIOUS WAFERS. I FIND THAT EUROPEAN WAFERS ...\n",
              "2  138277  ...  DELICIOUS WAFERS. I FIND THAT EUROPEAN WAFERS ...\n",
              "3   73791  ...  DELICIOUS WAFERS. I FIND THAT EUROPEAN WAFERS ...\n",
              "4  155049  ...  DELICIOUS WAFERS. I FIND THAT EUROPEAN WAFERS ...\n",
              "\n",
              "[5 rows x 10 columns]"
            ]
          },
          "metadata": {
            "tags": []
          },
          "execution_count": 7
        }
      ]
    },
    {
      "cell_type": "markdown",
      "metadata": {
        "id": "uT7p9_deLPmb",
        "colab_type": "text"
      },
      "source": [
        "As it can be seen above that same user has multiple reviews with same values for HelpfulnessNumerator, HelpfulnessDenominator, Score, Time, Summary and Text and on doing analysis it was found that <br>\n",
        "<br> \n",
        "ProductId=B000HDOPZG was Loacker Quadratini Vanilla Wafer Cookies, 8.82-Ounce Packages (Pack of 8)<br>\n",
        "<br> \n",
        "ProductId=B000HDL1RQ was Loacker Quadratini Lemon Wafer Cookies, 8.82-Ounce Packages (Pack of 8) and so on<br>\n",
        "\n",
        "It was inferred after analysis that reviews with same parameters other than ProductId belonged to the same product just having different flavour or quantity. Hence in order to reduce redundancy it was decided to eliminate the rows having same parameters.<br>\n",
        "\n",
        "The method used for the same was that we first sort the data according to ProductId and then just keep the first similar product review and delelte the others. for eg. in the above just the review for ProductId=B000HDL1RQ remains. This method ensures that there is only one representative for each product and deduplication without sorting would lead to possibility of different representatives still existing for the same product."
      ]
    },
    {
      "cell_type": "code",
      "metadata": {
        "id": "mdsKFc50LPme",
        "colab_type": "code",
        "colab": {}
      },
      "source": [
        "#Sorting data according to ProductId in ascending order\n",
        "sorted_data=filtered_data.sort_values('ProductId', axis=0, ascending=True, inplace=False, kind='quicksort', na_position='last')"
      ],
      "execution_count": null,
      "outputs": []
    },
    {
      "cell_type": "code",
      "metadata": {
        "id": "2itLgX-NLPmk",
        "colab_type": "code",
        "colab": {
          "base_uri": "https://localhost:8080/",
          "height": 34
        },
        "outputId": "02dc4d10-8dfb-46fe-d805-f717b4804873"
      },
      "source": [
        "#Deduplication of entries\n",
        "final=sorted_data.drop_duplicates(subset={\"UserId\",\"ProfileName\",\"Time\",\"Text\"}, keep='first', inplace=False)\n",
        "final.shape"
      ],
      "execution_count": null,
      "outputs": [
        {
          "output_type": "execute_result",
          "data": {
            "text/plain": [
              "(364173, 10)"
            ]
          },
          "metadata": {
            "tags": []
          },
          "execution_count": 9
        }
      ]
    },
    {
      "cell_type": "code",
      "metadata": {
        "id": "pp7gzE4Ol4lk",
        "colab_type": "code",
        "colab": {
          "base_uri": "https://localhost:8080/",
          "height": 153
        },
        "outputId": "5bea17f8-009f-439f-ab55-665a6dab995b"
      },
      "source": [
        "final.sort_values('Time',inplace=True)\n",
        "print(final.head(5))"
      ],
      "execution_count": null,
      "outputs": [
        {
          "output_type": "stream",
          "text": [
            "            Id  ...                                               Text\n",
            "138706  150524  ...  this witty little book makes my son laugh at l...\n",
            "138683  150501  ...  I can remember seeing the show when it aired o...\n",
            "417839  451856  ...  Beetlejuice is a well written movie ..... ever...\n",
            "346055  374359  ...  A twist of rumplestiskin captured on film, sta...\n",
            "417838  451855  ...  Beetlejuice is an excellent and funny movie. K...\n",
            "\n",
            "[5 rows x 10 columns]\n"
          ],
          "name": "stdout"
        }
      ]
    },
    {
      "cell_type": "code",
      "metadata": {
        "id": "IBU4iZk4LPmt",
        "colab_type": "code",
        "colab": {
          "base_uri": "https://localhost:8080/",
          "height": 34
        },
        "outputId": "a0b7de42-b9a4-42f9-8d50-938813e54b0b"
      },
      "source": [
        "#Checking to see how much % of data still remains\n",
        "(final['Id'].size*1.0)/(filtered_data['Id'].size*1.0)*100"
      ],
      "execution_count": null,
      "outputs": [
        {
          "output_type": "execute_result",
          "data": {
            "text/plain": [
              "69.25890143662969"
            ]
          },
          "metadata": {
            "tags": []
          },
          "execution_count": 11
        }
      ]
    },
    {
      "cell_type": "markdown",
      "metadata": {
        "id": "gFBOfSe4LPmy",
        "colab_type": "text"
      },
      "source": [
        "<b>Observation:-</b> It was also seen that in two rows given below the value of HelpfulnessNumerator is greater than HelpfulnessDenominator which is not practically possible hence these two rows too are removed from calcualtions"
      ]
    },
    {
      "cell_type": "code",
      "metadata": {
        "id": "50flE40lLPmz",
        "colab_type": "code",
        "colab": {
          "base_uri": "https://localhost:8080/",
          "height": 179
        },
        "outputId": "74bfecfb-e994-4889-b44e-2829e0f71c10"
      },
      "source": [
        "display= pd.read_sql_query(\"\"\"\n",
        "SELECT *\n",
        "FROM Reviews\n",
        "WHERE Score != 3 AND Id=44737 OR Id=64422\n",
        "ORDER BY ProductID\n",
        "\"\"\", con)\n",
        "\n",
        "display.head()"
      ],
      "execution_count": null,
      "outputs": [
        {
          "output_type": "execute_result",
          "data": {
            "text/html": [
              "<div>\n",
              "<style scoped>\n",
              "    .dataframe tbody tr th:only-of-type {\n",
              "        vertical-align: middle;\n",
              "    }\n",
              "\n",
              "    .dataframe tbody tr th {\n",
              "        vertical-align: top;\n",
              "    }\n",
              "\n",
              "    .dataframe thead th {\n",
              "        text-align: right;\n",
              "    }\n",
              "</style>\n",
              "<table border=\"1\" class=\"dataframe\">\n",
              "  <thead>\n",
              "    <tr style=\"text-align: right;\">\n",
              "      <th></th>\n",
              "      <th>Id</th>\n",
              "      <th>ProductId</th>\n",
              "      <th>UserId</th>\n",
              "      <th>ProfileName</th>\n",
              "      <th>HelpfulnessNumerator</th>\n",
              "      <th>HelpfulnessDenominator</th>\n",
              "      <th>Score</th>\n",
              "      <th>Time</th>\n",
              "      <th>Summary</th>\n",
              "      <th>Text</th>\n",
              "    </tr>\n",
              "  </thead>\n",
              "  <tbody>\n",
              "    <tr>\n",
              "      <th>0</th>\n",
              "      <td>64422</td>\n",
              "      <td>B000MIDROQ</td>\n",
              "      <td>A161DK06JJMCYF</td>\n",
              "      <td>J. E. Stephens \"Jeanne\"</td>\n",
              "      <td>3</td>\n",
              "      <td>1</td>\n",
              "      <td>5</td>\n",
              "      <td>1224892800</td>\n",
              "      <td>Bought This for My Son at College</td>\n",
              "      <td>My son loves spaghetti so I didn't hesitate or...</td>\n",
              "    </tr>\n",
              "    <tr>\n",
              "      <th>1</th>\n",
              "      <td>44737</td>\n",
              "      <td>B001EQ55RW</td>\n",
              "      <td>A2V0I904FH7ABY</td>\n",
              "      <td>Ram</td>\n",
              "      <td>3</td>\n",
              "      <td>2</td>\n",
              "      <td>4</td>\n",
              "      <td>1212883200</td>\n",
              "      <td>Pure cocoa taste with crunchy almonds inside</td>\n",
              "      <td>It was almost a 'love at first bite' - the per...</td>\n",
              "    </tr>\n",
              "  </tbody>\n",
              "</table>\n",
              "</div>"
            ],
            "text/plain": [
              "      Id  ...                                               Text\n",
              "0  64422  ...  My son loves spaghetti so I didn't hesitate or...\n",
              "1  44737  ...  It was almost a 'love at first bite' - the per...\n",
              "\n",
              "[2 rows x 10 columns]"
            ]
          },
          "metadata": {
            "tags": []
          },
          "execution_count": 12
        }
      ]
    },
    {
      "cell_type": "code",
      "metadata": {
        "id": "0YTPJMLTLPm7",
        "colab_type": "code",
        "colab": {}
      },
      "source": [
        "final=final[final.HelpfulnessNumerator<=final.HelpfulnessDenominator]"
      ],
      "execution_count": null,
      "outputs": []
    },
    {
      "cell_type": "code",
      "metadata": {
        "id": "LVJ_l-x2LPnC",
        "colab_type": "code",
        "colab": {
          "base_uri": "https://localhost:8080/",
          "height": 85
        },
        "outputId": "15ea9763-6cf4-4d9b-9ab4-e7d2436f3351"
      },
      "source": [
        "#Before starting the next phase of preprocessing lets see the number of entries left\n",
        "print(final.shape)\n",
        "\n",
        "#How many positive and negative reviews are present in our dataset?\n",
        "final['Score'].value_counts()"
      ],
      "execution_count": null,
      "outputs": [
        {
          "output_type": "stream",
          "text": [
            "(364171, 10)\n"
          ],
          "name": "stdout"
        },
        {
          "output_type": "execute_result",
          "data": {
            "text/plain": [
              "1    307061\n",
              "0     57110\n",
              "Name: Score, dtype: int64"
            ]
          },
          "metadata": {
            "tags": []
          },
          "execution_count": 14
        }
      ]
    },
    {
      "cell_type": "markdown",
      "metadata": {
        "id": "GrTYWzYrLPnH",
        "colab_type": "text"
      },
      "source": [
        "#  [3] Preprocessing"
      ]
    },
    {
      "cell_type": "markdown",
      "metadata": {
        "id": "zbvLitZeLPnI",
        "colab_type": "text"
      },
      "source": [
        "## [3.1].  Preprocessing Review Text\n",
        "\n",
        "Now that we have finished deduplication our data requires some preprocessing before we go on further with analysis and making the prediction model.\n",
        "\n",
        "Hence in the Preprocessing phase we do the following in the order below:-\n",
        "\n",
        "1. Begin by removing the html tags\n",
        "2. Remove any punctuations or limited set of special characters like , or . or # etc.\n",
        "3. Check if the word is made up of english letters and is not alpha-numeric\n",
        "4. Check to see if the length of the word is greater than 2 (as it was researched that there is no adjective in 2-letters)\n",
        "5. Convert the word to lowercase\n",
        "6. Remove Stopwords\n",
        "7. Finally Snowball Stemming the word (it was obsereved to be better than Porter Stemming)<br>\n",
        "\n",
        "After which we collect the words used to describe positive and negative reviews"
      ]
    },
    {
      "cell_type": "code",
      "metadata": {
        "id": "yYDc0ZXALPnK",
        "colab_type": "code",
        "colab": {
          "base_uri": "https://localhost:8080/",
          "height": 173
        },
        "outputId": "ac50fe6b-0b9c-4b92-a94f-687aa9e951a6"
      },
      "source": [
        "# printing some random reviews\n",
        "sent_0 = final['Text'].values[0]\n",
        "print(sent_0)\n",
        "print(\"=\"*50)\n",
        "\n",
        "sent_1000 = final['Text'].values[1000]\n",
        "print(sent_1000)\n",
        "print(\"=\"*50)\n",
        "\n",
        "sent_1500 = final['Text'].values[1500]\n",
        "print(sent_1500)\n",
        "print(\"=\"*50)\n",
        "\n",
        "sent_4900 = final['Text'].values[4900]\n",
        "print(sent_4900)\n",
        "print(\"=\"*50)"
      ],
      "execution_count": null,
      "outputs": [
        {
          "output_type": "stream",
          "text": [
            "this witty little book makes my son laugh at loud. i recite it in the car as we're driving along and he always can sing the refrain. he's learned about whales, India, drooping roses:  i love all the new words this book  introduces and the silliness of it all.  this is a classic book i am  willing to bet my son will STILL be able to recite from memory when he is  in college\n",
            "==================================================\n",
            "I finally ordered a couple products from this seller for myself(not as gifts) and I am really happy. This Jade Bonsai is really cool and it arrived fast and in perfect condition. It's in my living room and I get tons of compliments. It's already grown some too and the pot it came in is really nice, looks expensive! Much bigger than I thought it would be even.  Thanks again!!\n",
            "==================================================\n",
            "I bought some of this tea when I was in Seattle and I have been dying to get more.  It really is the best tea I have ever had.  It is great hot or cold.\n",
            "==================================================\n",
            "I would prefer freshly made brown rice, but that takes a long time to make and isn't easy. This makes it convenient, and takes all the guess work out of making it. I generally have been buying frozen organic brown rice, but that takes up lots of freezer space. The fact that this is easy to store at room temperature is a big plus. I'll be buying more.\n",
            "==================================================\n"
          ],
          "name": "stdout"
        }
      ]
    },
    {
      "cell_type": "code",
      "metadata": {
        "id": "AxYh-wPiLPnS",
        "colab_type": "code",
        "colab": {
          "base_uri": "https://localhost:8080/",
          "height": 54
        },
        "outputId": "4c6d4988-3a83-4d22-a4aa-6f25deb55d47"
      },
      "source": [
        "# remove urls from text python: https://stackoverflow.com/a/40823105/4084039\n",
        "sent_0 = re.sub(r\"http\\S+\", \"\", sent_0)\n",
        "sent_1000 = re.sub(r\"http\\S+\", \"\", sent_1000)\n",
        "sent_150 = re.sub(r\"http\\S+\", \"\", sent_1500)\n",
        "sent_4900 = re.sub(r\"http\\S+\", \"\", sent_4900)\n",
        "\n",
        "print(sent_0)"
      ],
      "execution_count": null,
      "outputs": [
        {
          "output_type": "stream",
          "text": [
            "this witty little book makes my son laugh at loud. i recite it in the car as we're driving along and he always can sing the refrain. he's learned about whales, India, drooping roses:  i love all the new words this book  introduces and the silliness of it all.  this is a classic book i am  willing to bet my son will STILL be able to recite from memory when he is  in college\n"
          ],
          "name": "stdout"
        }
      ]
    },
    {
      "cell_type": "code",
      "metadata": {
        "id": "JMSSWjZqLPne",
        "colab_type": "code",
        "colab": {
          "base_uri": "https://localhost:8080/",
          "height": 156
        },
        "outputId": "4b16d24e-2801-466e-bde5-c366587ac880"
      },
      "source": [
        "# https://stackoverflow.com/questions/16206380/python-beautifulsoup-how-to-remove-all-tags-from-an-element\n",
        "from bs4 import BeautifulSoup\n",
        "\n",
        "soup = BeautifulSoup(sent_0, 'lxml')\n",
        "text = soup.get_text()\n",
        "print(text)\n",
        "print(\"=\"*50)\n",
        "\n",
        "soup = BeautifulSoup(sent_1000, 'lxml')\n",
        "text = soup.get_text()\n",
        "print(text)\n",
        "print(\"=\"*50)\n",
        "\n",
        "soup = BeautifulSoup(sent_1500, 'lxml')\n",
        "text = soup.get_text()\n",
        "print(text)\n",
        "print(\"=\"*50)\n",
        "\n",
        "soup = BeautifulSoup(sent_4900, 'lxml')\n",
        "text = soup.get_text()\n",
        "print(text)"
      ],
      "execution_count": null,
      "outputs": [
        {
          "output_type": "stream",
          "text": [
            "this witty little book makes my son laugh at loud. i recite it in the car as we're driving along and he always can sing the refrain. he's learned about whales, India, drooping roses:  i love all the new words this book  introduces and the silliness of it all.  this is a classic book i am  willing to bet my son will STILL be able to recite from memory when he is  in college\n",
            "==================================================\n",
            "I finally ordered a couple products from this seller for myself(not as gifts) and I am really happy. This Jade Bonsai is really cool and it arrived fast and in perfect condition. It's in my living room and I get tons of compliments. It's already grown some too and the pot it came in is really nice, looks expensive! Much bigger than I thought it would be even.  Thanks again!!\n",
            "==================================================\n",
            "I bought some of this tea when I was in Seattle and I have been dying to get more.  It really is the best tea I have ever had.  It is great hot or cold.\n",
            "==================================================\n",
            "I would prefer freshly made brown rice, but that takes a long time to make and isn't easy. This makes it convenient, and takes all the guess work out of making it. I generally have been buying frozen organic brown rice, but that takes up lots of freezer space. The fact that this is easy to store at room temperature is a big plus. I'll be buying more.\n"
          ],
          "name": "stdout"
        }
      ]
    },
    {
      "cell_type": "code",
      "metadata": {
        "id": "BEtpMkhULPnt",
        "colab_type": "code",
        "colab": {}
      },
      "source": [
        "# https://stackoverflow.com/a/47091490/4084039\n",
        "import re\n",
        "\n",
        "def decontracted(phrase):\n",
        "    # specific\n",
        "    phrase = re.sub(r\"won't\", \"will not\", phrase)\n",
        "    phrase = re.sub(r\"can\\'t\", \"can not\", phrase)\n",
        "\n",
        "    # general\n",
        "    phrase = re.sub(r\"n\\'t\", \" not\", phrase)\n",
        "    phrase = re.sub(r\"\\'re\", \" are\", phrase)\n",
        "    phrase = re.sub(r\"\\'s\", \" is\", phrase)\n",
        "    phrase = re.sub(r\"\\'d\", \" would\", phrase)\n",
        "    phrase = re.sub(r\"\\'ll\", \" will\", phrase)\n",
        "    phrase = re.sub(r\"\\'t\", \" not\", phrase)\n",
        "    phrase = re.sub(r\"\\'ve\", \" have\", phrase)\n",
        "    phrase = re.sub(r\"\\'m\", \" am\", phrase)\n",
        "    return phrase"
      ],
      "execution_count": null,
      "outputs": []
    },
    {
      "cell_type": "code",
      "metadata": {
        "id": "GavAnzNjLPnx",
        "colab_type": "code",
        "colab": {
          "base_uri": "https://localhost:8080/",
          "height": 51
        },
        "outputId": "c406fe6b-b9a9-49d0-9016-8c29d871ccd4"
      },
      "source": [
        "sent_1500 = decontracted(sent_1500)\n",
        "print(sent_1500)\n",
        "print(\"=\"*50)"
      ],
      "execution_count": null,
      "outputs": [
        {
          "output_type": "stream",
          "text": [
            "I bought some of this tea when I was in Seattle and I have been dying to get more.  It really is the best tea I have ever had.  It is great hot or cold.\n",
            "==================================================\n"
          ],
          "name": "stdout"
        }
      ]
    },
    {
      "cell_type": "code",
      "metadata": {
        "id": "Kl8nOoL-LPn3",
        "colab_type": "code",
        "colab": {
          "base_uri": "https://localhost:8080/",
          "height": 54
        },
        "outputId": "fd2ac5be-dc4d-4f1f-cce7-cb60ba038a9e"
      },
      "source": [
        "#remove words with numbers python: https://stackoverflow.com/a/18082370/4084039\n",
        "sent_0 = re.sub(\"\\S*\\d\\S*\", \"\", sent_0).strip()\n",
        "print(sent_0)"
      ],
      "execution_count": null,
      "outputs": [
        {
          "output_type": "stream",
          "text": [
            "this witty little book makes my son laugh at loud. i recite it in the car as we're driving along and he always can sing the refrain. he's learned about whales, India, drooping roses:  i love all the new words this book  introduces and the silliness of it all.  this is a classic book i am  willing to bet my son will STILL be able to recite from memory when he is  in college\n"
          ],
          "name": "stdout"
        }
      ]
    },
    {
      "cell_type": "code",
      "metadata": {
        "id": "EGB6X2uxLPn7",
        "colab_type": "code",
        "colab": {
          "base_uri": "https://localhost:8080/",
          "height": 34
        },
        "outputId": "a2e5ae78-b702-40e5-ddc1-92685bd45d6b"
      },
      "source": [
        "#remove spacial character: https://stackoverflow.com/a/5843547/4084039\n",
        "sent_1500 = re.sub('[^A-Za-z0-9]+', ' ', sent_1500)\n",
        "print(sent_1500)"
      ],
      "execution_count": null,
      "outputs": [
        {
          "output_type": "stream",
          "text": [
            "I bought some of this tea when I was in Seattle and I have been dying to get more It really is the best tea I have ever had It is great hot or cold \n"
          ],
          "name": "stdout"
        }
      ]
    },
    {
      "cell_type": "code",
      "metadata": {
        "id": "JMrRshklm83R",
        "colab_type": "code",
        "colab": {}
      },
      "source": [
        "final=final.sample(40000,random_state=23)"
      ],
      "execution_count": null,
      "outputs": []
    },
    {
      "cell_type": "code",
      "metadata": {
        "id": "mFHQEvfnLPoF",
        "colab_type": "code",
        "colab": {
          "base_uri": "https://localhost:8080/",
          "height": 66,
          "referenced_widgets": [
            "3dfaac9d89a34c7b92cfbfb44011765a",
            "b41742df4ba34cf9885a4b50945c9cbc",
            "69fa9e92855f48378a58d4c80c9de833",
            "bf938b1bf8654797a1873ea47d1ddfd4",
            "1f7ea95a219f425d971d917c581f9864",
            "d4e1be00f4e44542b6fcbb453133dc86",
            "daa93b4f6526441ca00210732e144795",
            "b777b35897ac42d592862561a87bfcea"
          ]
        },
        "outputId": "76f09a12-b930-4e1b-e61c-c64c33b1f8d1"
      },
      "source": [
        "# Combining all the above stundents \n",
        "from tqdm.notebook import tqdm\n",
        "preprocessed_reviews = []\n",
        "# tqdm is for printing the status bar\n",
        "for sentance in tqdm(final['Text'].values):\n",
        "    sentance = re.sub(r\"http\\S+\", \"\", sentance)\n",
        "    sentance = BeautifulSoup(sentance, 'lxml').get_text()\n",
        "    sentance = decontracted(sentance)\n",
        "    sentance = re.sub(\"\\S*\\d\\S*\", \"\", sentance).strip()\n",
        "    sentance = re.sub('[^A-Za-z]+', ' ', sentance)\n",
        "    # https://gist.github.com/sebleier/554280\n",
        "    sentance = ' '.join(e.lower() for e in sentance.split())\n",
        "    preprocessed_reviews.append(sentance.strip())"
      ],
      "execution_count": null,
      "outputs": [
        {
          "output_type": "display_data",
          "data": {
            "application/vnd.jupyter.widget-view+json": {
              "model_id": "3dfaac9d89a34c7b92cfbfb44011765a",
              "version_minor": 0,
              "version_major": 2
            },
            "text/plain": [
              "HBox(children=(FloatProgress(value=0.0, max=40000.0), HTML(value='')))"
            ]
          },
          "metadata": {
            "tags": []
          }
        },
        {
          "output_type": "stream",
          "text": [
            "\n"
          ],
          "name": "stdout"
        }
      ]
    },
    {
      "cell_type": "code",
      "metadata": {
        "id": "Tqx8QUeRLPoH",
        "colab_type": "code",
        "colab": {
          "base_uri": "https://localhost:8080/",
          "height": 69
        },
        "outputId": "d397dae8-bd41-432f-9655-7acd4abf42b4"
      },
      "source": [
        "preprocessed_reviews[1500]"
      ],
      "execution_count": null,
      "outputs": [
        {
          "output_type": "execute_result",
          "data": {
            "application/vnd.google.colaboratory.intrinsic": {
              "type": "string"
            },
            "text/plain": [
              "'i think i am a granola expert i have tried many and let me tell you this is the best with certified organic ingredients ambrosial granola grecian grove antioxidant blend delivers nutrition and great taste i like the fact that every spoonfull is loaded with organic fruits there is no added fat and is lightely sweetened with healthy sweeteners like honey molasses and rice syrup all good for you sweeteners ambrosial product'"
            ]
          },
          "metadata": {
            "tags": []
          },
          "execution_count": 24
        }
      ]
    },
    {
      "cell_type": "markdown",
      "metadata": {
        "id": "hugYhVTTcbwv",
        "colab_type": "text"
      },
      "source": [
        "# Vectorizing sentences for LSTM input"
      ]
    },
    {
      "cell_type": "code",
      "metadata": {
        "id": "lKbESZ7oeiDx",
        "colab_type": "code",
        "colab": {}
      },
      "source": [
        "from sklearn.model_selection import train_test_split\n",
        "\n",
        "X_train, X_test, y_train, y_test = train_test_split(preprocessed_reviews,final['Score'].values,test_size=0.3,random_state=0)"
      ],
      "execution_count": null,
      "outputs": []
    },
    {
      "cell_type": "code",
      "metadata": {
        "id": "h239rPvZpnCM",
        "colab_type": "code",
        "colab": {}
      },
      "source": [
        "def concat(list):\n",
        "    from tqdm.notebook import tqdm\n",
        "    op= ' '\n",
        "    print(\"making a Bag of words\")\n",
        "    for ele in tqdm(list):\n",
        "        op = op + ' '+ str(ele)\n",
        "    return op.split(' ')"
      ],
      "execution_count": null,
      "outputs": []
    },
    {
      "cell_type": "code",
      "metadata": {
        "id": "2VYkqn1goF_9",
        "colab_type": "code",
        "colab": {}
      },
      "source": [
        "# def fit(lst,top_word):\n",
        "#   from tqdm.notebook import tqdm\n",
        "#   corpus=[]\n",
        "#   corpus=concat(lst)\n",
        "#   print('generating word frequncy dictionry')\n",
        "#   freq = [corpus.count(p) for p in tqdm(corpus)]\n",
        "#   dic=dict(list(zip(corpus,freq)))\n",
        "#   arr = [list(dic.items()) for d in dic]\n",
        "#   print('returning word frequncy dataframe')\n",
        "#   return pd.DataFrame(arr[0], columns=['word', 'freq']).sort_values(by=['freq'], ascending=False,ignore_index=True).head(top_word)"
      ],
      "execution_count": null,
      "outputs": []
    },
    {
      "cell_type": "code",
      "metadata": {
        "id": "nxxeBC25obwN",
        "colab_type": "code",
        "colab": {}
      },
      "source": [
        "# def fit(lst,top_word):\n",
        "#   from tqdm.notebook import tqdm\n",
        "#   import itertools\n",
        "#   corpus=[]\n",
        "#   dic={}\n",
        "#   corpus=concat(lst)\n",
        "#   print('generating word frequncy dictionry')\n",
        "  \n",
        "#   for p in tqdm(corpus):\n",
        "#     freq=0\n",
        "#     if p in dic.keys():\n",
        "#       pass\n",
        "#     else:\n",
        "#       freq=(corpus.count(p))\n",
        "#       dic[p]=freq\n",
        "#   sort_orders = dict(sorted(dic.items(), key=lambda x: x[1], reverse=True))\n",
        "#   out = dict(itertools.islice(sort_orders.items(), top_word))\n",
        "#   print('returning word frequncy dataframe')\n",
        "#   return pd.DataFrame([out])"
      ],
      "execution_count": null,
      "outputs": []
    },
    {
      "cell_type": "code",
      "metadata": {
        "id": "qazcyMdyM-eI",
        "colab_type": "code",
        "colab": {}
      },
      "source": [
        "def fit(lst,top_word):\n",
        "  from tqdm.notebook import tqdm\n",
        "  import itertools\n",
        "  corpus=[]\n",
        "  dic={}\n",
        "  corpus=concat(lst)\n",
        "  print('generating word frequency dictionry')\n",
        "  \n",
        "  for p in tqdm(corpus):\n",
        "    freq=0\n",
        "    if p in dic.keys():\n",
        "      pass\n",
        "    else:\n",
        "      freq=(corpus.count(p))\n",
        "      dic[p]=freq\n",
        "  sort_orders = dict(sorted(dic.items(), key=lambda x: x[1], reverse=True))\n",
        "  print('dictionary sorted')\n",
        "\n",
        "  out = dict(itertools.islice(sort_orders.items(), top_word))\n",
        "  print('top {} words extracted'.format(top_word))\n",
        "\n",
        "  arr = list(out.keys())\n",
        "  print('returnig dataframe')\n",
        "  return np.array(arr)"
      ],
      "execution_count": null,
      "outputs": []
    },
    {
      "cell_type": "code",
      "metadata": {
        "id": "VghX4UsL3qCr",
        "colab_type": "code",
        "colab": {}
      },
      "source": [
        "def transform(lst,fit):\n",
        "  doc=[]\n",
        "  from tqdm.notebook import tqdm\n",
        "  fit=fit.tolist()\n",
        "  print('generating document list containing sentance list in vetor form')\n",
        "  for sent in tqdm(lst):\n",
        "    sent_vect=[]\n",
        "    for word in sent.split(' '):\n",
        "      try:\n",
        "            idx = fit.index(str(word))+1\n",
        "      except:\n",
        "            idx = 0\n",
        "      sent_vect.append(idx)\n",
        "    doc.append(sent_vect)\n",
        "  return doc"
      ],
      "execution_count": null,
      "outputs": []
    },
    {
      "cell_type": "code",
      "metadata": {
        "id": "PzJ53q1h52C5",
        "colab_type": "code",
        "colab": {
          "base_uri": "https://localhost:8080/",
          "height": 88
        },
        "outputId": "ec8929f4-23e7-4088-9bb4-2326836ae726"
      },
      "source": [
        "print(type(X_train[9]))\n",
        "print(len(X_train[9].split(' ')))\n",
        "print(X_train[9])"
      ],
      "execution_count": null,
      "outputs": [
        {
          "output_type": "stream",
          "text": [
            "<class 'str'>\n",
            "33\n",
            "bought these regularly from the vending machine at college until of course they stopped stocking them why i do not know i was happy to find them at amazon and bought a case\n"
          ],
          "name": "stdout"
        }
      ]
    },
    {
      "cell_type": "code",
      "metadata": {
        "id": "Cl22UKR65xQH",
        "colab_type": "code",
        "colab": {
          "base_uri": "https://localhost:8080/",
          "height": 88
        },
        "outputId": "fd2de703-0ffc-47a0-a021-26e9f3c5fd0f"
      },
      "source": [
        "print(type(X_train[1]))\n",
        "print(len(X_train[1].split(' ')))\n",
        "print(X_train[0])"
      ],
      "execution_count": null,
      "outputs": [
        {
          "output_type": "stream",
          "text": [
            "<class 'str'>\n",
            "47\n",
            "my husband is a huge root beer fan so i got him this for christmas the root beer was good but with shipping it comes to a lot of money after i ordered i found out you can actually get all of these brands at cost plus for much cheaper since you do not have to pay for shipping\n"
          ],
          "name": "stdout"
        }
      ]
    },
    {
      "cell_type": "code",
      "metadata": {
        "id": "FoMGwX4BmmOR",
        "colab_type": "code",
        "colab": {
          "base_uri": "https://localhost:8080/",
          "height": 68
        },
        "outputId": "0e6bef79-f774-420e-e618-2d2b5c27b17f"
      },
      "source": [
        "print(type(X_train[24]))\n",
        "print(len(X_train[24].split(' ')))\n",
        "print(X_train[24])"
      ],
      "execution_count": null,
      "outputs": [
        {
          "output_type": "stream",
          "text": [
            "<class 'str'>\n",
            "22\n",
            "light n fluffy less hulls than most interesting light bluish tint to the poppped corn love the convenience of the microwave bags\n"
          ],
          "name": "stdout"
        }
      ]
    },
    {
      "cell_type": "code",
      "metadata": {
        "id": "Ossk-F4Imsxc",
        "colab_type": "code",
        "colab": {}
      },
      "source": [
        "ts_lst=[X_train[1],X_train[9],X_train[24]]"
      ],
      "execution_count": null,
      "outputs": []
    },
    {
      "cell_type": "code",
      "metadata": {
        "id": "E5m8xBjp5sqg",
        "colab_type": "code",
        "colab": {
          "base_uri": "https://localhost:8080/",
          "height": 137,
          "referenced_widgets": [
            "644f3bec13e64bb2b03460b8b199abfe",
            "0f60debdc8004f618e9280b900de6cbf",
            "81c49d3f2c6e4889bfd8078a406a317b",
            "148717607748469499c8bbd34b29007e",
            "b6ff81dd309a4791afe2f36f5af07df2",
            "1715561430934a9aa33a923936b12344",
            "66b90b7e79314fb0b2e207548b4c035d",
            "a9826c1e1e22499aa10c2087afd87c65"
          ]
        },
        "outputId": "276bf44c-d40d-42e5-a89a-aeb2c8d340b2"
      },
      "source": [
        "ts=concat(ts_lst)\n",
        "print(len(ts))\n",
        "print(ts)"
      ],
      "execution_count": null,
      "outputs": [
        {
          "output_type": "stream",
          "text": [
            "making a Bag of words\n"
          ],
          "name": "stdout"
        },
        {
          "output_type": "display_data",
          "data": {
            "application/vnd.jupyter.widget-view+json": {
              "model_id": "644f3bec13e64bb2b03460b8b199abfe",
              "version_minor": 0,
              "version_major": 2
            },
            "text/plain": [
              "HBox(children=(FloatProgress(value=0.0, max=3.0), HTML(value='')))"
            ]
          },
          "metadata": {
            "tags": []
          }
        },
        {
          "output_type": "stream",
          "text": [
            "\n",
            "104\n",
            "['', '', 'enjoyed', 'making', 'those', 'cookies', 'with', 'my', 'two', 'girls', 'and', 'yo', 'they', 'enjoyed', 'cracking', 'egg', 'and', 'mixing', 'it', 'then', 'watching', 'it', 'to', 'shape', 'up', 'and', 'get', 'ready', 'easy', 'to', 'make', 'fast', 'to', 'prepare', 'and', 'really', 'tasty', 'also', 'makes', 'a', 'good', 'project', 'for', 'kids', 'when', 'they', 'have', 'friends', 'over', 'bought', 'these', 'regularly', 'from', 'the', 'vending', 'machine', 'at', 'college', 'until', 'of', 'course', 'they', 'stopped', 'stocking', 'them', 'why', 'i', 'do', 'not', 'know', 'i', 'was', 'happy', 'to', 'find', 'them', 'at', 'amazon', 'and', 'bought', 'a', 'case', 'light', 'n', 'fluffy', 'less', 'hulls', 'than', 'most', 'interesting', 'light', 'bluish', 'tint', 'to', 'the', 'poppped', 'corn', 'love', 'the', 'convenience', 'of', 'the', 'microwave', 'bags']\n"
          ],
          "name": "stdout"
        }
      ]
    },
    {
      "cell_type": "code",
      "metadata": {
        "id": "iOyXEuf355iO",
        "colab_type": "code",
        "colab": {
          "base_uri": "https://localhost:8080/",
          "height": 200,
          "referenced_widgets": [
            "06f8ad73b67f41318e890863268b03ef",
            "fca6343eaf024633989029be278bf4e9",
            "db324610418f405fac9c4dad7725d345",
            "960ac1de1b414a73a3eff051184bb824",
            "bfc57eab7e5a40feaf5cf665789d5009",
            "2fed281e42d24dfa9bf09fefae45343d",
            "faeddc2346534873a2ab5fc21e8207d0",
            "9dc5065551d845d2af529ea4eb2bfffe",
            "4de8b662861d43f3abf55d9aca57393c",
            "120e7b0a1c0e4d85b756603fc3658b76",
            "4c96c70b9d3d4569b48c3c7179b068b7",
            "346b0061739d4d708fa3252519a9b438",
            "b91a281b7c0e4798986186e057ff9683",
            "f8ea879c28df49918463b59ff2c4b094",
            "a3fbb06b6f3848849323c8cbc54ea6c7",
            "87e49a3f7a554d69abc74b3fcfc418c0"
          ]
        },
        "outputId": "63fcbe45-acca-49e4-a7b2-47024e92f249"
      },
      "source": [
        "X=fit(ts_lst,50)"
      ],
      "execution_count": null,
      "outputs": [
        {
          "output_type": "stream",
          "text": [
            "making a Bag of words\n"
          ],
          "name": "stdout"
        },
        {
          "output_type": "display_data",
          "data": {
            "application/vnd.jupyter.widget-view+json": {
              "model_id": "06f8ad73b67f41318e890863268b03ef",
              "version_minor": 0,
              "version_major": 2
            },
            "text/plain": [
              "HBox(children=(FloatProgress(value=0.0, max=3.0), HTML(value='')))"
            ]
          },
          "metadata": {
            "tags": []
          }
        },
        {
          "output_type": "stream",
          "text": [
            "\n",
            "generating word frequency dictionry\n"
          ],
          "name": "stdout"
        },
        {
          "output_type": "display_data",
          "data": {
            "application/vnd.jupyter.widget-view+json": {
              "model_id": "4de8b662861d43f3abf55d9aca57393c",
              "version_minor": 0,
              "version_major": 2
            },
            "text/plain": [
              "HBox(children=(FloatProgress(value=0.0, max=104.0), HTML(value='')))"
            ]
          },
          "metadata": {
            "tags": []
          }
        },
        {
          "output_type": "stream",
          "text": [
            "\n",
            "dictionary sorted\n",
            "top 50 words extracted\n",
            "returnig dataframe\n"
          ],
          "name": "stdout"
        }
      ]
    },
    {
      "cell_type": "code",
      "metadata": {
        "id": "IjuJDrsC59eu",
        "colab_type": "code",
        "colab": {
          "base_uri": "https://localhost:8080/",
          "height": 136
        },
        "outputId": "3c6f5607-b90f-455f-f658-6c10d22dc146"
      },
      "source": [
        "X"
      ],
      "execution_count": null,
      "outputs": [
        {
          "output_type": "execute_result",
          "data": {
            "text/plain": [
              "array(['and', 'to', 'the', 'they', '', 'enjoyed', 'it', 'a', 'bought',\n",
              "       'at', 'of', 'them', 'i', 'light', 'making', 'those', 'cookies',\n",
              "       'with', 'my', 'two', 'girls', 'yo', 'cracking', 'egg', 'mixing',\n",
              "       'then', 'watching', 'shape', 'up', 'get', 'ready', 'easy', 'make',\n",
              "       'fast', 'prepare', 'really', 'tasty', 'also', 'makes', 'good',\n",
              "       'project', 'for', 'kids', 'when', 'have', 'friends', 'over',\n",
              "       'these', 'regularly', 'from'], dtype='<U9')"
            ]
          },
          "metadata": {
            "tags": []
          },
          "execution_count": 38
        }
      ]
    },
    {
      "cell_type": "code",
      "metadata": {
        "id": "kYAjXY_vGdzW",
        "colab_type": "code",
        "colab": {
          "base_uri": "https://localhost:8080/",
          "height": 83,
          "referenced_widgets": [
            "b22ad095b75341368e21caed4bd710f6",
            "a2257726000748219f07c0acf33efecb",
            "62f125f57ff1434b9db04c7d6c375cca",
            "b4acb3903e91439aa9efe756f78bebcc",
            "407c944004a74af0be2db87d70a03d13",
            "1370c0a55a1d4e4aae794ac35c68bb03",
            "22cd6a676d4148fc8544f82395a2b78d",
            "15bc5ed04ee942a38ff35b3eb4ac88ba"
          ]
        },
        "outputId": "ee78844a-3fe3-43c3-f532-0471e2328b2a"
      },
      "source": [
        "y=transform(ts_lst,X)"
      ],
      "execution_count": null,
      "outputs": [
        {
          "output_type": "stream",
          "text": [
            "generating document list containing sentance list in vetor form\n"
          ],
          "name": "stdout"
        },
        {
          "output_type": "display_data",
          "data": {
            "application/vnd.jupyter.widget-view+json": {
              "model_id": "b22ad095b75341368e21caed4bd710f6",
              "version_minor": 0,
              "version_major": 2
            },
            "text/plain": [
              "HBox(children=(FloatProgress(value=0.0, max=3.0), HTML(value='')))"
            ]
          },
          "metadata": {
            "tags": []
          }
        },
        {
          "output_type": "stream",
          "text": [
            "\n"
          ],
          "name": "stdout"
        }
      ]
    },
    {
      "cell_type": "code",
      "metadata": {
        "id": "VfQlS-OkGmO_",
        "colab_type": "code",
        "colab": {
          "base_uri": "https://localhost:8080/",
          "height": 88
        },
        "outputId": "9a2f5028-6592-4892-d4a2-d4f7fb76aedb"
      },
      "source": [
        "for i in y:\n",
        "  print(i)"
      ],
      "execution_count": null,
      "outputs": [
        {
          "output_type": "stream",
          "text": [
            "[6, 15, 16, 17, 18, 19, 20, 21, 1, 22, 4, 6, 23, 24, 1, 25, 7, 26, 27, 7, 2, 28, 29, 1, 30, 31, 32, 2, 33, 34, 2, 35, 1, 36, 37, 38, 39, 8, 40, 41, 42, 43, 44, 4, 45, 46, 47]\n",
            "[9, 48, 49, 50, 3, 0, 0, 10, 0, 0, 11, 0, 4, 0, 0, 12, 0, 13, 0, 0, 0, 13, 0, 0, 2, 0, 12, 10, 0, 1, 9, 8, 0]\n",
            "[14, 0, 0, 0, 0, 0, 0, 0, 14, 0, 0, 2, 3, 0, 0, 0, 3, 0, 11, 3, 0, 0]\n"
          ],
          "name": "stdout"
        }
      ]
    },
    {
      "cell_type": "code",
      "metadata": {
        "id": "jBmnmBTGL0AM",
        "colab_type": "code",
        "colab": {
          "base_uri": "https://localhost:8080/",
          "height": 88
        },
        "outputId": "1213f1c6-0ca7-412d-bc40-d84c0d245d7c"
      },
      "source": [
        "for i in ts_lst:\n",
        "  print(i)"
      ],
      "execution_count": null,
      "outputs": [
        {
          "output_type": "stream",
          "text": [
            "enjoyed making those cookies with my two girls and yo they enjoyed cracking egg and mixing it then watching it to shape up and get ready easy to make fast to prepare and really tasty also makes a good project for kids when they have friends over\n",
            "bought these regularly from the vending machine at college until of course they stopped stocking them why i do not know i was happy to find them at amazon and bought a case\n",
            "light n fluffy less hulls than most interesting light bluish tint to the poppped corn love the convenience of the microwave bags\n"
          ],
          "name": "stdout"
        }
      ]
    },
    {
      "cell_type": "code",
      "metadata": {
        "id": "Kj-yNiPXp4fs",
        "colab_type": "code",
        "colab": {}
      },
      "source": [
        "new_lst=X_train[1000:1005]"
      ],
      "execution_count": null,
      "outputs": []
    },
    {
      "cell_type": "code",
      "metadata": {
        "id": "mAjtS9g7qFUw",
        "colab_type": "code",
        "colab": {
          "base_uri": "https://localhost:8080/",
          "height": 83,
          "referenced_widgets": [
            "e74567ee175243cfaf6d7d74a1740245",
            "569abc04d09c436cb834c4bb6b865b23",
            "b77f5d1bcce5488f98fb9a01b9b9a93f",
            "721ce333800f41cb95cd1189fe2fa6d9",
            "18e599c66b06452f94ec337931c80f49",
            "ffa23256d17649b09853647b49c216c0",
            "d87cd745a9334303aad3376df399cbd0",
            "d974b0bf8b264b89b540c478623a707e"
          ]
        },
        "outputId": "adb1544a-5ead-4850-b0b6-ea179ae76308"
      },
      "source": [
        "y=transform(new_lst,X)"
      ],
      "execution_count": null,
      "outputs": [
        {
          "output_type": "stream",
          "text": [
            "generating document list containing sentance list in vetor form\n"
          ],
          "name": "stdout"
        },
        {
          "output_type": "display_data",
          "data": {
            "application/vnd.jupyter.widget-view+json": {
              "model_id": "e74567ee175243cfaf6d7d74a1740245",
              "version_minor": 0,
              "version_major": 2
            },
            "text/plain": [
              "HBox(children=(FloatProgress(value=0.0, max=5.0), HTML(value='')))"
            ]
          },
          "metadata": {
            "tags": []
          }
        },
        {
          "output_type": "stream",
          "text": [
            "\n"
          ],
          "name": "stdout"
        }
      ]
    },
    {
      "cell_type": "code",
      "metadata": {
        "id": "HrmpGBlpqIVB",
        "colab_type": "code",
        "colab": {
          "base_uri": "https://localhost:8080/",
          "height": 122
        },
        "outputId": "099e2544-37cf-41f8-b005-264ad0651aae"
      },
      "source": [
        "for i in y:\n",
        "  print(i)"
      ],
      "execution_count": null,
      "outputs": [
        {
          "output_type": "stream",
          "text": [
            "[13, 0, 0, 0, 8, 0, 0, 13, 0, 0, 0, 7, 0, 0, 13, 0, 0, 0, 19, 46, 0, 0, 0, 0, 4, 0, 7, 7, 0, 0, 3, 0, 7, 0, 7, 0]\n",
            "[13, 0, 3, 0, 0, 0, 0, 1, 13, 0, 13, 0, 0, 0, 8, 0, 0, 0, 30, 0, 3, 0, 42, 3, 0, 0, 0, 0, 0, 0, 7, 0, 0, 0, 0, 3, 0, 13, 0, 2, 0, 0, 0, 0, 2, 0, 0, 19, 0, 0, 0, 39, 7, 0, 0, 0, 3, 0, 0, 3, 0, 0, 0, 0, 1, 0, 0, 0, 0, 0, 0, 0, 42, 3, 0, 0, 0, 0, 7, 0, 0, 0, 0, 0]\n",
            "[0, 0, 0, 44, 7, 0, 0, 0, 0, 0, 0, 42, 7, 0, 3, 0, 0, 0, 3, 0, 0, 7, 0, 0, 42, 0, 0, 0, 40, 0, 7, 0, 42, 0, 0, 18, 8, 0, 0, 0, 0, 0, 0, 7, 0, 8, 0, 11, 0, 0, 0, 0, 0, 7, 3, 0, 20, 0, 0, 0, 1, 3, 0, 0, 0, 0, 7, 0, 0, 0, 0, 0, 0, 0, 0, 0, 0, 0, 3, 0, 0, 0, 0, 0, 0, 11, 0, 0, 3, 0, 0, 0, 0, 0, 0, 7, 0, 0, 0, 0, 0, 0, 0, 11, 0, 0, 0, 18, 0, 2, 0, 0, 1, 0, 0, 0, 0, 0, 0, 0, 0, 0, 7, 0, 0, 0, 0, 0, 7, 0, 0, 40, 42, 0, 7, 0, 0, 3, 0, 0, 0, 15, 0, 0, 0, 13, 0, 13, 0, 0, 42, 0, 0, 1, 0, 0, 0, 3, 0, 11, 3, 0, 13, 0, 0, 0, 1, 0, 0, 0, 2, 0, 0, 19, 0, 0, 13, 0, 0, 8, 0, 42, 0, 0, 44, 0, 0, 29, 13, 0, 0, 0, 2, 0, 3, 0, 0, 13, 0, 10, 3, 0, 1, 0, 0, 1, 0, 0, 8, 40, 0, 13, 45, 0, 0, 0, 1, 0, 45, 8, 0, 0, 3, 0, 0, 3, 0, 13, 0, 0, 0, 0, 7, 0, 0, 11, 3, 0, 0, 0, 0, 0, 33, 8, 0, 0, 0, 0, 0, 0, 0, 0, 0, 0, 11, 0, 0, 0, 0, 13, 0, 0, 3, 0, 0, 0, 0, 50, 0, 0, 0, 0, 0, 0]\n",
            "[13, 0, 8, 0, 0, 0, 0, 0, 0, 0, 0, 8, 0, 0, 0, 0, 0, 0, 3, 0, 0, 0, 0, 0, 0, 0, 13, 0, 2, 0, 3, 0, 0, 0, 44, 19, 0, 11, 0, 0, 0, 0, 0, 0, 3, 0, 13, 0, 0, 2, 0, 0, 0, 19, 0, 0, 0, 0, 0, 0, 0, 13, 0, 8, 0, 0, 0, 3, 0, 0, 0, 0, 11, 0, 20, 0, 13, 0, 0, 0, 19, 0, 0, 0, 29, 0, 0, 0, 3, 20, 0, 0, 0, 0, 0, 1, 13, 0, 0, 0, 2, 0, 8, 0, 0, 0, 0, 7, 0, 0, 0, 0, 7, 0, 0, 0, 0, 0, 0, 11, 0, 13, 0, 0, 0, 0, 0, 3, 0, 0, 0, 7, 0, 0, 8, 0, 0, 0, 2, 0, 0, 0, 0, 0, 7, 0, 0, 0, 3, 0, 0]\n",
            "[48, 0, 0, 0, 0, 0, 0, 48, 0, 0, 42, 8, 0, 0, 0, 3, 0, 0, 4, 0, 0, 0, 0, 44, 13, 0, 2, 3, 0, 0, 0, 0, 0, 0, 0, 0, 0, 0, 0, 0]\n"
          ],
          "name": "stdout"
        }
      ]
    },
    {
      "cell_type": "code",
      "metadata": {
        "id": "I890XCvZqMUT",
        "colab_type": "code",
        "colab": {
          "base_uri": "https://localhost:8080/",
          "height": 122
        },
        "outputId": "0499ca1e-a485-4214-c36d-55cb7bd5174b"
      },
      "source": [
        "for i in new_lst:\n",
        "  print(i)"
      ],
      "execution_count": null,
      "outputs": [
        {
          "output_type": "stream",
          "text": [
            "i sent this as a gift so i cannot comment on it too much i do know that my friends were very pleased once they received it it arrived on the date it said it would\n",
            "i use the goita chitosuma yuzu juice and i thought i would give this a try because you get double the amount for the dollar well no you do not it is diluted weaker than the goita i had to use times as much to put in my ice water that makes it more expensive in the long run the goita is higher concentrate and one can use or less as much for the same effect either way it is all better than lemon\n",
            "problem is ridiculous when it is in most grocery stores look for it in the spice aisle on the bottom shelf it is salt for cryin out loud good thing it qualifies for free shipping with a purchase problem description is wrong yes it is a pack of three pounds but that is it the next two items contradict themselves and the first one is wrong it does not contain iodine kosher salt by definition cannot contain iodine the anti caking agent is yellow prussiate of soda so the third statement is obviously wrong because it does contain an additive jeez pack contains of poundstable salt mixed with iodine to prevent goiter and anti caking agentcontains no additives problem contains an additive it is not pure salt so it is no good for pickling it can turn the pickles mushy or making preserved lemons which i love i was looking for kosher salt and could not remember the name of the one i like so well and which is hard to find in my area so i just did a search for kosher salt when this popped up i was quite surprise to see the price so i looked at the product and was amazed and not in a good way i have used this product and still have a box on the shelf in the pantry i will not be buying it again because of the additives apparently morton does not make a salt without additives even their sea salt has yellow prussiate of soda so sorry morton i will buy the diamond crystal kosher salt from now on no additives just salt\n",
            "i had a terrible plugged drain that nothing would clear finally a friend recommended that vinegar might dissolve the blockage this had so frustrated me that i decided to buy the best vinegar available when my box of modena extravecchio gold seal arrived in the mail i immediately went to work within minutes my kitchen sink was flowing freely once again i am a bit upset about the short listed shelf life of only two years i am afraid that my drain will stop up again just after the two year shelf life has expired and i will be forced to purchase a new case given that it is already years old it seems like an unreasonable limitation but of course i would not risk going against the manufacturer is recommendation it certainly commands a small premium compared to other drain cleaner products but it is well worth the extra money\n",
            "these taste great while here on amazon these are listed for a lower price than the strawberry ones they still are higher than when i go to the local store if you buy in bulk you should be saving money\n"
          ],
          "name": "stdout"
        }
      ]
    },
    {
      "cell_type": "code",
      "metadata": {
        "id": "HY8iDpctG5jB",
        "colab_type": "code",
        "colab": {}
      },
      "source": [
        "fit_vect=fit(X_train,5000)"
      ],
      "execution_count": null,
      "outputs": []
    },
    {
      "cell_type": "code",
      "metadata": {
        "id": "kVLFXDTY4p1c",
        "colab_type": "code",
        "colab": {}
      },
      "source": [
        "# dbfile1 = open('/content/drive/My Drive/FFRDB/lstm.pkl', 'wb')\n",
        "# pickle.dump(fit_vect, dbfile1)\n",
        "# dbfile1.close()\n",
        "dbfile1 = open('/content/drive/My Drive/FFRDB/lstm.pkl', 'rb')\n",
        "fit_vect = pickle.load(dbfile1)"
      ],
      "execution_count": null,
      "outputs": []
    },
    {
      "cell_type": "code",
      "metadata": {
        "id": "lGB6q_ecdOv-",
        "colab_type": "code",
        "colab": {
          "base_uri": "https://localhost:8080/",
          "height": 34
        },
        "outputId": "d1087335-5ea2-4d84-cdbc-c3dc0a63e652"
      },
      "source": [
        "fit_vect.shape"
      ],
      "execution_count": null,
      "outputs": [
        {
          "output_type": "execute_result",
          "data": {
            "text/plain": [
              "(5000,)"
            ]
          },
          "metadata": {
            "tags": []
          },
          "execution_count": 50
        }
      ]
    },
    {
      "cell_type": "code",
      "metadata": {
        "id": "RFvUSoPpKyG7",
        "colab_type": "code",
        "colab": {
          "base_uri": "https://localhost:8080/",
          "height": 83,
          "referenced_widgets": [
            "34c6342b6bef4fcb83d26df9b7f9785b",
            "8c7999f5ac524d349d5a2c45c2170d38",
            "622f094e32004173bef664aeb12fa568",
            "59f6ccec99f047bda06481e61f350354",
            "f13191e095d1404aa87e37f4b2e43498",
            "c62c611c85d74457ac731268f9b9df4f",
            "6dcb173193bb429b94b58340f6210330",
            "ca7a10cb61ae404bb0c003a13a58ca7b"
          ]
        },
        "outputId": "d3d29c10-6505-4ba7-ab2f-4d97ec621139"
      },
      "source": [
        "X_train=transform(X_train,fit_vect)"
      ],
      "execution_count": null,
      "outputs": [
        {
          "output_type": "stream",
          "text": [
            "generating document list containing sentance list in vetor form\n"
          ],
          "name": "stdout"
        },
        {
          "output_type": "display_data",
          "data": {
            "application/vnd.jupyter.widget-view+json": {
              "model_id": "34c6342b6bef4fcb83d26df9b7f9785b",
              "version_minor": 0,
              "version_major": 2
            },
            "text/plain": [
              "HBox(children=(FloatProgress(value=0.0, max=28000.0), HTML(value='')))"
            ]
          },
          "metadata": {
            "tags": []
          }
        },
        {
          "output_type": "stream",
          "text": [
            "\n"
          ],
          "name": "stdout"
        }
      ]
    },
    {
      "cell_type": "code",
      "metadata": {
        "id": "-r-E1fATK8o4",
        "colab_type": "code",
        "colab": {}
      },
      "source": [
        "# dbfile1 = open('/content/drive/My Drive/FFRDB/lstm2.pkl', 'wb')\n",
        "# pickle.dump([X_train,y_train], dbfile1)\n",
        "# dbfile1.close()\n",
        "dbfile1 = open('/content/drive/My Drive/FFRDB/lstm2.pkl', 'rb')\n",
        "X_train,y_train = pickle.load(dbfile1)"
      ],
      "execution_count": null,
      "outputs": []
    },
    {
      "cell_type": "code",
      "metadata": {
        "id": "Ja3XX-Dadasp",
        "colab_type": "code",
        "colab": {
          "base_uri": "https://localhost:8080/",
          "height": 51
        },
        "outputId": "df3b36ce-7aa0-45db-e5b1-5ddd183c09b2"
      },
      "source": [
        "print(len(X_train))\n",
        "print(len(y_train))"
      ],
      "execution_count": null,
      "outputs": [
        {
          "output_type": "stream",
          "text": [
            "28000\n",
            "28000\n"
          ],
          "name": "stdout"
        }
      ]
    },
    {
      "cell_type": "code",
      "metadata": {
        "id": "liclIQ9ILCXQ",
        "colab_type": "code",
        "colab": {
          "base_uri": "https://localhost:8080/",
          "height": 83,
          "referenced_widgets": [
            "a62556b5d99842b09e046a7d37566249",
            "a00a823d06114bd198b0dcdd2df9f522",
            "9fb56cd84fa9455781e98e111f5d8017",
            "76ee2aeb7d3440b7b939e1d0502f0107",
            "17663ea66ba64d8e9d6d031e418fc0a6",
            "9b2df00b3837486db243df4b5d9c7f04",
            "5c86810cee66479e935e0573d5455d9b",
            "f657e836625e481497088a679108f3ab"
          ]
        },
        "outputId": "01378b0c-f5b9-4bb9-d362-66f709273119"
      },
      "source": [
        "X_test=transform(X_test,fit_vect)"
      ],
      "execution_count": null,
      "outputs": [
        {
          "output_type": "stream",
          "text": [
            "generating document list containing sentance list in vetor form\n"
          ],
          "name": "stdout"
        },
        {
          "output_type": "display_data",
          "data": {
            "application/vnd.jupyter.widget-view+json": {
              "model_id": "a62556b5d99842b09e046a7d37566249",
              "version_minor": 0,
              "version_major": 2
            },
            "text/plain": [
              "HBox(children=(FloatProgress(value=0.0, max=12000.0), HTML(value='')))"
            ]
          },
          "metadata": {
            "tags": []
          }
        },
        {
          "output_type": "stream",
          "text": [
            "\n"
          ],
          "name": "stdout"
        }
      ]
    },
    {
      "cell_type": "code",
      "metadata": {
        "id": "1DFixAH7LFw8",
        "colab_type": "code",
        "colab": {}
      },
      "source": [
        "# dbfile1 = open('/content/drive/My Drive/FFRDB/lstm3.pkl', 'wb')\n",
        "# pickle.dump([X_test,y_test], dbfile1)\n",
        "# dbfile1.close()\n",
        "dbfile1 = open('/content/drive/My Drive/FFRDB/lstm3.pkl', 'rb')\n",
        "X_test,y_test = pickle.load(dbfile1)"
      ],
      "execution_count": null,
      "outputs": []
    },
    {
      "cell_type": "code",
      "metadata": {
        "id": "Jr4cugH3mZ_X",
        "colab_type": "code",
        "colab": {
          "base_uri": "https://localhost:8080/",
          "height": 34
        },
        "outputId": "af7ec9de-ad8e-495a-c1a7-907869cee5cb"
      },
      "source": [
        "# Credits: https://machinelearningmastery.com/sequence-classification-lstm-recurrent-neural-networks-python-keras/\n",
        "# LSTM for sequence classification in the IMDB dataset\n",
        "import numpy\n",
        "# from keras.datasets import imdb\n",
        "from keras.models import Sequential\n",
        "from keras.layers import Dense,Dropout\n",
        "from keras.layers import LSTM\n",
        "from keras.layers.embeddings import Embedding\n",
        "from keras.preprocessing import sequence\n",
        "# fix random seed for reproducibility\n",
        "numpy.random.seed(7)"
      ],
      "execution_count": null,
      "outputs": [
        {
          "output_type": "stream",
          "text": [
            "Using TensorFlow backend.\n"
          ],
          "name": "stderr"
        }
      ]
    },
    {
      "cell_type": "code",
      "metadata": {
        "id": "DyPucaz0aEFU",
        "colab_type": "code",
        "colab": {}
      },
      "source": [
        "X_tr,y_tr=X_train,y_train"
      ],
      "execution_count": null,
      "outputs": []
    },
    {
      "cell_type": "code",
      "metadata": {
        "id": "IpefGlm6jUHn",
        "colab_type": "code",
        "colab": {}
      },
      "source": [
        "X_ts=X_test\n",
        "y_ts=y_test"
      ],
      "execution_count": null,
      "outputs": []
    },
    {
      "cell_type": "code",
      "metadata": {
        "id": "Ig09mMFIieWx",
        "colab_type": "code",
        "colab": {
          "base_uri": "https://localhost:8080/",
          "height": 105
        },
        "outputId": "4445b377-1c89-407d-f835-136b6b920ab1"
      },
      "source": [
        "print(X_tr[1])\n",
        "print(type(X_tr[1]))\n",
        "print(len(X_tr[1]))\n",
        "print(len(X_tr))"
      ],
      "execution_count": null,
      "outputs": [
        {
          "output_type": "stream",
          "text": [
            "[499, 310, 219, 233, 17, 13, 119, 2671, 3, 0, 21, 499, 0, 1000, 3, 1094, 5, 110, 1576, 5, 7, 1036, 63, 3, 59, 823, 168, 7, 80, 399, 7, 1002, 3, 65, 218, 75, 152, 4, 28, 0, 12, 332, 49, 21, 15, 486, 121]\n",
            "<class 'list'>\n",
            "47\n",
            "28000\n"
          ],
          "name": "stdout"
        }
      ]
    },
    {
      "cell_type": "code",
      "metadata": {
        "id": "vXAnpHlrjtFB",
        "colab_type": "code",
        "colab": {}
      },
      "source": [
        "max_review_length = 200\n",
        "X_tr = sequence.pad_sequences(X_tr, maxlen=max_review_length)\n",
        "X_ts = sequence.pad_sequences(X_ts, maxlen=max_review_length)"
      ],
      "execution_count": null,
      "outputs": []
    },
    {
      "cell_type": "code",
      "metadata": {
        "id": "57N6TyKLH-Pc",
        "colab_type": "code",
        "colab": {
          "base_uri": "https://localhost:8080/",
          "height": 289
        },
        "outputId": "24b69ca3-6b7d-45ff-b483-ad0988c9e6a3"
      },
      "source": [
        "# truncate and/or pad input sequences\n",
        "print(X_tr.shape)\n",
        "print(X_tr[0])"
      ],
      "execution_count": null,
      "outputs": [
        {
          "output_type": "stream",
          "text": [
            "(28000, 200)\n",
            "[   0    0    0    0    0    0    0    0    0    0    0    0    0    0\n",
            "    0    0    0    0    0    0    0    0    0    0    0    0    0    0\n",
            "    0    0    0    0    0    0    0    0    0    0    0    0    0    0\n",
            "    0    0    0    0    0    0    0    0    0    0    0    0    0    0\n",
            "    0    0    0    0    0    0    0    0    0    0    0    0    0    0\n",
            "    0    0    0    0    0    0    0    0    0    0    0    0    0    0\n",
            "    0    0    0    0    0    0    0    0    0    0    0    0    0    0\n",
            "    0    0    0    0    0    0    0    0    0    0    0    0    0    0\n",
            "    0    0    0    0    0    0    0    0    0    0    0    0    0    0\n",
            "    0    0    0    0    0    0    0    0    0    0    0    0    0    0\n",
            "    0   13  346    6    4  540 1438 1368  460   24    2  153  304    9\n",
            "   12  641    1 1438 1368   20   28   19   17  217    5  325    7    4\n",
            "  171    8  323   93    2  188    2  107   56   16   32  245   59   41\n",
            "    8   26  295   31  417  420   12   71  385  133   16   40   10   15\n",
            "    7  559   12  217]\n"
          ],
          "name": "stdout"
        }
      ]
    },
    {
      "cell_type": "code",
      "metadata": {
        "id": "CquzlqrOIYGn",
        "colab_type": "code",
        "colab": {
          "base_uri": "https://localhost:8080/",
          "height": 272
        },
        "outputId": "c48ef0b4-7995-4a56-96d2-84ec11653658"
      },
      "source": [
        "# create the model\n",
        "top_words=5000\n",
        "embedding_vecor_length = 32\n",
        "model = Sequential()\n",
        "model.add(Embedding(top_words+1, embedding_vecor_length, input_length=max_review_length))\n",
        "model.add(LSTM(100))\n",
        "model.add(Dense(1, activation='sigmoid'))\n",
        "model.compile(loss='binary_crossentropy', optimizer='adam', metrics=['accuracy'])\n",
        "print(model.summary())\n",
        "#Refer: https://datascience.stackexchange.com/questions/10615/number-of-parameters-in-an-lstm-model"
      ],
      "execution_count": null,
      "outputs": [
        {
          "output_type": "stream",
          "text": [
            "Model: \"sequential_14\"\n",
            "_________________________________________________________________\n",
            "Layer (type)                 Output Shape              Param #   \n",
            "=================================================================\n",
            "embedding_14 (Embedding)     (None, 200, 32)           160032    \n",
            "_________________________________________________________________\n",
            "lstm_14 (LSTM)               (None, 100)               53200     \n",
            "_________________________________________________________________\n",
            "dense_14 (Dense)             (None, 1)                 101       \n",
            "=================================================================\n",
            "Total params: 213,333\n",
            "Trainable params: 213,333\n",
            "Non-trainable params: 0\n",
            "_________________________________________________________________\n",
            "None\n"
          ],
          "name": "stdout"
        }
      ]
    },
    {
      "cell_type": "code",
      "metadata": {
        "id": "A_FT0dPNIeLP",
        "colab_type": "code",
        "colab": {
          "base_uri": "https://localhost:8080/",
          "height": 374
        },
        "outputId": "6e0f4f03-77e1-44ef-82d3-3b79fdc86a5c"
      },
      "source": [
        "history=model.fit(X_tr, y_tr, validation_split=0.2,  nb_epoch=10, batch_size=64)"
      ],
      "execution_count": null,
      "outputs": [
        {
          "output_type": "stream",
          "text": [
            "Train on 22400 samples, validate on 5600 samples\n",
            "Epoch 1/10\n",
            "22400/22400 [==============================] - 102s 5ms/step - loss: 0.3242 - accuracy: 0.8716 - val_loss: 0.2552 - val_accuracy: 0.8943\n",
            "Epoch 2/10\n",
            "22400/22400 [==============================] - 108s 5ms/step - loss: 0.1983 - accuracy: 0.9215 - val_loss: 0.2243 - val_accuracy: 0.9098\n",
            "Epoch 3/10\n",
            "22400/22400 [==============================] - 108s 5ms/step - loss: 0.1567 - accuracy: 0.9419 - val_loss: 0.2322 - val_accuracy: 0.9134\n",
            "Epoch 4/10\n",
            "22400/22400 [==============================] - 106s 5ms/step - loss: 0.1399 - accuracy: 0.9484 - val_loss: 0.2437 - val_accuracy: 0.9084\n",
            "Epoch 5/10\n",
            "22400/22400 [==============================] - 99s 4ms/step - loss: 0.1206 - accuracy: 0.9561 - val_loss: 0.2518 - val_accuracy: 0.9016\n",
            "Epoch 6/10\n",
            "22400/22400 [==============================] - 99s 4ms/step - loss: 0.1061 - accuracy: 0.9629 - val_loss: 0.2562 - val_accuracy: 0.9096\n",
            "Epoch 7/10\n",
            "22400/22400 [==============================] - 98s 4ms/step - loss: 0.0908 - accuracy: 0.9675 - val_loss: 0.2831 - val_accuracy: 0.9071\n",
            "Epoch 8/10\n",
            "22400/22400 [==============================] - 98s 4ms/step - loss: 0.0800 - accuracy: 0.9730 - val_loss: 0.2958 - val_accuracy: 0.9079\n",
            "Epoch 9/10\n",
            "22400/22400 [==============================] - 98s 4ms/step - loss: 0.0691 - accuracy: 0.9773 - val_loss: 0.3508 - val_accuracy: 0.9046\n",
            "Epoch 10/10\n",
            "22400/22400 [==============================] - 98s 4ms/step - loss: 0.0615 - accuracy: 0.9797 - val_loss: 0.3522 - val_accuracy: 0.8977\n"
          ],
          "name": "stdout"
        }
      ]
    },
    {
      "cell_type": "code",
      "metadata": {
        "id": "kD6S9MLASnuA",
        "colab_type": "code",
        "colab": {
          "base_uri": "https://localhost:8080/",
          "height": 34
        },
        "outputId": "fc935b1e-a45a-485f-ce90-09a75a587b86"
      },
      "source": [
        "scores = model.evaluate(X_ts, y_ts, verbose=0)\n",
        "print(\"Accuracy: %.2f%%\" % (scores[1]*100))"
      ],
      "execution_count": null,
      "outputs": [
        {
          "output_type": "stream",
          "text": [
            "Accuracy: 89.67%\n"
          ],
          "name": "stdout"
        }
      ]
    },
    {
      "cell_type": "code",
      "metadata": {
        "id": "ACx9uKOvSqid",
        "colab_type": "code",
        "colab": {
          "base_uri": "https://localhost:8080/",
          "height": 295
        },
        "outputId": "5b4a4c57-8afc-407c-a1e1-8ea07419879b"
      },
      "source": [
        "plt.plot(history.history['loss'])\n",
        "plt.plot(history.history['val_loss'])\n",
        "plt.title('model loss')\n",
        "plt.ylabel('loss')\n",
        "plt.xlabel('epoch')\n",
        "plt.grid()\n",
        "plt.legend(['train', 'test'], loc='upper left')\n",
        "plt.show()"
      ],
      "execution_count": null,
      "outputs": [
        {
          "output_type": "display_data",
          "data": {
            "image/png": "[encoded data removed]",
            "text/plain": [
              "<Figure size 432x288 with 1 Axes>"
            ]
          },
          "metadata": {
            "tags": [],
            "needs_background": "light"
          }
        }
      ]
    },
    {
      "cell_type": "code",
      "metadata": {
        "id": "9Mp2vcgmS0-T",
        "colab_type": "code",
        "colab": {
          "base_uri": "https://localhost:8080/",
          "height": 272
        },
        "outputId": "925ee55c-8030-435f-ae86-18e8af5310dc"
      },
      "source": [
        "# create the model\n",
        "top_words=5000\n",
        "embedding_vecor_length = 32\n",
        "model2 = Sequential()\n",
        "model2.add(Embedding(top_words+1, embedding_vecor_length, input_length=max_review_length))\n",
        "model2.add(LSTM(50))\n",
        "model2.add(Dense(1, activation='sigmoid'))\n",
        "model2.compile(loss='binary_crossentropy', optimizer='adam', metrics=['accuracy'])\n",
        "print(model2.summary())\n",
        "#Refer: https://datascience.stackexchange.com/questions/10615/number-of-parameters-in-an-lstm-model"
      ],
      "execution_count": null,
      "outputs": [
        {
          "output_type": "stream",
          "text": [
            "Model: \"sequential_15\"\n",
            "_________________________________________________________________\n",
            "Layer (type)                 Output Shape              Param #   \n",
            "=================================================================\n",
            "embedding_15 (Embedding)     (None, 200, 32)           160032    \n",
            "_________________________________________________________________\n",
            "lstm_15 (LSTM)               (None, 50)                16600     \n",
            "_________________________________________________________________\n",
            "dense_15 (Dense)             (None, 1)                 51        \n",
            "=================================================================\n",
            "Total params: 176,683\n",
            "Trainable params: 176,683\n",
            "Non-trainable params: 0\n",
            "_________________________________________________________________\n",
            "None\n"
          ],
          "name": "stdout"
        }
      ]
    },
    {
      "cell_type": "code",
      "metadata": {
        "id": "fcJm0cd-TJuW",
        "colab_type": "code",
        "colab": {
          "base_uri": "https://localhost:8080/",
          "height": 374
        },
        "outputId": "e622703e-e3bd-4478-8eef-a8154674f23a"
      },
      "source": [
        "history2=model2.fit(X_tr, y_tr, validation_split=0.2,  nb_epoch=10, batch_size=64)"
      ],
      "execution_count": null,
      "outputs": [
        {
          "output_type": "stream",
          "text": [
            "Train on 22400 samples, validate on 5600 samples\n",
            "Epoch 1/10\n",
            "22400/22400 [==============================] - 56s 2ms/step - loss: 0.3388 - accuracy: 0.8643 - val_loss: 0.2486 - val_accuracy: 0.8950\n",
            "Epoch 2/10\n",
            "22400/22400 [==============================] - 55s 2ms/step - loss: 0.1979 - accuracy: 0.9206 - val_loss: 0.2261 - val_accuracy: 0.9084\n",
            "Epoch 3/10\n",
            "22400/22400 [==============================] - 54s 2ms/step - loss: 0.1536 - accuracy: 0.9417 - val_loss: 0.2458 - val_accuracy: 0.8957\n",
            "Epoch 4/10\n",
            "22400/22400 [==============================] - 54s 2ms/step - loss: 0.1304 - accuracy: 0.9513 - val_loss: 0.2394 - val_accuracy: 0.9096\n",
            "Epoch 5/10\n",
            "22400/22400 [==============================] - 54s 2ms/step - loss: 0.1185 - accuracy: 0.9565 - val_loss: 0.2521 - val_accuracy: 0.9093\n",
            "Epoch 6/10\n",
            "22400/22400 [==============================] - 55s 2ms/step - loss: 0.0978 - accuracy: 0.9655 - val_loss: 0.3133 - val_accuracy: 0.9102\n",
            "Epoch 7/10\n",
            "22400/22400 [==============================] - 55s 2ms/step - loss: 0.0858 - accuracy: 0.9696 - val_loss: 0.2904 - val_accuracy: 0.9027\n",
            "Epoch 8/10\n",
            "22400/22400 [==============================] - 54s 2ms/step - loss: 0.0800 - accuracy: 0.9725 - val_loss: 0.3235 - val_accuracy: 0.9045\n",
            "Epoch 9/10\n",
            "22400/22400 [==============================] - 54s 2ms/step - loss: 0.0693 - accuracy: 0.9758 - val_loss: 0.3590 - val_accuracy: 0.9070\n",
            "Epoch 10/10\n",
            "22400/22400 [==============================] - 54s 2ms/step - loss: 0.0547 - accuracy: 0.9824 - val_loss: 0.3954 - val_accuracy: 0.9000\n"
          ],
          "name": "stdout"
        }
      ]
    },
    {
      "cell_type": "code",
      "metadata": {
        "id": "TcIG9SgkTRZc",
        "colab_type": "code",
        "colab": {
          "base_uri": "https://localhost:8080/",
          "height": 34
        },
        "outputId": "fbd60ff9-eaf5-4906-c4a2-fc425a4ec1b9"
      },
      "source": [
        "scores = model2.evaluate(X_ts, y_ts, verbose=0)\n",
        "print(\"Accuracy: %.2f%%\" % (scores[1]*100))"
      ],
      "execution_count": null,
      "outputs": [
        {
          "output_type": "stream",
          "text": [
            "Accuracy: 90.13%\n"
          ],
          "name": "stdout"
        }
      ]
    },
    {
      "cell_type": "code",
      "metadata": {
        "id": "EDtojOBtTOw5",
        "colab_type": "code",
        "colab": {
          "base_uri": "https://localhost:8080/",
          "height": 295
        },
        "outputId": "47db2d8e-e1b5-493e-d5d2-cc9b5d2a26a0"
      },
      "source": [
        "plt.plot(history2.history['loss'])\n",
        "plt.plot(history2.history['val_loss'])\n",
        "plt.title('model loss')\n",
        "plt.ylabel('loss')\n",
        "plt.grid()\n",
        "plt.xlabel('epoch')\n",
        "plt.legend(['train', 'test'], loc='upper left')\n",
        "plt.show()"
      ],
      "execution_count": null,
      "outputs": [
        {
          "output_type": "display_data",
          "data": {
            "image/png": "[encoded data removed]",
            "text/plain": [
              "<Figure size 432x288 with 1 Axes>"
            ]
          },
          "metadata": {
            "tags": [],
            "needs_background": "light"
          }
        }
      ]
    },
    {
      "cell_type": "code",
      "metadata": {
        "id": "ExaURufBvfIa",
        "colab_type": "code",
        "colab": {
          "base_uri": "https://localhost:8080/",
          "height": 340
        },
        "outputId": "a8ae5c3c-b1b6-46b4-c5e9-6fe1560758f2"
      },
      "source": [
        "# create the model\n",
        "top_words=5000\n",
        "embedding_vecor_length = 32\n",
        "model3 = Sequential()\n",
        "model3.add(Embedding(top_words+1, embedding_vecor_length, input_length=max_review_length))\n",
        "model3.add(Dropout(0.3))\n",
        "model3.add(LSTM(150))\n",
        "model3.add(Dropout(0.3))\n",
        "model3.add(Dense(1, activation='sigmoid'))\n",
        "model3.compile(loss='binary_crossentropy', optimizer='adam', metrics=['accuracy'])\n",
        "print(model3.summary())\n",
        "#Refer: https://datascience.stackexchange.com/questions/10615/number-of-parameters-in-an-lstm-model"
      ],
      "execution_count": null,
      "outputs": [
        {
          "output_type": "stream",
          "text": [
            "Model: \"sequential_18\"\n",
            "_________________________________________________________________\n",
            "Layer (type)                 Output Shape              Param #   \n",
            "=================================================================\n",
            "embedding_18 (Embedding)     (None, 200, 32)           160032    \n",
            "_________________________________________________________________\n",
            "dropout_1 (Dropout)          (None, 200, 32)           0         \n",
            "_________________________________________________________________\n",
            "lstm_16 (LSTM)               (None, 150)               109800    \n",
            "_________________________________________________________________\n",
            "dropout_2 (Dropout)          (None, 150)               0         \n",
            "_________________________________________________________________\n",
            "dense_16 (Dense)             (None, 1)                 151       \n",
            "=================================================================\n",
            "Total params: 269,983\n",
            "Trainable params: 269,983\n",
            "Non-trainable params: 0\n",
            "_________________________________________________________________\n",
            "None\n"
          ],
          "name": "stdout"
        }
      ]
    },
    {
      "cell_type": "code",
      "metadata": {
        "id": "KcZt41XxwLfT",
        "colab_type": "code",
        "colab": {
          "base_uri": "https://localhost:8080/",
          "height": 374
        },
        "outputId": "8431ce81-9730-429c-bf40-e0abf456823d"
      },
      "source": [
        "history3=model3.fit(X_tr, y_tr, validation_split=0.2,  nb_epoch=10, batch_size=64)"
      ],
      "execution_count": null,
      "outputs": [
        {
          "output_type": "stream",
          "text": [
            "Train on 22400 samples, validate on 5600 samples\n",
            "Epoch 1/10\n",
            "22400/22400 [==============================] - 192s 9ms/step - loss: 0.3387 - accuracy: 0.8688 - val_loss: 0.2480 - val_accuracy: 0.9009\n",
            "Epoch 2/10\n",
            "22400/22400 [==============================] - 195s 9ms/step - loss: 0.2176 - accuracy: 0.9146 - val_loss: 0.2237 - val_accuracy: 0.9123\n",
            "Epoch 3/10\n",
            "22400/22400 [==============================] - 192s 9ms/step - loss: 0.1730 - accuracy: 0.9346 - val_loss: 0.2325 - val_accuracy: 0.9161\n",
            "Epoch 4/10\n",
            "22400/22400 [==============================] - 186s 8ms/step - loss: 0.1764 - accuracy: 0.9312 - val_loss: 0.2625 - val_accuracy: 0.9139\n",
            "Epoch 5/10\n",
            "22400/22400 [==============================] - 186s 8ms/step - loss: 0.1480 - accuracy: 0.9425 - val_loss: 0.2452 - val_accuracy: 0.9125\n",
            "Epoch 6/10\n",
            "22400/22400 [==============================] - 192s 9ms/step - loss: 0.1235 - accuracy: 0.9546 - val_loss: 0.2505 - val_accuracy: 0.9052\n",
            "Epoch 7/10\n",
            "22400/22400 [==============================] - 184s 8ms/step - loss: 0.1170 - accuracy: 0.9579 - val_loss: 0.2544 - val_accuracy: 0.9023\n",
            "Epoch 8/10\n",
            "22400/22400 [==============================] - 191s 9ms/step - loss: 0.1018 - accuracy: 0.9622 - val_loss: 0.2732 - val_accuracy: 0.8993\n",
            "Epoch 9/10\n",
            "22400/22400 [==============================] - 194s 9ms/step - loss: 0.0968 - accuracy: 0.9656 - val_loss: 0.3098 - val_accuracy: 0.9084\n",
            "Epoch 10/10\n",
            "22400/22400 [==============================] - 186s 8ms/step - loss: 0.0918 - accuracy: 0.9677 - val_loss: 0.3046 - val_accuracy: 0.9013\n"
          ],
          "name": "stdout"
        }
      ]
    },
    {
      "cell_type": "code",
      "metadata": {
        "id": "takK-ImhwM8Q",
        "colab_type": "code",
        "colab": {
          "base_uri": "https://localhost:8080/",
          "height": 34
        },
        "outputId": "c927cce8-1b8e-468a-aca2-74861c5a39f1"
      },
      "source": [
        "scores = model3.evaluate(X_ts, y_ts, verbose=0)\n",
        "print(\"Accuracy: %.2f%%\" % (scores[1]*100))"
      ],
      "execution_count": null,
      "outputs": [
        {
          "output_type": "stream",
          "text": [
            "Accuracy: 90.38%\n"
          ],
          "name": "stdout"
        }
      ]
    },
    {
      "cell_type": "code",
      "metadata": {
        "id": "24a3QuomwOwb",
        "colab_type": "code",
        "colab": {
          "base_uri": "https://localhost:8080/",
          "height": 295
        },
        "outputId": "f36a1225-cba6-4e4b-c42d-feb47bb585f9"
      },
      "source": [
        "plt.plot(history3.history['loss'])\n",
        "plt.plot(history3.history['val_loss'])\n",
        "plt.title('model loss')\n",
        "plt.ylabel('loss')\n",
        "plt.xlabel('epoch')\n",
        "plt.legend(['train', 'test'], loc='upper left')\n",
        "plt.grid()\n",
        "plt.show()"
      ],
      "execution_count": null,
      "outputs": [
        {
          "output_type": "display_data",
          "data": {
            "image/png": "[encoded data removed]",
            "text/plain": [
              "<Figure size 432x288 with 1 Axes>"
            ]
          },
          "metadata": {
            "tags": [],
            "needs_background": "light"
          }
        }
      ]
    },
    {
      "cell_type": "code",
      "metadata": {
        "id": "4GCcRv_z8tx2",
        "colab_type": "code",
        "colab": {
          "base_uri": "https://localhost:8080/",
          "height": 306
        },
        "outputId": "eac5db91-7763-4493-a9e2-afee6aa67766"
      },
      "source": [
        "! pip install --upgrade keras"
      ],
      "execution_count": null,
      "outputs": [
        {
          "output_type": "stream",
          "text": [
            "Collecting keras\n",
            "  Downloading https://files.pythonhosted.org/packages/44/e1/dc0757b20b56c980b5553c1b5c4c32d378c7055ab7bfa92006801ad359ab/Keras-2.4.3-py2.py3-none-any.whl\n",
            "Requirement already satisfied, skipping upgrade: h5py in /usr/local/lib/python3.6/dist-packages (from keras) (2.10.0)\n",
            "Requirement already satisfied, skipping upgrade: numpy>=1.9.1 in /usr/local/lib/python3.6/dist-packages (from keras) (1.18.5)\n",
            "Requirement already satisfied, skipping upgrade: pyyaml in /usr/local/lib/python3.6/dist-packages (from keras) (3.13)\n",
            "Requirement already satisfied, skipping upgrade: scipy>=0.14 in /usr/local/lib/python3.6/dist-packages (from keras) (1.4.1)\n",
            "Requirement already satisfied, skipping upgrade: six in /usr/local/lib/python3.6/dist-packages (from h5py->keras) (1.12.0)\n",
            "Installing collected packages: keras\n",
            "  Found existing installation: Keras 2.3.1\n",
            "    Uninstalling Keras-2.3.1:\n",
            "      Successfully uninstalled Keras-2.3.1\n",
            "Successfully installed keras-2.4.3\n"
          ],
          "name": "stdout"
        },
        {
          "output_type": "display_data",
          "data": {
            "application/vnd.colab-display-data+json": {
              "pip_warning": {
                "packages": [
                  "keras"
                ]
              }
            }
          },
          "metadata": {
            "tags": []
          }
        }
      ]
    },
    {
      "cell_type": "code",
      "metadata": {
        "id": "TAfv1ta5-y-j",
        "colab_type": "code",
        "colab": {
          "base_uri": "https://localhost:8080/",
          "height": 238
        },
        "outputId": "169f0854-43ea-40b0-eb47-be9910b060e8"
      },
      "source": [
        "!pip uninstall tensorflow"
      ],
      "execution_count": null,
      "outputs": [
        {
          "output_type": "stream",
          "text": [
            "Uninstalling tensorflow-1.13.2:\n",
            "  Would remove:\n",
            "    /usr/local/bin/freeze_graph\n",
            "    /usr/local/bin/saved_model_cli\n",
            "    /usr/local/bin/tensorboard\n",
            "    /usr/local/bin/tf_upgrade_v2\n",
            "    /usr/local/bin/tflite_convert\n",
            "    /usr/local/bin/toco\n",
            "    /usr/local/bin/toco_from_protos\n",
            "    /usr/local/lib/python3.6/dist-packages/tensorflow-1.13.2.dist-info/*\n",
            "    /usr/local/lib/python3.6/dist-packages/tensorflow/*\n",
            "Proceed (y/n)? y\n",
            "  Successfully uninstalled tensorflow-1.13.2\n"
          ],
          "name": "stdout"
        }
      ]
    },
    {
      "cell_type": "code",
      "metadata": {
        "id": "X9S7YgbE-4K0",
        "colab_type": "code",
        "colab": {
          "base_uri": "https://localhost:8080/",
          "height": 989
        },
        "outputId": "085a377b-b985-4b1d-8f75-a2a624f663b2"
      },
      "source": [
        "! pip install tensorflow==2.2.0"
      ],
      "execution_count": null,
      "outputs": [
        {
          "output_type": "stream",
          "text": [
            "Collecting tensorflow==2.2.0\n",
            "\u001b[?25l  Downloading https://files.pythonhosted.org/packages/3d/be/679ce5254a8c8d07470efb4a4c00345fae91f766e64f1c2aece8796d7218/tensorflow-2.2.0-cp36-cp36m-manylinux2010_x86_64.whl (516.2MB)\n",
            "\u001b[K     |████████████████████████████████| 516.2MB 32kB/s \n",
            "\u001b[?25hRequirement already satisfied: scipy==1.4.1; python_version >= \"3\" in /usr/local/lib/python3.6/dist-packages (from tensorflow==2.2.0) (1.4.1)\n",
            "Requirement already satisfied: numpy<2.0,>=1.16.0 in /usr/local/lib/python3.6/dist-packages (from tensorflow==2.2.0) (1.18.5)\n",
            "Requirement already satisfied: wheel>=0.26; python_version >= \"3\" in /usr/local/lib/python3.6/dist-packages (from tensorflow==2.2.0) (0.34.2)\n",
            "Requirement already satisfied: gast==0.3.3 in /usr/local/lib/python3.6/dist-packages (from tensorflow==2.2.0) (0.3.3)\n",
            "Requirement already satisfied: google-pasta>=0.1.8 in /usr/local/lib/python3.6/dist-packages (from tensorflow==2.2.0) (0.2.0)\n",
            "Collecting tensorboard<2.3.0,>=2.2.0\n",
            "\u001b[?25l  Downloading https://files.pythonhosted.org/packages/1d/74/0a6fcb206dcc72a6da9a62dd81784bfdbff5fedb099982861dc2219014fb/tensorboard-2.2.2-py3-none-any.whl (3.0MB)\n",
            "\u001b[K     |████████████████████████████████| 3.0MB 47.2MB/s \n",
            "\u001b[?25hRequirement already satisfied: opt-einsum>=2.3.2 in /usr/local/lib/python3.6/dist-packages (from tensorflow==2.2.0) (3.2.1)\n",
            "Requirement already satisfied: astunparse==1.6.3 in /usr/local/lib/python3.6/dist-packages (from tensorflow==2.2.0) (1.6.3)\n",
            "Requirement already satisfied: keras-preprocessing>=1.1.0 in /usr/local/lib/python3.6/dist-packages (from tensorflow==2.2.0) (1.1.2)\n",
            "Requirement already satisfied: h5py<2.11.0,>=2.10.0 in /usr/local/lib/python3.6/dist-packages (from tensorflow==2.2.0) (2.10.0)\n",
            "Requirement already satisfied: six>=1.12.0 in /usr/local/lib/python3.6/dist-packages (from tensorflow==2.2.0) (1.12.0)\n",
            "Requirement already satisfied: wrapt>=1.11.1 in /usr/local/lib/python3.6/dist-packages (from tensorflow==2.2.0) (1.12.1)\n",
            "Requirement already satisfied: termcolor>=1.1.0 in /usr/local/lib/python3.6/dist-packages (from tensorflow==2.2.0) (1.1.0)\n",
            "Requirement already satisfied: grpcio>=1.8.6 in /usr/local/lib/python3.6/dist-packages (from tensorflow==2.2.0) (1.30.0)\n",
            "Requirement already satisfied: absl-py>=0.7.0 in /usr/local/lib/python3.6/dist-packages (from tensorflow==2.2.0) (0.9.0)\n",
            "Requirement already satisfied: protobuf>=3.8.0 in /usr/local/lib/python3.6/dist-packages (from tensorflow==2.2.0) (3.12.2)\n",
            "Collecting tensorflow-estimator<2.3.0,>=2.2.0\n",
            "\u001b[?25l  Downloading https://files.pythonhosted.org/packages/a4/f5/926ae53d6a226ec0fda5208e0e581cffed895ccc89e36ba76a8e60895b78/tensorflow_estimator-2.2.0-py2.py3-none-any.whl (454kB)\n",
            "\u001b[K     |████████████████████████████████| 460kB 46.0MB/s \n",
            "\u001b[?25hRequirement already satisfied: google-auth<2,>=1.6.3 in /usr/local/lib/python3.6/dist-packages (from tensorboard<2.3.0,>=2.2.0->tensorflow==2.2.0) (1.17.2)\n",
            "Requirement already satisfied: google-auth-oauthlib<0.5,>=0.4.1 in /usr/local/lib/python3.6/dist-packages (from tensorboard<2.3.0,>=2.2.0->tensorflow==2.2.0) (0.4.1)\n",
            "Requirement already satisfied: tensorboard-plugin-wit>=1.6.0 in /usr/local/lib/python3.6/dist-packages (from tensorboard<2.3.0,>=2.2.0->tensorflow==2.2.0) (1.7.0)\n",
            "Requirement already satisfied: werkzeug>=0.11.15 in /usr/local/lib/python3.6/dist-packages (from tensorboard<2.3.0,>=2.2.0->tensorflow==2.2.0) (1.0.1)\n",
            "Requirement already satisfied: markdown>=2.6.8 in /usr/local/lib/python3.6/dist-packages (from tensorboard<2.3.0,>=2.2.0->tensorflow==2.2.0) (3.2.2)\n",
            "Requirement already satisfied: requests<3,>=2.21.0 in /usr/local/lib/python3.6/dist-packages (from tensorboard<2.3.0,>=2.2.0->tensorflow==2.2.0) (2.23.0)\n",
            "Requirement already satisfied: setuptools>=41.0.0 in /usr/local/lib/python3.6/dist-packages (from tensorboard<2.3.0,>=2.2.0->tensorflow==2.2.0) (49.1.0)\n",
            "Requirement already satisfied: rsa<5,>=3.1.4; python_version >= \"3\" in /usr/local/lib/python3.6/dist-packages (from google-auth<2,>=1.6.3->tensorboard<2.3.0,>=2.2.0->tensorflow==2.2.0) (4.6)\n",
            "Requirement already satisfied: cachetools<5.0,>=2.0.0 in /usr/local/lib/python3.6/dist-packages (from google-auth<2,>=1.6.3->tensorboard<2.3.0,>=2.2.0->tensorflow==2.2.0) (4.1.1)\n",
            "Requirement already satisfied: pyasn1-modules>=0.2.1 in /usr/local/lib/python3.6/dist-packages (from google-auth<2,>=1.6.3->tensorboard<2.3.0,>=2.2.0->tensorflow==2.2.0) (0.2.8)\n",
            "Requirement already satisfied: requests-oauthlib>=0.7.0 in /usr/local/lib/python3.6/dist-packages (from google-auth-oauthlib<0.5,>=0.4.1->tensorboard<2.3.0,>=2.2.0->tensorflow==2.2.0) (1.3.0)\n",
            "Requirement already satisfied: importlib-metadata; python_version < \"3.8\" in /usr/local/lib/python3.6/dist-packages (from markdown>=2.6.8->tensorboard<2.3.0,>=2.2.0->tensorflow==2.2.0) (1.7.0)\n",
            "Requirement already satisfied: certifi>=2017.4.17 in /usr/local/lib/python3.6/dist-packages (from requests<3,>=2.21.0->tensorboard<2.3.0,>=2.2.0->tensorflow==2.2.0) (2020.6.20)\n",
            "Requirement already satisfied: urllib3!=1.25.0,!=1.25.1,<1.26,>=1.21.1 in /usr/local/lib/python3.6/dist-packages (from requests<3,>=2.21.0->tensorboard<2.3.0,>=2.2.0->tensorflow==2.2.0) (1.24.3)\n",
            "Requirement already satisfied: chardet<4,>=3.0.2 in /usr/local/lib/python3.6/dist-packages (from requests<3,>=2.21.0->tensorboard<2.3.0,>=2.2.0->tensorflow==2.2.0) (3.0.4)\n",
            "Requirement already satisfied: idna<3,>=2.5 in /usr/local/lib/python3.6/dist-packages (from requests<3,>=2.21.0->tensorboard<2.3.0,>=2.2.0->tensorflow==2.2.0) (2.10)\n",
            "Requirement already satisfied: pyasn1>=0.1.3 in /usr/local/lib/python3.6/dist-packages (from rsa<5,>=3.1.4; python_version >= \"3\"->google-auth<2,>=1.6.3->tensorboard<2.3.0,>=2.2.0->tensorflow==2.2.0) (0.4.8)\n",
            "Requirement already satisfied: oauthlib>=3.0.0 in /usr/local/lib/python3.6/dist-packages (from requests-oauthlib>=0.7.0->google-auth-oauthlib<0.5,>=0.4.1->tensorboard<2.3.0,>=2.2.0->tensorflow==2.2.0) (3.1.0)\n",
            "Requirement already satisfied: zipp>=0.5 in /usr/local/lib/python3.6/dist-packages (from importlib-metadata; python_version < \"3.8\"->markdown>=2.6.8->tensorboard<2.3.0,>=2.2.0->tensorflow==2.2.0) (3.1.0)\n",
            "Installing collected packages: tensorboard, tensorflow-estimator, tensorflow\n",
            "  Found existing installation: tensorboard 1.13.1\n",
            "    Uninstalling tensorboard-1.13.1:\n",
            "      Successfully uninstalled tensorboard-1.13.1\n",
            "  Found existing installation: tensorflow-estimator 1.13.0\n",
            "    Uninstalling tensorflow-estimator-1.13.0:\n",
            "      Successfully uninstalled tensorflow-estimator-1.13.0\n",
            "Successfully installed tensorboard-2.2.2 tensorflow-2.2.0 tensorflow-estimator-2.2.0\n"
          ],
          "name": "stdout"
        },
        {
          "output_type": "display_data",
          "data": {
            "application/vnd.colab-display-data+json": {
              "pip_warning": {
                "packages": [
                  "tensorboard",
                  "tensorflow"
                ]
              }
            }
          },
          "metadata": {
            "tags": []
          }
        }
      ]
    },
    {
      "cell_type": "code",
      "metadata": {
        "id": "thvR1uhk2o-E",
        "colab_type": "code",
        "colab": {
          "base_uri": "https://localhost:8080/",
          "height": 442
        },
        "outputId": "f36791e2-ded2-4d31-9eed-bdce510ac82e"
      },
      "source": [
        "# create the model\n",
        "import tensorflow as tf\n",
        "from tensorflow.keras.layers import Dense,Dropout,LSTM\n",
        "from tensorflow.keras.models import Sequential\n",
        "from tensorflow.keras.layers import Embedding\n",
        "\n",
        "\n",
        "\n",
        "top_words=5000\n",
        "embedding_vecor_length = 32\n",
        "\n",
        "model4 = Sequential()\n",
        "model4.add(Embedding(top_words+1, embedding_vecor_length, input_length=max_review_length))\n",
        "model4.add(Dropout(0.3))\n",
        "model4.add(LSTM(128,return_sequences=True))\n",
        "model4.add(Dropout(0.3))\n",
        "model4.add(LSTM(32))\n",
        "model4.add(Dropout(0.3))\n",
        "model4.add(Dense(32,activation='relu'))\n",
        "model4.add(Dense(1, activation='relu'))\n",
        "model4.compile(loss='binary_crossentropy', optimizer='adam', metrics=['accuracy'])\n",
        "print(model4.summary())\n",
        "#Refer: https://datascience.stackexchange.com/questions/10615/number-of-parameters-in-an-lstm-model"
      ],
      "execution_count": null,
      "outputs": [
        {
          "output_type": "stream",
          "text": [
            "Model: \"sequential_3\"\n",
            "_________________________________________________________________\n",
            "Layer (type)                 Output Shape              Param #   \n",
            "=================================================================\n",
            "embedding_2 (Embedding)      (None, 200, 32)           160032    \n",
            "_________________________________________________________________\n",
            "dropout_4 (Dropout)          (None, 200, 32)           0         \n",
            "_________________________________________________________________\n",
            "lstm_2 (LSTM)                (None, 200, 128)          82432     \n",
            "_________________________________________________________________\n",
            "dropout_5 (Dropout)          (None, 200, 128)          0         \n",
            "_________________________________________________________________\n",
            "lstm_3 (LSTM)                (None, 32)                20608     \n",
            "_________________________________________________________________\n",
            "dropout_6 (Dropout)          (None, 32)                0         \n",
            "_________________________________________________________________\n",
            "dense_2 (Dense)              (None, 32)                1056      \n",
            "_________________________________________________________________\n",
            "dense_3 (Dense)              (None, 1)                 33        \n",
            "=================================================================\n",
            "Total params: 264,161\n",
            "Trainable params: 264,161\n",
            "Non-trainable params: 0\n",
            "_________________________________________________________________\n",
            "None\n"
          ],
          "name": "stdout"
        }
      ]
    },
    {
      "cell_type": "code",
      "metadata": {
        "id": "ECIPogZw2rCu",
        "colab_type": "code",
        "colab": {
          "base_uri": "https://localhost:8080/",
          "height": 1000
        },
        "outputId": "952c0ea2-cf9f-4744-9ebe-e6ae7f202fab"
      },
      "source": [
        "history4=model4.fit(X_tr, y_tr, validation_split=0.2, epochs=100, batch_size=64)"
      ],
      "execution_count": null,
      "outputs": [
        {
          "output_type": "stream",
          "text": [
            "Epoch 1/100\n",
            "350/350 [==============================] - 9s 26ms/step - loss: 2.3543 - accuracy: 0.8243 - val_loss: 2.4018 - val_accuracy: 0.8425\n",
            "Epoch 2/100\n",
            "350/350 [==============================] - 9s 25ms/step - loss: 2.3575 - accuracy: 0.8454 - val_loss: 2.4018 - val_accuracy: 0.8425\n",
            "Epoch 3/100\n",
            "350/350 [==============================] - 9s 25ms/step - loss: 2.3575 - accuracy: 0.8454 - val_loss: 2.4018 - val_accuracy: 0.8425\n",
            "Epoch 4/100\n",
            "350/350 [==============================] - 9s 25ms/step - loss: 2.3575 - accuracy: 0.8454 - val_loss: 2.4018 - val_accuracy: 0.8425\n",
            "Epoch 5/100\n",
            "350/350 [==============================] - 9s 25ms/step - loss: 2.3575 - accuracy: 0.8454 - val_loss: 2.4018 - val_accuracy: 0.8425\n",
            "Epoch 6/100\n",
            "350/350 [==============================] - 9s 24ms/step - loss: 2.3575 - accuracy: 0.8454 - val_loss: 2.4018 - val_accuracy: 0.8425\n",
            "Epoch 7/100\n",
            "350/350 [==============================] - 9s 25ms/step - loss: 2.3575 - accuracy: 0.8454 - val_loss: 2.4018 - val_accuracy: 0.8425\n",
            "Epoch 8/100\n",
            "350/350 [==============================] - 9s 25ms/step - loss: 2.3575 - accuracy: 0.8454 - val_loss: 2.4018 - val_accuracy: 0.8425\n",
            "Epoch 9/100\n",
            "350/350 [==============================] - 9s 24ms/step - loss: 2.3575 - accuracy: 0.8454 - val_loss: 2.4018 - val_accuracy: 0.8425\n",
            "Epoch 10/100\n",
            "350/350 [==============================] - 9s 25ms/step - loss: 2.3575 - accuracy: 0.8454 - val_loss: 2.4018 - val_accuracy: 0.8425\n",
            "Epoch 11/100\n",
            "350/350 [==============================] - 9s 25ms/step - loss: 2.3575 - accuracy: 0.8454 - val_loss: 2.4018 - val_accuracy: 0.8425\n",
            "Epoch 12/100\n",
            "350/350 [==============================] - 9s 24ms/step - loss: 2.3575 - accuracy: 0.8454 - val_loss: 2.4018 - val_accuracy: 0.8425\n",
            "Epoch 13/100\n",
            "350/350 [==============================] - 9s 24ms/step - loss: 2.3575 - accuracy: 0.8454 - val_loss: 2.4018 - val_accuracy: 0.8425\n",
            "Epoch 14/100\n",
            "350/350 [==============================] - 9s 25ms/step - loss: 2.3575 - accuracy: 0.8454 - val_loss: 2.4018 - val_accuracy: 0.8425\n",
            "Epoch 15/100\n",
            "350/350 [==============================] - 9s 25ms/step - loss: 2.3575 - accuracy: 0.8454 - val_loss: 2.4018 - val_accuracy: 0.8425\n",
            "Epoch 16/100\n",
            "350/350 [==============================] - 9s 25ms/step - loss: 2.3575 - accuracy: 0.8454 - val_loss: 2.4018 - val_accuracy: 0.8425\n",
            "Epoch 17/100\n",
            "350/350 [==============================] - 9s 25ms/step - loss: 2.3575 - accuracy: 0.8454 - val_loss: 2.4018 - val_accuracy: 0.8425\n",
            "Epoch 18/100\n",
            "350/350 [==============================] - 9s 25ms/step - loss: 2.3575 - accuracy: 0.8454 - val_loss: 2.4018 - val_accuracy: 0.8425\n",
            "Epoch 19/100\n",
            "350/350 [==============================] - 9s 25ms/step - loss: 2.3575 - accuracy: 0.8454 - val_loss: 2.4018 - val_accuracy: 0.8425\n",
            "Epoch 20/100\n",
            "350/350 [==============================] - 9s 24ms/step - loss: 2.3575 - accuracy: 0.8454 - val_loss: 2.4018 - val_accuracy: 0.8425\n",
            "Epoch 21/100\n",
            "350/350 [==============================] - 9s 25ms/step - loss: 2.3575 - accuracy: 0.8454 - val_loss: 2.4018 - val_accuracy: 0.8425\n",
            "Epoch 22/100\n",
            "350/350 [==============================] - 9s 25ms/step - loss: 2.3575 - accuracy: 0.8454 - val_loss: 2.4018 - val_accuracy: 0.8425\n",
            "Epoch 23/100\n",
            "350/350 [==============================] - 9s 25ms/step - loss: 2.3575 - accuracy: 0.8454 - val_loss: 2.4018 - val_accuracy: 0.8425\n",
            "Epoch 24/100\n",
            "350/350 [==============================] - 9s 25ms/step - loss: 2.3575 - accuracy: 0.8454 - val_loss: 2.4018 - val_accuracy: 0.8425\n",
            "Epoch 25/100\n",
            "350/350 [==============================] - 9s 25ms/step - loss: 2.3575 - accuracy: 0.8454 - val_loss: 2.4018 - val_accuracy: 0.8425\n",
            "Epoch 26/100\n",
            "350/350 [==============================] - 9s 25ms/step - loss: 2.3575 - accuracy: 0.8454 - val_loss: 2.4018 - val_accuracy: 0.8425\n",
            "Epoch 27/100\n",
            "350/350 [==============================] - 9s 25ms/step - loss: 2.3575 - accuracy: 0.8454 - val_loss: 2.4018 - val_accuracy: 0.8425\n",
            "Epoch 28/100\n",
            "350/350 [==============================] - 9s 25ms/step - loss: 2.3575 - accuracy: 0.8454 - val_loss: 2.4018 - val_accuracy: 0.8425\n",
            "Epoch 29/100\n",
            "350/350 [==============================] - 9s 25ms/step - loss: 2.3575 - accuracy: 0.8454 - val_loss: 2.4018 - val_accuracy: 0.8425\n",
            "Epoch 30/100\n",
            "350/350 [==============================] - 9s 25ms/step - loss: 2.3575 - accuracy: 0.8454 - val_loss: 2.4018 - val_accuracy: 0.8425\n",
            "Epoch 31/100\n",
            "350/350 [==============================] - 9s 25ms/step - loss: 2.3575 - accuracy: 0.8454 - val_loss: 2.4018 - val_accuracy: 0.8425\n",
            "Epoch 32/100\n",
            "350/350 [==============================] - 9s 25ms/step - loss: 2.3575 - accuracy: 0.8454 - val_loss: 2.4018 - val_accuracy: 0.8425\n",
            "Epoch 33/100\n",
            "350/350 [==============================] - 9s 25ms/step - loss: 2.3575 - accuracy: 0.8454 - val_loss: 2.4018 - val_accuracy: 0.8425\n",
            "Epoch 34/100\n",
            "350/350 [==============================] - 9s 25ms/step - loss: 2.3575 - accuracy: 0.8454 - val_loss: 2.4018 - val_accuracy: 0.8425\n",
            "Epoch 35/100\n",
            "350/350 [==============================] - 9s 24ms/step - loss: 2.3575 - accuracy: 0.8454 - val_loss: 2.4018 - val_accuracy: 0.8425\n",
            "Epoch 36/100\n",
            "350/350 [==============================] - 9s 25ms/step - loss: 2.3575 - accuracy: 0.8454 - val_loss: 2.4018 - val_accuracy: 0.8425\n",
            "Epoch 37/100\n",
            "350/350 [==============================] - 9s 25ms/step - loss: 2.3575 - accuracy: 0.8454 - val_loss: 2.4018 - val_accuracy: 0.8425\n",
            "Epoch 38/100\n",
            "350/350 [==============================] - 9s 25ms/step - loss: 2.3575 - accuracy: 0.8454 - val_loss: 2.4018 - val_accuracy: 0.8425\n",
            "Epoch 39/100\n",
            "350/350 [==============================] - 9s 25ms/step - loss: 2.3575 - accuracy: 0.8454 - val_loss: 2.4018 - val_accuracy: 0.8425\n",
            "Epoch 40/100\n",
            "350/350 [==============================] - 9s 25ms/step - loss: 2.3575 - accuracy: 0.8454 - val_loss: 2.4018 - val_accuracy: 0.8425\n",
            "Epoch 41/100\n",
            "350/350 [==============================] - 9s 25ms/step - loss: 2.3575 - accuracy: 0.8454 - val_loss: 2.4018 - val_accuracy: 0.8425\n",
            "Epoch 42/100\n",
            "350/350 [==============================] - 9s 24ms/step - loss: 2.3575 - accuracy: 0.8454 - val_loss: 2.4018 - val_accuracy: 0.8425\n",
            "Epoch 43/100\n",
            "350/350 [==============================] - 9s 25ms/step - loss: 2.3575 - accuracy: 0.8454 - val_loss: 2.4018 - val_accuracy: 0.8425\n",
            "Epoch 44/100\n",
            "350/350 [==============================] - 9s 25ms/step - loss: 2.3575 - accuracy: 0.8454 - val_loss: 2.4018 - val_accuracy: 0.8425\n",
            "Epoch 45/100\n",
            "350/350 [==============================] - 9s 25ms/step - loss: 2.3575 - accuracy: 0.8454 - val_loss: 2.4018 - val_accuracy: 0.8425\n",
            "Epoch 46/100\n",
            "350/350 [==============================] - 9s 24ms/step - loss: 2.3575 - accuracy: 0.8454 - val_loss: 2.4018 - val_accuracy: 0.8425\n",
            "Epoch 47/100\n",
            "350/350 [==============================] - 9s 24ms/step - loss: 2.3575 - accuracy: 0.8454 - val_loss: 2.4018 - val_accuracy: 0.8425\n",
            "Epoch 48/100\n",
            "350/350 [==============================] - 9s 25ms/step - loss: 2.3575 - accuracy: 0.8454 - val_loss: 2.4018 - val_accuracy: 0.8425\n",
            "Epoch 49/100\n",
            "350/350 [==============================] - 9s 24ms/step - loss: 2.3575 - accuracy: 0.8454 - val_loss: 2.4018 - val_accuracy: 0.8425\n",
            "Epoch 50/100\n",
            "350/350 [==============================] - 8s 24ms/step - loss: 2.3575 - accuracy: 0.8454 - val_loss: 2.4018 - val_accuracy: 0.8425\n",
            "Epoch 51/100\n",
            "350/350 [==============================] - 9s 24ms/step - loss: 2.3575 - accuracy: 0.8454 - val_loss: 2.4018 - val_accuracy: 0.8425\n",
            "Epoch 52/100\n",
            "350/350 [==============================] - 9s 24ms/step - loss: 2.3575 - accuracy: 0.8454 - val_loss: 2.4018 - val_accuracy: 0.8425\n",
            "Epoch 53/100\n",
            "350/350 [==============================] - 9s 24ms/step - loss: 2.3575 - accuracy: 0.8454 - val_loss: 2.4018 - val_accuracy: 0.8425\n",
            "Epoch 54/100\n",
            "350/350 [==============================] - 9s 24ms/step - loss: 2.3575 - accuracy: 0.8454 - val_loss: 2.4018 - val_accuracy: 0.8425\n",
            "Epoch 55/100\n",
            "350/350 [==============================] - 9s 24ms/step - loss: 2.3575 - accuracy: 0.8454 - val_loss: 2.4018 - val_accuracy: 0.8425\n",
            "Epoch 56/100\n",
            "350/350 [==============================] - 9s 24ms/step - loss: 2.3575 - accuracy: 0.8454 - val_loss: 2.4018 - val_accuracy: 0.8425\n",
            "Epoch 57/100\n",
            "350/350 [==============================] - 9s 25ms/step - loss: 2.3575 - accuracy: 0.8454 - val_loss: 2.4018 - val_accuracy: 0.8425\n",
            "Epoch 58/100\n",
            "350/350 [==============================] - 9s 25ms/step - loss: 2.3575 - accuracy: 0.8454 - val_loss: 2.4018 - val_accuracy: 0.8425\n",
            "Epoch 59/100\n",
            "350/350 [==============================] - 9s 25ms/step - loss: 2.3575 - accuracy: 0.8454 - val_loss: 2.4018 - val_accuracy: 0.8425\n",
            "Epoch 60/100\n",
            "350/350 [==============================] - 8s 24ms/step - loss: 2.3575 - accuracy: 0.8454 - val_loss: 2.4018 - val_accuracy: 0.8425\n",
            "Epoch 61/100\n",
            "350/350 [==============================] - 9s 25ms/step - loss: 2.3575 - accuracy: 0.8454 - val_loss: 2.4018 - val_accuracy: 0.8425\n",
            "Epoch 62/100\n",
            "350/350 [==============================] - 9s 25ms/step - loss: 2.3575 - accuracy: 0.8454 - val_loss: 2.4018 - val_accuracy: 0.8425\n",
            "Epoch 63/100\n",
            "350/350 [==============================] - 9s 25ms/step - loss: 2.3575 - accuracy: 0.8454 - val_loss: 2.4018 - val_accuracy: 0.8425\n",
            "Epoch 64/100\n",
            "350/350 [==============================] - 9s 25ms/step - loss: 2.3575 - accuracy: 0.8454 - val_loss: 2.4018 - val_accuracy: 0.8425\n",
            "Epoch 65/100\n",
            "350/350 [==============================] - 9s 25ms/step - loss: 2.3575 - accuracy: 0.8454 - val_loss: 2.4018 - val_accuracy: 0.8425\n",
            "Epoch 66/100\n",
            "350/350 [==============================] - 9s 24ms/step - loss: 2.3575 - accuracy: 0.8454 - val_loss: 2.4018 - val_accuracy: 0.8425\n",
            "Epoch 67/100\n",
            "350/350 [==============================] - 9s 24ms/step - loss: 2.3575 - accuracy: 0.8454 - val_loss: 2.4018 - val_accuracy: 0.8425\n",
            "Epoch 68/100\n",
            "350/350 [==============================] - 9s 25ms/step - loss: 2.3575 - accuracy: 0.8454 - val_loss: 2.4018 - val_accuracy: 0.8425\n",
            "Epoch 69/100\n",
            "350/350 [==============================] - 8s 24ms/step - loss: 2.3575 - accuracy: 0.8454 - val_loss: 2.4018 - val_accuracy: 0.8425\n",
            "Epoch 70/100\n",
            "350/350 [==============================] - 9s 24ms/step - loss: 2.3575 - accuracy: 0.8454 - val_loss: 2.4018 - val_accuracy: 0.8425\n",
            "Epoch 71/100\n",
            "350/350 [==============================] - 9s 25ms/step - loss: 2.3575 - accuracy: 0.8454 - val_loss: 2.4018 - val_accuracy: 0.8425\n",
            "Epoch 72/100\n",
            "350/350 [==============================] - 9s 25ms/step - loss: 2.3575 - accuracy: 0.8454 - val_loss: 2.4018 - val_accuracy: 0.8425\n",
            "Epoch 73/100\n",
            "350/350 [==============================] - 9s 24ms/step - loss: 2.3575 - accuracy: 0.8454 - val_loss: 2.4018 - val_accuracy: 0.8425\n",
            "Epoch 74/100\n",
            "350/350 [==============================] - 9s 25ms/step - loss: 2.3575 - accuracy: 0.8454 - val_loss: 2.4018 - val_accuracy: 0.8425\n",
            "Epoch 75/100\n",
            "350/350 [==============================] - 9s 24ms/step - loss: 2.3575 - accuracy: 0.8454 - val_loss: 2.4018 - val_accuracy: 0.8425\n",
            "Epoch 76/100\n",
            "350/350 [==============================] - 9s 25ms/step - loss: 2.3575 - accuracy: 0.8454 - val_loss: 2.4018 - val_accuracy: 0.8425\n",
            "Epoch 77/100\n",
            "350/350 [==============================] - 9s 24ms/step - loss: 2.3575 - accuracy: 0.8454 - val_loss: 2.4018 - val_accuracy: 0.8425\n",
            "Epoch 78/100\n",
            "350/350 [==============================] - 9s 24ms/step - loss: 2.3575 - accuracy: 0.8454 - val_loss: 2.4018 - val_accuracy: 0.8425\n",
            "Epoch 79/100\n",
            "350/350 [==============================] - 9s 25ms/step - loss: 2.3575 - accuracy: 0.8454 - val_loss: 2.4018 - val_accuracy: 0.8425\n",
            "Epoch 80/100\n",
            "350/350 [==============================] - 9s 25ms/step - loss: 2.3575 - accuracy: 0.8454 - val_loss: 2.4018 - val_accuracy: 0.8425\n",
            "Epoch 81/100\n",
            "350/350 [==============================] - 8s 24ms/step - loss: 2.3575 - accuracy: 0.8454 - val_loss: 2.4018 - val_accuracy: 0.8425\n",
            "Epoch 82/100\n",
            "350/350 [==============================] - 9s 24ms/step - loss: 2.3575 - accuracy: 0.8454 - val_loss: 2.4018 - val_accuracy: 0.8425\n",
            "Epoch 83/100\n",
            "350/350 [==============================] - 8s 24ms/step - loss: 2.3575 - accuracy: 0.8454 - val_loss: 2.4018 - val_accuracy: 0.8425\n",
            "Epoch 84/100\n",
            "350/350 [==============================] - 9s 25ms/step - loss: 2.3575 - accuracy: 0.8454 - val_loss: 2.4018 - val_accuracy: 0.8425\n",
            "Epoch 85/100\n",
            "350/350 [==============================] - 8s 24ms/step - loss: 2.3575 - accuracy: 0.8454 - val_loss: 2.4018 - val_accuracy: 0.8425\n",
            "Epoch 86/100\n",
            "350/350 [==============================] - 9s 25ms/step - loss: 2.3575 - accuracy: 0.8454 - val_loss: 2.4018 - val_accuracy: 0.8425\n",
            "Epoch 87/100\n",
            "350/350 [==============================] - 9s 25ms/step - loss: 2.3575 - accuracy: 0.8454 - val_loss: 2.4018 - val_accuracy: 0.8425\n",
            "Epoch 88/100\n",
            "350/350 [==============================] - 9s 25ms/step - loss: 2.3575 - accuracy: 0.8454 - val_loss: 2.4018 - val_accuracy: 0.8425\n",
            "Epoch 89/100\n",
            "350/350 [==============================] - 8s 24ms/step - loss: 2.3575 - accuracy: 0.8454 - val_loss: 2.4018 - val_accuracy: 0.8425\n",
            "Epoch 90/100\n",
            "350/350 [==============================] - 9s 25ms/step - loss: 2.3575 - accuracy: 0.8454 - val_loss: 2.4018 - val_accuracy: 0.8425\n",
            "Epoch 91/100\n",
            "350/350 [==============================] - 9s 25ms/step - loss: 2.3575 - accuracy: 0.8454 - val_loss: 2.4018 - val_accuracy: 0.8425\n",
            "Epoch 92/100\n",
            "350/350 [==============================] - 9s 24ms/step - loss: 2.3575 - accuracy: 0.8454 - val_loss: 2.4018 - val_accuracy: 0.8425\n",
            "Epoch 93/100\n",
            "350/350 [==============================] - 8s 24ms/step - loss: 2.3575 - accuracy: 0.8454 - val_loss: 2.4018 - val_accuracy: 0.8425\n",
            "Epoch 94/100\n",
            "350/350 [==============================] - 9s 24ms/step - loss: 2.3575 - accuracy: 0.8454 - val_loss: 2.4018 - val_accuracy: 0.8425\n",
            "Epoch 95/100\n",
            "350/350 [==============================] - 9s 25ms/step - loss: 2.3575 - accuracy: 0.8454 - val_loss: 2.4018 - val_accuracy: 0.8425\n",
            "Epoch 96/100\n",
            "350/350 [==============================] - 9s 24ms/step - loss: 2.3575 - accuracy: 0.8454 - val_loss: 2.4018 - val_accuracy: 0.8425\n",
            "Epoch 97/100\n",
            "350/350 [==============================] - 8s 24ms/step - loss: 2.3575 - accuracy: 0.8454 - val_loss: 2.4018 - val_accuracy: 0.8425\n",
            "Epoch 98/100\n",
            "350/350 [==============================] - 9s 25ms/step - loss: 2.3575 - accuracy: 0.8454 - val_loss: 2.4018 - val_accuracy: 0.8425\n",
            "Epoch 99/100\n",
            "350/350 [==============================] - 9s 24ms/step - loss: 2.3575 - accuracy: 0.8454 - val_loss: 2.4018 - val_accuracy: 0.8425\n",
            "Epoch 100/100\n",
            "350/350 [==============================] - 9s 24ms/step - loss: 2.3575 - accuracy: 0.8454 - val_loss: 2.4018 - val_accuracy: 0.8425\n"
          ],
          "name": "stdout"
        }
      ]
    },
    {
      "cell_type": "code",
      "metadata": {
        "id": "FGddjKmW2t3Q",
        "colab_type": "code",
        "colab": {
          "base_uri": "https://localhost:8080/",
          "height": 34
        },
        "outputId": "26154b61-7ab1-4886-87fa-491e5a65cc94"
      },
      "source": [
        "scores = model4.evaluate(X_ts, y_ts, verbose=0)\n",
        "print(\"Accuracy: %.2f%%\" % (scores[1]*100))"
      ],
      "execution_count": null,
      "outputs": [
        {
          "output_type": "stream",
          "text": [
            "Accuracy: 84.72%\n"
          ],
          "name": "stdout"
        }
      ]
    },
    {
      "cell_type": "code",
      "metadata": {
        "id": "1NqIBp6H2wx8",
        "colab_type": "code",
        "colab": {
          "base_uri": "https://localhost:8080/",
          "height": 295
        },
        "outputId": "34be43bb-d5c4-4744-cd54-c5216e9b1bf4"
      },
      "source": [
        "plt.plot(history4.history['loss'])\n",
        "plt.plot(history4.history['val_loss'])\n",
        "plt.title('model loss')\n",
        "plt.ylabel('loss')\n",
        "plt.xlabel('epoch')\n",
        "plt.legend(['train', 'test'], loc='upper left')\n",
        "plt.grid()\n",
        "plt.show()"
      ],
      "execution_count": null,
      "outputs": [
        {
          "output_type": "display_data",
          "data": {
            "image/png": "[encoded data removed]",
            "text/plain": [
              "<Figure size 432x288 with 1 Axes>"
            ]
          },
          "metadata": {
            "tags": [],
            "needs_background": "light"
          }
        }
      ]
    },
    {
      "cell_type": "code",
      "metadata": {
        "id": "zEYXckhyM8te",
        "colab_type": "code",
        "colab": {
          "base_uri": "https://localhost:8080/",
          "height": 510
        },
        "outputId": "ed97a259-7238-4b35-8932-d669deb4c875"
      },
      "source": [
        "# create the model\n",
        "import tensorflow as tf\n",
        "from tensorflow.keras.layers import Dense,Dropout,LSTM\n",
        "from tensorflow.keras.models import Sequential\n",
        "from tensorflow.keras.layers import Embedding\n",
        "\n",
        "top_words=5000\n",
        "embedding_vecor_length = 32\n",
        "\n",
        "model5 = Sequential()\n",
        "model5.add(Embedding(top_words+1, embedding_vecor_length, input_length=max_review_length))\n",
        "model5.add(Dropout(0.3))\n",
        "model5.add(LSTM(128,return_sequences=True))\n",
        "model5.add(Dropout(0.3))\n",
        "model5.add(LSTM(64,return_sequences=True))\n",
        "model5.add(Dropout(0.3))\n",
        "model5.add(LSTM(32))\n",
        "model5.add(Dropout(0.3))\n",
        "model5.add(Dense(32,activation='relu'))\n",
        "model5.add(Dense(1, activation='relu'))\n",
        "\n",
        "model5.compile(loss='binary_crossentropy', optimizer='adam', metrics=['accuracy'])\n",
        "print(model5.summary())"
      ],
      "execution_count": 78,
      "outputs": [
        {
          "output_type": "stream",
          "text": [
            "Model: \"sequential_10\"\n",
            "_________________________________________________________________\n",
            "Layer (type)                 Output Shape              Param #   \n",
            "=================================================================\n",
            "embedding_9 (Embedding)      (None, 200, 32)           160032    \n",
            "_________________________________________________________________\n",
            "dropout_25 (Dropout)         (None, 200, 32)           0         \n",
            "_________________________________________________________________\n",
            "lstm_16 (LSTM)               (None, 200, 128)          82432     \n",
            "_________________________________________________________________\n",
            "dropout_26 (Dropout)         (None, 200, 128)          0         \n",
            "_________________________________________________________________\n",
            "lstm_17 (LSTM)               (None, 200, 64)           49408     \n",
            "_________________________________________________________________\n",
            "dropout_27 (Dropout)         (None, 200, 64)           0         \n",
            "_________________________________________________________________\n",
            "lstm_18 (LSTM)               (None, 32)                12416     \n",
            "_________________________________________________________________\n",
            "dropout_28 (Dropout)         (None, 32)                0         \n",
            "_________________________________________________________________\n",
            "dense_16 (Dense)             (None, 32)                1056      \n",
            "_________________________________________________________________\n",
            "dense_17 (Dense)             (None, 1)                 33        \n",
            "=================================================================\n",
            "Total params: 305,377\n",
            "Trainable params: 305,377\n",
            "Non-trainable params: 0\n",
            "_________________________________________________________________\n",
            "None\n"
          ],
          "name": "stdout"
        }
      ]
    },
    {
      "cell_type": "code",
      "metadata": {
        "id": "rxzDL0zYL9Fv",
        "colab_type": "code",
        "colab": {
          "base_uri": "https://localhost:8080/",
          "height": 1000
        },
        "outputId": "051dd05d-d663-418f-cbda-ba40182bd74f"
      },
      "source": [
        "history5=model5.fit(X_tr, y_tr, validation_split=0.2, epochs=30, batch_size=64)"
      ],
      "execution_count": 79,
      "outputs": [
        {
          "output_type": "stream",
          "text": [
            "Epoch 1/30\n",
            "350/350 [==============================] - 13s 36ms/step - loss: 0.8090 - accuracy: 0.7314 - val_loss: 0.4353 - val_accuracy: 0.8425\n",
            "Epoch 2/30\n",
            "350/350 [==============================] - 12s 33ms/step - loss: 0.5157 - accuracy: 0.8279 - val_loss: 0.4879 - val_accuracy: 0.8486\n",
            "Epoch 3/30\n",
            "350/350 [==============================] - 12s 33ms/step - loss: 0.4472 - accuracy: 0.8466 - val_loss: 0.5266 - val_accuracy: 0.8827\n",
            "Epoch 4/30\n",
            "350/350 [==============================] - 12s 33ms/step - loss: 0.3955 - accuracy: 0.8697 - val_loss: 0.5453 - val_accuracy: 0.8879\n",
            "Epoch 5/30\n",
            "350/350 [==============================] - 11s 33ms/step - loss: 0.3836 - accuracy: 0.8685 - val_loss: 0.3671 - val_accuracy: 0.8666\n",
            "Epoch 6/30\n",
            "350/350 [==============================] - 11s 33ms/step - loss: 0.3469 - accuracy: 0.8987 - val_loss: 0.5236 - val_accuracy: 0.8936\n",
            "Epoch 7/30\n",
            "350/350 [==============================] - 12s 33ms/step - loss: 0.4674 - accuracy: 0.7927 - val_loss: 0.8687 - val_accuracy: 0.6266\n",
            "Epoch 8/30\n",
            "350/350 [==============================] - 11s 33ms/step - loss: 0.4605 - accuracy: 0.8346 - val_loss: 0.6731 - val_accuracy: 0.8768\n",
            "Epoch 9/30\n",
            "350/350 [==============================] - 11s 33ms/step - loss: 0.3556 - accuracy: 0.9081 - val_loss: 0.5550 - val_accuracy: 0.8759\n",
            "Epoch 10/30\n",
            "350/350 [==============================] - 12s 33ms/step - loss: 0.3225 - accuracy: 0.9070 - val_loss: 0.6131 - val_accuracy: 0.8927\n",
            "Epoch 11/30\n",
            "350/350 [==============================] - 11s 33ms/step - loss: 0.3423 - accuracy: 0.8900 - val_loss: 0.5478 - val_accuracy: 0.8755\n",
            "Epoch 12/30\n",
            "350/350 [==============================] - 11s 33ms/step - loss: 0.3383 - accuracy: 0.8988 - val_loss: 0.5540 - val_accuracy: 0.8871\n",
            "Epoch 13/30\n",
            "350/350 [==============================] - 11s 33ms/step - loss: 0.2944 - accuracy: 0.9190 - val_loss: 0.6102 - val_accuracy: 0.8818\n",
            "Epoch 14/30\n",
            "350/350 [==============================] - 12s 33ms/step - loss: 0.2809 - accuracy: 0.9244 - val_loss: 0.5815 - val_accuracy: 0.8948\n",
            "Epoch 15/30\n",
            "350/350 [==============================] - 11s 32ms/step - loss: 0.2407 - accuracy: 0.9419 - val_loss: 0.5848 - val_accuracy: 0.9009\n",
            "Epoch 16/30\n",
            "350/350 [==============================] - 12s 33ms/step - loss: 0.2741 - accuracy: 0.9198 - val_loss: 0.4679 - val_accuracy: 0.8716\n",
            "Epoch 17/30\n",
            "350/350 [==============================] - 11s 33ms/step - loss: 0.2510 - accuracy: 0.9360 - val_loss: 0.7102 - val_accuracy: 0.8909\n",
            "Epoch 18/30\n",
            "350/350 [==============================] - 12s 33ms/step - loss: 0.2137 - accuracy: 0.9440 - val_loss: 0.6437 - val_accuracy: 0.8950\n",
            "Epoch 19/30\n",
            "350/350 [==============================] - 11s 33ms/step - loss: 0.2211 - accuracy: 0.9516 - val_loss: 0.6784 - val_accuracy: 0.9007\n",
            "Epoch 20/30\n",
            "350/350 [==============================] - 11s 33ms/step - loss: 0.2045 - accuracy: 0.9516 - val_loss: 0.5861 - val_accuracy: 0.8682\n",
            "Epoch 21/30\n",
            "350/350 [==============================] - 11s 33ms/step - loss: 0.2014 - accuracy: 0.9571 - val_loss: 0.7548 - val_accuracy: 0.8929\n",
            "Epoch 22/30\n",
            "350/350 [==============================] - 11s 33ms/step - loss: 0.1765 - accuracy: 0.9652 - val_loss: 0.7751 - val_accuracy: 0.8989\n",
            "Epoch 23/30\n",
            "350/350 [==============================] - 12s 33ms/step - loss: 0.2322 - accuracy: 0.9452 - val_loss: 0.6316 - val_accuracy: 0.8804\n",
            "Epoch 24/30\n",
            "350/350 [==============================] - 11s 33ms/step - loss: 0.1988 - accuracy: 0.9504 - val_loss: 0.7856 - val_accuracy: 0.8930\n",
            "Epoch 25/30\n",
            "350/350 [==============================] - 11s 33ms/step - loss: 0.1771 - accuracy: 0.9672 - val_loss: 0.6909 - val_accuracy: 0.8879\n",
            "Epoch 26/30\n",
            "350/350 [==============================] - 12s 33ms/step - loss: 0.1899 - accuracy: 0.9616 - val_loss: 0.6753 - val_accuracy: 0.8893\n",
            "Epoch 27/30\n",
            "350/350 [==============================] - 12s 33ms/step - loss: 0.1913 - accuracy: 0.9540 - val_loss: 0.9616 - val_accuracy: 0.8995\n",
            "Epoch 28/30\n",
            "350/350 [==============================] - 12s 33ms/step - loss: 0.4709 - accuracy: 0.7877 - val_loss: 0.8192 - val_accuracy: 0.8798\n",
            "Epoch 29/30\n",
            "350/350 [==============================] - 12s 34ms/step - loss: 0.2248 - accuracy: 0.9415 - val_loss: 0.4259 - val_accuracy: 0.8670\n",
            "Epoch 30/30\n",
            "350/350 [==============================] - 12s 34ms/step - loss: 0.1927 - accuracy: 0.9598 - val_loss: 0.8141 - val_accuracy: 0.8948\n"
          ],
          "name": "stdout"
        }
      ]
    },
    {
      "cell_type": "code",
      "metadata": {
        "id": "HZwGnbjjNaRm",
        "colab_type": "code",
        "colab": {
          "base_uri": "https://localhost:8080/",
          "height": 34
        },
        "outputId": "e1353e0e-7c3b-4578-96fa-3ea2e4ca87ae"
      },
      "source": [
        "scores = model5.evaluate(X_ts, y_ts, verbose=0)\n",
        "print(\"Accuracy: %.2f%%\" % (scores[1]*100))"
      ],
      "execution_count": 80,
      "outputs": [
        {
          "output_type": "stream",
          "text": [
            "Accuracy: 89.72%\n"
          ],
          "name": "stdout"
        }
      ]
    },
    {
      "cell_type": "code",
      "metadata": {
        "id": "4WiW4ZndNd5q",
        "colab_type": "code",
        "colab": {
          "base_uri": "https://localhost:8080/",
          "height": 295
        },
        "outputId": "f8c721ee-eb24-4793-913a-086333fce673"
      },
      "source": [
        "plt.plot(history5.history['loss'])\n",
        "plt.plot(history5.history['val_loss'])\n",
        "plt.title('model loss')\n",
        "plt.ylabel('loss')\n",
        "plt.xlabel('epoch')\n",
        "plt.legend(['train', 'test'], loc='upper left')\n",
        "plt.grid()\n",
        "plt.show()"
      ],
      "execution_count": 81,
      "outputs": [
        {
          "output_type": "display_data",
          "data": {
            "image/png": "[encoded data removed]",
            "text/plain": [
              "<Figure size 432x288 with 1 Axes>"
            ]
          },
          "metadata": {
            "tags": [],
            "needs_background": "light"
          }
        }
      ]
    },
    {
      "cell_type": "code",
      "metadata": {
        "id": "TCORNgfqRhg3",
        "colab_type": "code",
        "colab": {
          "base_uri": "https://localhost:8080/",
          "height": 170
        },
        "outputId": "7703fed1-3b4a-4565-9458-1502fa641137"
      },
      "source": [
        "from prettytable import PrettyTable\n",
        "x = PrettyTable()\n",
        "x.field_names = [\"S.NO.\", \"architecture\", \"Epochs\", \"Test Accuracy\"]\n",
        "x.add_row([\"1\", \"Keras LSTM(100)\", \"10\",\"89.67%\"])\n",
        "x.add_row([\"2\", \"Keras LSTM(50)\",\"10\",\"90.13%\"])\n",
        "x.add_row([\"3\", \"Keras LSTM(50) + Dropouts\", \"10\",\"90.38%\"])\n",
        "x.add_row([\"4\", \"TenserFlow LSTM(128,32)+ Dense(32,1)+Dropouts\",\"100\",\"84.72%\"])\n",
        "x.add_row([\"5\", \"TenserFlow LSTM(128,64,32)+ Dense(32,1)+Dropouts\",\"30\",\"89.72%\"])\n",
        "print(x)"
      ],
      "execution_count": 86,
      "outputs": [
        {
          "output_type": "stream",
          "text": [
            "+-------+--------------------------------------------------+--------+---------------+\n",
            "| S.NO. |                   architecture                   | Epochs | Test Accuracy |\n",
            "+-------+--------------------------------------------------+--------+---------------+\n",
            "|   1   |                 Keras LSTM(100)                  |   10   |     89.67%    |\n",
            "|   2   |                  Keras LSTM(50)                  |   10   |     90.13%    |\n",
            "|   3   |            Keras LSTM(50) + Dropouts             |   10   |     90.38%    |\n",
            "|   4   |  TenserFlow LSTM(128,32)+ Dense(32,1)+Dropouts   |  100   |     84.72%    |\n",
            "|   5   | TenserFlow LSTM(128,64,32)+ Dense(32,1)+Dropouts |   30   |     89.72%    |\n",
            "+-------+--------------------------------------------------+--------+---------------+\n"
          ],
          "name": "stdout"
        }
      ]
    }
  ]
}